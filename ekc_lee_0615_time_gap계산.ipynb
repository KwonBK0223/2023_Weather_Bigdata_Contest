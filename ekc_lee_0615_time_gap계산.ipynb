{
 "cells": [
  {
   "cell_type": "code",
   "execution_count": null,
   "metadata": {},
   "outputs": [],
   "source": [
    "import pandas as pd\n",
    "import numpy as np"
   ]
  },
  {
   "cell_type": "code",
   "execution_count": null,
   "metadata": {},
   "outputs": [],
   "source": [
    "total = pd.read_csv(\"../기상청공모전/data/total_data.csv\")\n",
    "total.head()"
   ]
  },
  {
   "cell_type": "code",
   "execution_count": null,
   "metadata": {},
   "outputs": [],
   "source": [
    "# 'time_gap' i 와 i-1 번째 사이 시간 차이\n",
    "total['time_gap'] = 0"
   ]
  },
  {
   "cell_type": "code",
   "execution_count": null,
   "metadata": {},
   "outputs": [],
   "source": [
    "for i in range(1, len(total)+1):\n",
    "    if total.loc[i, 'time_gap'] == 0:\n",
    "        dt = (pd.to_datetime(total.loc[i, 'time']) - pd.to_datetime(total.loc[i-1, 'time'])).total_seconds()\n",
    "        if dt != 0:\n",
    "            total.loc[i, 'time_gap'] = dt\n",
    "        else:\n",
    "            a = total.loc[(total['num'] == total.loc[i, 'num']) & (total['time'] == total.loc[i, 'time'])].index.tolist()\n",
    "            total.loc[a, 'time_gap'] = 1 / len(a)\n",
    "\n",
    "# 결과 출력\n",
    "print(total)\n"
   ]
  }
 ],
 "metadata": {
  "kernelspec": {
   "display_name": "base",
   "language": "python",
   "name": "python3"
  },
  "language_info": {
   "codemirror_mode": {
    "name": "ipython",
    "version": 3
   },
   "file_extension": ".py",
   "mimetype": "text/x-python",
   "name": "python",
   "nbconvert_exporter": "python",
   "pygments_lexer": "ipython3",
   "version": "3.9.13"
  },
  "orig_nbformat": 4
 },
 "nbformat": 4,
 "nbformat_minor": 2
}
