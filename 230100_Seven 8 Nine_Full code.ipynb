{
 "cells": [
  {
   "cell_type": "code",
   "execution_count": 1,
   "id": "dec4ce37",
   "metadata": {
    "ExecuteTime": {
     "end_time": "2023-07-06T05:42:40.252003Z",
     "start_time": "2023-07-06T05:42:29.652298Z"
    }
   },
   "outputs": [],
   "source": [
    "import pandas as pd\n",
    "import numpy as np\n",
    "import matplotlib.pyplot as plt\n",
    "from imblearn.over_sampling import *\n",
    "import xgboost as xgb\n",
    "from sklearn.model_selection import train_test_split\n",
    "from sklearn.metrics import accuracy_score,f1_score\n",
    "from haversine import haversine\n",
    "from datetime import *"
   ]
  },
  {
   "cell_type": "code",
   "execution_count": 2,
   "id": "96dea0a7",
   "metadata": {
    "ExecuteTime": {
     "end_time": "2023-07-06T05:42:41.061272Z",
     "start_time": "2023-07-06T05:42:40.255000Z"
    }
   },
   "outputs": [],
   "source": [
    "busan_anch_train_final = pd.read_csv(\"../기상청공모전/data/busan_anch_train_final.csv\",encoding = \"utf-8\", index_col=0)\n",
    "busan = busan_anch_train_final.copy()\n",
    "\n",
    "col_name ={'busan_anch_train_final.num':'num',\n",
    "      'busan_anch_train_final.time':'time',\n",
    "      'busan_anch_train_final.latitude':'latitude',\n",
    "      'busan_anch_train_final.longitude':'longitude',\n",
    "      'busan_anch_train_final.sog':'sog',\n",
    "      'busan_anch_train_final.cog':'cog',\n",
    "      'busan_anch_train_final.hdg':'hdg'}\n",
    "\n",
    "busan.rename(columns=col_name, inplace=True)\n",
    "\n",
    "busan.time = busan.time.str[1:-1]\n",
    "busan.time = pd.to_datetime(busan.time)\n",
    "\n",
    "busan.latitude = busan.latitude.str[2:-1]\n",
    "busan.longitude = busan.longitude.str[2:-1]\n",
    "\n",
    "busan.hdg = busan.hdg.str[1:-1]\n",
    "\n",
    "lt = list(busan[busan.hdg=='-99.-'].index)\n",
    "for i in lt:\n",
    "    busan.loc[i,'hdg']='-99.9'\n",
    "    \n",
    "busan = busan.astype({'latitude':'float','longitude':'float', 'hdg':'float'})\n",
    "\n",
    "busan['anchor_drag'] = 0\n",
    "\n",
    "busan.to_csv('../기상청공모전/data/busan_anch.csv', encoding = \"utf-8\", index=False)"
   ]
  },
  {
   "cell_type": "code",
   "execution_count": 3,
   "id": "df6afad7",
   "metadata": {
    "ExecuteTime": {
     "end_time": "2023-07-06T05:42:42.857686Z",
     "start_time": "2023-07-06T05:42:41.063281Z"
    }
   },
   "outputs": [],
   "source": [
    "ulsan_anch_train_final = pd.read_csv(\"../기상청공모전/data/ulsan_anch_train_final.csv\",encoding = \"utf-8\", index_col=0)\n",
    "ulsan = ulsan_anch_train_final.copy()\n",
    "\n",
    "# 컬럼명 변경\n",
    "col_name ={'ulsan_anch_train_final.num':'num',\n",
    "      'ulsan_anch_train_final.time':'time',\n",
    "      'ulsan_anch_train_final.latitude':'latitude',\n",
    "      'ulsan_anch_train_final.longitude':'longitude',\n",
    "      'ulsan_anch_train_final.sog':'sog',\n",
    "      'ulsan_anch_train_final.cog':'cog',\n",
    "      'ulsan_anch_train_final.hdg':'hdg'}\n",
    "\n",
    "ulsan.rename(columns=col_name, inplace=True)\n",
    "\n",
    "# 위도 경도 데이터 실수화\n",
    "ulsan.time = ulsan.time.str[1:-1]\n",
    "ulsan.time = pd.to_datetime(ulsan.time)\n",
    "ulsan.latitude = ulsan.latitude.str[2:-1]\n",
    "ulsan.longitude = ulsan.longitude.str[2:-1]\n",
    "\n",
    "ulsan = ulsan.astype({'latitude':'float','longitude':'float'})\n",
    "\n",
    "# 답안 컬럼 추가\n",
    "ulsan['anchor_drag'] = 0\n",
    "\n",
    "# 데이터 저장\n",
    "ulsan.to_csv('../기상청공모전/data/ulsan_anch.csv', encoding = \"utf-8\", index=False)"
   ]
  },
  {
   "cell_type": "code",
   "execution_count": 4,
   "id": "dfd6a229",
   "metadata": {
    "ExecuteTime": {
     "end_time": "2023-07-06T05:42:45.864597Z",
     "start_time": "2023-07-06T05:42:42.859649Z"
    }
   },
   "outputs": [],
   "source": [
    "busan_drag_train_final = pd.read_csv(\"../기상청공모전/data/busan_drag_train_final.csv\",encoding = \"utf-8\", index_col=0)\n",
    "busan_answer = pd.read_csv(\"../기상청공모전/data/busan_answer.csv\",encoding = \"utf-8\", index_col=0)\n",
    "\n",
    "busan = busan_drag_train_final.copy()\n",
    "banswer = busan_answer.copy()\n",
    "\n",
    "col_name ={'busan_drag_train_final.num':'num',\n",
    "      'busan_drag_train_final.time':'time',\n",
    "      'busan_drag_train_final.latitude':'latitude',\n",
    "      'busan_drag_train_final.longitude':'longitude',\n",
    "      'busan_drag_train_final.sog':'sog',\n",
    "      'busan_drag_train_final.cog':'cog',\n",
    "      'busan_drag_train_final.hdg':'hdg'}\n",
    "\n",
    "busan.rename(columns=col_name, inplace=True)\n",
    "\n",
    "busan.latitude = busan.latitude.str[2:-1]\n",
    "busan.longitude = busan.longitude.str[2:-1]\n",
    "\n",
    "busan = busan.astype({'latitude':'float','longitude':'float'})\n",
    "\n",
    "banswer['busan_answer.lat'] = banswer['busan_answer.lat'].str[2:-1]\n",
    "banswer['busan_answer.lon'] = banswer['busan_answer.lon'].str[2:-1]\n",
    "\n",
    "banswer = banswer.astype({'busan_answer.lat':'float','busan_answer.lon':'float'})\n",
    "\n",
    "busan.time = busan.time.str[1:-1]\n",
    "busan.time = pd.to_datetime(busan.time)\n",
    "\n",
    "i_col2 = list(busan['num'].unique())\n",
    "anchor_drag2 = [0 for i in range(len(i_col2))]\n",
    "\n",
    "busan['anchor_drag'] = 0\n",
    "\n",
    "nowhere_busan = []\n",
    "for i in i_col2:\n",
    "    col = banswer[banswer['busan_answer.num']==i]\n",
    "    n_df = busan[(busan['latitude']==col['busan_answer.lat'].values[0])&(busan['longitude']==col['busan_answer.lon'].values[0])]\n",
    "    if len(n_df.index)==0:\n",
    "        nowhere_busan.append(i)\n",
    "\n",
    "for i in i_col2:\n",
    "    col = banswer[banswer['busan_answer.num']==i]\n",
    "    \n",
    "    if i in nowhere_busan:\n",
    "        n_df = busan[(busan.num==i)&\n",
    "                     (busan.time.dt.year == col['busan_answer.year'].values[0])&\n",
    "                     (busan.time.dt.month == col['busan_answer.mon'].values[0])&\n",
    "                     (busan.time.dt.day == col['busan_answer.day'].values[0])&\n",
    "                     (busan.time.dt.hour == col['busan_answer.hour'].values[0])&\n",
    "                     (busan.time.dt.minute == col['busan_answer.min'].values[0])]\n",
    "        start = n_df.index[0]\n",
    "        \n",
    "    else:\n",
    "        n_df = busan[(busan['latitude']==col['busan_answer.lat'].values[0])&\n",
    "                              (busan['longitude']==col['busan_answer.lon'].values[0])]\n",
    "        start = n_df.index[0]\n",
    "    \n",
    "    end = busan[busan['num']==i].index[-1]\n",
    "    \n",
    "    busan.loc[start:end, 'anchor_drag']=1\n",
    "\n",
    "busan.to_csv('../기상청공모전/data/busan_drag&answer.csv', encoding = \"utf-8\", index=False)"
   ]
  },
  {
   "cell_type": "code",
   "execution_count": 5,
   "id": "67e14d02",
   "metadata": {
    "ExecuteTime": {
     "end_time": "2023-07-06T05:42:49.140831Z",
     "start_time": "2023-07-06T05:42:45.866593Z"
    }
   },
   "outputs": [],
   "source": [
    "ulsan_drag_train_final = pd.read_csv(\"../기상청공모전/data/ulsan_drag_train_final.csv\",encoding = \"utf-8\", index_col=0)\n",
    "ulsan_answer = pd.read_csv(\"../기상청공모전/data/ulsan_answer.csv\",encoding = \"utf-8\", index_col=0)\n",
    "ulsan = ulsan_drag_train_final.copy()\n",
    "\n",
    "col_name ={'ulsan_drag_train_final.num':'num',\n",
    "      'ulsan_drag_train_final.time':'time',\n",
    "      'ulsan_drag_train_final.latitude':'latitude',\n",
    "      'ulsan_drag_train_final.longitude':'longitude',\n",
    "      'ulsan_drag_train_final.sog':'sog',\n",
    "      'ulsan_drag_train_final.cog':'cog',\n",
    "      'ulsan_drag_train_final.hdg':'hdg'}\n",
    "\n",
    "ulsan.rename(columns=col_name, inplace=True)\n",
    "\n",
    "ulsan.latitude = ulsan.latitude.str[2:-1]\n",
    "ulsan.longitude = ulsan.longitude.str[2:-1]\n",
    "\n",
    "ulsan = ulsan.astype({'latitude':'float','longitude':'float'})\n",
    "\n",
    "\n",
    "ulsan.time = ulsan.time.str[1:-1]\n",
    "ulsan.time = pd.to_datetime(ulsan.time)\n",
    "\n",
    "ulsan['anchor_drag'] = 0\n",
    "\n",
    "uanswer = ulsan_answer.copy()\n",
    "uanswer['ulsan_answer.lat'] = uanswer['ulsan_answer.lat'].str[2:-1]\n",
    "uanswer['ulsan_answer.lon'] = uanswer['ulsan_answer.lon'].str[2:-1]\n",
    "uanswer = uanswer.astype({'ulsan_answer.lat':'float','ulsan_answer.lon':'float'})\n",
    "\n",
    "i_col = list(ulsan_drag_train_final['ulsan_drag_train_final.num'].unique())\n",
    "nowhere_ulsan = []\n",
    "for i in i_col:\n",
    "    col = uanswer[uanswer['ulsan_answer.num']==i]\n",
    "    n_df = ulsan[(ulsan['latitude']==col['ulsan_answer.lat'].values[0])&(ulsan['longitude']==col['ulsan_answer.lon'].values[0])]\n",
    "    if len(n_df.index)==0:\n",
    "        nowhere_ulsan.append(i)\n",
    "\n",
    "for i in i_col:\n",
    "    col = uanswer[uanswer['ulsan_answer.num']==i]\n",
    "    \n",
    "    if i in nowhere_ulsan:                       \n",
    "        n_df = ulsan[(ulsan.num==i)&\n",
    "                     (ulsan.time.dt.year == col['ulsan_answer.year'].values[0])&\n",
    "                     (ulsan.time.dt.month == col['ulsan_answer.mon'].values[0])&\n",
    "                     (ulsan.time.dt.day == col['ulsan_answer.day'].values[0])&\n",
    "                     (ulsan.time.dt.hour == col['ulsan_answer.hour'].values[0])&\n",
    "                     (ulsan.time.dt.minute == col['ulsan_answer.min'].values[0])]\n",
    "        start = n_df.index[0]\n",
    "        \n",
    "    else:\n",
    "        n_df = ulsan[(ulsan['latitude']==col['ulsan_answer.lat'].values[0])&\n",
    "                                      (ulsan['longitude']==col['ulsan_answer.lon'].values[0])]\n",
    "        start = n_df.index[0]\n",
    "        \n",
    "    end = ulsan[ulsan['num']==i].index[-1]\n",
    "    \n",
    "    ulsan.loc[start:end, 'anchor_drag']=1\n",
    "\n",
    "ulsan.to_csv('../기상청공모전/data/ulsan_drag&answer.csv', encoding = \"utf-8\", index=False)"
   ]
  },
  {
   "cell_type": "code",
   "execution_count": 6,
   "id": "238ec594",
   "metadata": {
    "ExecuteTime": {
     "end_time": "2023-07-06T05:42:54.092618Z",
     "start_time": "2023-07-06T05:42:49.142826Z"
    }
   },
   "outputs": [],
   "source": [
    "ulsan_anch = pd.read_csv(\"../기상청공모전/data/ulsan_anch.csv\",encoding = \"utf-8\")\n",
    "busan_anch = pd.read_csv(\"../기상청공모전/data/busan_anch.csv\",encoding = \"utf-8\")\n",
    "ulsan_drag = pd.read_csv(\"../기상청공모전/data/ulsan_drag&answer.csv\",encoding = \"utf-8\")\n",
    "busan_drag = pd.read_csv(\"../기상청공모전/data/busan_drag&answer.csv\",encoding = \"utf-8\")\n",
    "\n",
    "ulsan_anch.num = ulsan_anch.num+1000\n",
    "busan_anch.num = busan_anch.num+2000\n",
    "ulsan_drag.num = ulsan_drag.num+3000\n",
    "busan_drag.num = busan_drag.num+4000\n",
    "\n",
    "total_data= pd.concat([ulsan_anch,busan_anch,ulsan_drag,busan_drag]).reset_index(drop=True)\n",
    "total_data.to_csv('../기상청공모전/data/total_data.csv', index=False)"
   ]
  },
  {
   "cell_type": "code",
   "execution_count": 7,
   "id": "70ac0287",
   "metadata": {
    "ExecuteTime": {
     "end_time": "2023-07-06T05:42:54.137502Z",
     "start_time": "2023-07-06T05:42:54.094576Z"
    }
   },
   "outputs": [],
   "source": [
    "_order = [\"anchor_drag\", \"num\", \"time\", \"latitude\", \"longitude\",\"sog\",\"cog\",\"hdg\"]\n",
    "total = total_data.reindex(columns = _order)"
   ]
  },
  {
   "cell_type": "code",
   "execution_count": 8,
   "id": "f4db38e5",
   "metadata": {
    "ExecuteTime": {
     "end_time": "2023-07-06T05:47:20.181631Z",
     "start_time": "2023-07-06T05:42:54.139469Z"
    }
   },
   "outputs": [],
   "source": [
    "for i in range(1,len(total)):\n",
    "    total.loc[i,'d_lati'] = total.loc[i,'latitude'] - total.loc[i-1,'latitude']\n",
    "    total.loc[i,'d_long'] = total.loc[i,'longitude'] - total.loc[i-1,'longitude']\n",
    "    \n",
    "for i in range(1,len(total)):\n",
    "    total.loc[i,'d_d_lati'] = total.loc[i,'d_lati'] - total.loc[i-1,'d_lati']\n",
    "    total.loc[i,'d_d_long'] = total.loc[i,'d_lati'] - total.loc[i-1,'d_lati']"
   ]
  },
  {
   "cell_type": "code",
   "execution_count": 9,
   "id": "bd8e7bdc",
   "metadata": {
    "ExecuteTime": {
     "end_time": "2023-07-06T05:47:21.393415Z",
     "start_time": "2023-07-06T05:47:20.183615Z"
    }
   },
   "outputs": [],
   "source": [
    "s1 = -99.9\n",
    "s2 = -99\n",
    "\n",
    "total[\"cog\"] = total[\"cog\"].replace(s1,float('nan'))\n",
    "total[\"hdg\"] = total[\"hdg\"].replace(s1,float('nan'))\n",
    "total[\"hdg\"] = total[\"hdg\"].replace(s2,float('nan'))\n",
    "\n",
    "total = total.interpolate(method = \"quadratic\")"
   ]
  },
  {
   "cell_type": "code",
   "execution_count": 10,
   "id": "877e6a5c",
   "metadata": {
    "ExecuteTime": {
     "end_time": "2023-07-06T06:29:55.262746Z",
     "start_time": "2023-07-06T05:47:21.398366Z"
    }
   },
   "outputs": [],
   "source": [
    "total['time_gap'] = 0\n",
    "\n",
    "for i in range(1, len(total)):\n",
    "    if total.loc[i, 'time_gap'] == 0:\n",
    "        dt = (pd.to_datetime(total.loc[i, 'time']) - pd.to_datetime(total.loc[i-1, 'time'])).total_seconds()\n",
    "        if dt != 0:\n",
    "            total.loc[i, 'time_gap'] = dt\n",
    "        else:\n",
    "            a = total.loc[(total['num'] == total.loc[i, 'num']) & (total['time'] == total.loc[i, 'time'])].index.tolist()\n",
    "            total.loc[a, 'time_gap'] = 1 / len(a)"
   ]
  },
  {
   "cell_type": "code",
   "execution_count": 11,
   "id": "97ecf943",
   "metadata": {
    "ExecuteTime": {
     "end_time": "2023-07-06T06:30:04.119182Z",
     "start_time": "2023-07-06T06:29:55.270706Z"
    }
   },
   "outputs": [],
   "source": [
    "total.to_csv(\"preprocessing1.csv\", index=False)"
   ]
  },
  {
   "cell_type": "code",
   "execution_count": 13,
   "id": "471af7e4",
   "metadata": {
    "ExecuteTime": {
     "end_time": "2023-07-06T06:42:41.631294Z",
     "start_time": "2023-07-06T06:42:40.193136Z"
    }
   },
   "outputs": [],
   "source": [
    "total = pd.read_csv(\"preprocessing1.csv\")"
   ]
  },
  {
   "cell_type": "code",
   "execution_count": 14,
   "id": "6b754160",
   "metadata": {
    "ExecuteTime": {
     "end_time": "2023-07-06T06:45:11.202162Z",
     "start_time": "2023-07-06T06:42:46.465560Z"
    }
   },
   "outputs": [],
   "source": [
    "for i in range(1, len(total)):\n",
    "    total.loc[i, 'km/s'] = haversine((total.loc[i, 'latitude'],total.loc[i, 'longitude']),(total.loc[i-1, 'latitude'],total.loc[i-1, 'longitude']),unit = 'km')\n",
    "\n",
    "for i in range(2, len(total)):\n",
    "    total.loc[i, 'km/s_2'] = (total.loc[i, 'km/s'] - total.loc[i-1, 'km/s']) / total.loc[i,'time_gap']"
   ]
  },
  {
   "cell_type": "code",
   "execution_count": 15,
   "id": "0d633dab",
   "metadata": {
    "ExecuteTime": {
     "end_time": "2023-07-06T06:45:12.024788Z",
     "start_time": "2023-07-06T06:45:11.205187Z"
    }
   },
   "outputs": [],
   "source": [
    "# 각 배 번호의 1번째 2번째 삭제\n",
    "ship_num = total.iloc[:, 1].unique()\n",
    "\n",
    "_drop = []\n",
    "for i in ship_num:\n",
    "    k = total[total[\"num\"] == i].index[0]\n",
    "    _drop.append(k)\n",
    "    k += 1\n",
    "    _drop.append(k)\n",
    "\n",
    "total = total[~total.index.isin(_drop)]\n",
    "\n",
    "total = total[['anchor_drag', 'num', 'time', 'latitude', 'longitude', 'sog', 'cog', 'hdg', 'time_gap', 'km/s', 'km/s_2', 'd_lati', 'd_long', 'd_d_lati', 'd_d_long']]\n",
    "total.columns = ['anchor_drag','num', 'time', 'latitude', 'longitude', 'sog', 'cog', 'hdg', 'time_gap', 'd_km/s', 'dd_km/s', 'd_lati', 'd_long', 'd_d_lati', 'd_d_long']\n",
    "total = total.reset_index(drop=True)"
   ]
  },
  {
   "cell_type": "code",
   "execution_count": 16,
   "id": "adf83975",
   "metadata": {
    "ExecuteTime": {
     "end_time": "2023-07-06T06:45:13.192673Z",
     "start_time": "2023-07-06T06:45:12.026784Z"
    }
   },
   "outputs": [],
   "source": [
    "ship_num = total[total['num']>3000]['num'].unique()\n",
    "\n",
    "drop_list = []\n",
    "\n",
    "for i in ship_num:\n",
    "    drop_index = []\n",
    "    drop_index = total[(total['num']==i) & (total[\"anchor_drag\"] == 1)].index.tolist()\n",
    "    if not drop_index:\n",
    "        continue\n",
    "    else:\n",
    "        drop_list.extend(drop_index)\n",
    "        drop_list.remove(min(drop_index))\n",
    "total = total[~total.index.isin(drop_list)]\n",
    "\n",
    "total = total.reset_index(drop=True)"
   ]
  },
  {
   "cell_type": "code",
   "execution_count": 17,
   "id": "4296b401",
   "metadata": {
    "ExecuteTime": {
     "end_time": "2023-07-06T06:45:25.454751Z",
     "start_time": "2023-07-06T06:45:13.196653Z"
    }
   },
   "outputs": [],
   "source": [
    "total.to_csv(\"preprocessing2.csv\",index=False)"
   ]
  },
  {
   "cell_type": "code",
   "execution_count": 19,
   "id": "d45ab3d4",
   "metadata": {
    "ExecuteTime": {
     "end_time": "2023-07-06T06:48:54.091896Z",
     "start_time": "2023-07-06T06:48:52.349519Z"
    }
   },
   "outputs": [],
   "source": [
    "total = pd.read_csv(\"preprocessing2.csv\")"
   ]
  },
  {
   "cell_type": "code",
   "execution_count": 20,
   "id": "9f829e13",
   "metadata": {
    "ExecuteTime": {
     "end_time": "2023-07-06T06:48:57.712170Z",
     "start_time": "2023-07-06T06:48:57.648340Z"
    }
   },
   "outputs": [
    {
     "data": {
      "text/html": [
       "<div>\n",
       "<style scoped>\n",
       "    .dataframe tbody tr th:only-of-type {\n",
       "        vertical-align: middle;\n",
       "    }\n",
       "\n",
       "    .dataframe tbody tr th {\n",
       "        vertical-align: top;\n",
       "    }\n",
       "\n",
       "    .dataframe thead th {\n",
       "        text-align: right;\n",
       "    }\n",
       "</style>\n",
       "<table border=\"1\" class=\"dataframe\">\n",
       "  <thead>\n",
       "    <tr style=\"text-align: right;\">\n",
       "      <th></th>\n",
       "      <th>anchor_drag</th>\n",
       "      <th>num</th>\n",
       "      <th>time</th>\n",
       "      <th>latitude</th>\n",
       "      <th>longitude</th>\n",
       "      <th>sog</th>\n",
       "      <th>cog</th>\n",
       "      <th>hdg</th>\n",
       "      <th>time_gap</th>\n",
       "      <th>d_km/s</th>\n",
       "      <th>dd_km/s</th>\n",
       "      <th>d_lati</th>\n",
       "      <th>d_long</th>\n",
       "      <th>d_d_lati</th>\n",
       "      <th>d_d_long</th>\n",
       "    </tr>\n",
       "  </thead>\n",
       "  <tbody>\n",
       "    <tr>\n",
       "      <th>0</th>\n",
       "      <td>0</td>\n",
       "      <td>1001</td>\n",
       "      <td>2021-01-03 11:14:38</td>\n",
       "      <td>35.461472</td>\n",
       "      <td>129.439878</td>\n",
       "      <td>0.4</td>\n",
       "      <td>9.6</td>\n",
       "      <td>273.0</td>\n",
       "      <td>182.0</td>\n",
       "      <td>0.045969</td>\n",
       "      <td>-0.000152</td>\n",
       "      <td>0.000312</td>\n",
       "      <td>0.000333</td>\n",
       "      <td>0.000342</td>\n",
       "      <td>0.000342</td>\n",
       "    </tr>\n",
       "    <tr>\n",
       "      <th>1</th>\n",
       "      <td>0</td>\n",
       "      <td>1001</td>\n",
       "      <td>2021-01-03 11:17:33</td>\n",
       "      <td>35.461688</td>\n",
       "      <td>129.439792</td>\n",
       "      <td>0.2</td>\n",
       "      <td>328.0</td>\n",
       "      <td>267.0</td>\n",
       "      <td>175.0</td>\n",
       "      <td>0.025250</td>\n",
       "      <td>-0.000118</td>\n",
       "      <td>0.000216</td>\n",
       "      <td>-0.000086</td>\n",
       "      <td>-0.000096</td>\n",
       "      <td>-0.000096</td>\n",
       "    </tr>\n",
       "    <tr>\n",
       "      <th>2</th>\n",
       "      <td>0</td>\n",
       "      <td>1001</td>\n",
       "      <td>2021-01-03 11:20:37</td>\n",
       "      <td>35.461708</td>\n",
       "      <td>129.439733</td>\n",
       "      <td>0.2</td>\n",
       "      <td>260.1</td>\n",
       "      <td>265.0</td>\n",
       "      <td>184.0</td>\n",
       "      <td>0.005788</td>\n",
       "      <td>-0.000106</td>\n",
       "      <td>0.000020</td>\n",
       "      <td>-0.000059</td>\n",
       "      <td>-0.000196</td>\n",
       "      <td>-0.000196</td>\n",
       "    </tr>\n",
       "    <tr>\n",
       "      <th>3</th>\n",
       "      <td>0</td>\n",
       "      <td>1001</td>\n",
       "      <td>2021-01-03 11:23:37</td>\n",
       "      <td>35.461720</td>\n",
       "      <td>129.439708</td>\n",
       "      <td>0.1</td>\n",
       "      <td>262.8</td>\n",
       "      <td>270.0</td>\n",
       "      <td>180.0</td>\n",
       "      <td>0.002628</td>\n",
       "      <td>-0.000018</td>\n",
       "      <td>0.000012</td>\n",
       "      <td>-0.000025</td>\n",
       "      <td>-0.000008</td>\n",
       "      <td>-0.000008</td>\n",
       "    </tr>\n",
       "    <tr>\n",
       "      <th>4</th>\n",
       "      <td>0</td>\n",
       "      <td>1001</td>\n",
       "      <td>2021-01-03 11:26:38</td>\n",
       "      <td>35.461733</td>\n",
       "      <td>129.439717</td>\n",
       "      <td>0.3</td>\n",
       "      <td>277.6</td>\n",
       "      <td>273.0</td>\n",
       "      <td>181.0</td>\n",
       "      <td>0.001660</td>\n",
       "      <td>-0.000005</td>\n",
       "      <td>0.000013</td>\n",
       "      <td>0.000009</td>\n",
       "      <td>0.000001</td>\n",
       "      <td>0.000001</td>\n",
       "    </tr>\n",
       "    <tr>\n",
       "      <th>...</th>\n",
       "      <td>...</td>\n",
       "      <td>...</td>\n",
       "      <td>...</td>\n",
       "      <td>...</td>\n",
       "      <td>...</td>\n",
       "      <td>...</td>\n",
       "      <td>...</td>\n",
       "      <td>...</td>\n",
       "      <td>...</td>\n",
       "      <td>...</td>\n",
       "      <td>...</td>\n",
       "      <td>...</td>\n",
       "      <td>...</td>\n",
       "      <td>...</td>\n",
       "      <td>...</td>\n",
       "    </tr>\n",
       "    <tr>\n",
       "      <th>667112</th>\n",
       "      <td>0</td>\n",
       "      <td>4087</td>\n",
       "      <td>2022-05-07 20:20:00</td>\n",
       "      <td>35.052933</td>\n",
       "      <td>129.060633</td>\n",
       "      <td>0.9</td>\n",
       "      <td>141.0</td>\n",
       "      <td>99.0</td>\n",
       "      <td>0.2</td>\n",
       "      <td>0.006319</td>\n",
       "      <td>0.007453</td>\n",
       "      <td>-0.000050</td>\n",
       "      <td>0.000033</td>\n",
       "      <td>-0.000016</td>\n",
       "      <td>-0.000016</td>\n",
       "    </tr>\n",
       "    <tr>\n",
       "      <th>667113</th>\n",
       "      <td>0</td>\n",
       "      <td>4087</td>\n",
       "      <td>2022-05-07 20:20:00</td>\n",
       "      <td>35.052900</td>\n",
       "      <td>129.060667</td>\n",
       "      <td>1.0</td>\n",
       "      <td>145.0</td>\n",
       "      <td>98.0</td>\n",
       "      <td>0.2</td>\n",
       "      <td>0.004800</td>\n",
       "      <td>-0.007595</td>\n",
       "      <td>-0.000033</td>\n",
       "      <td>0.000034</td>\n",
       "      <td>0.000017</td>\n",
       "      <td>0.000017</td>\n",
       "    </tr>\n",
       "    <tr>\n",
       "      <th>667114</th>\n",
       "      <td>0</td>\n",
       "      <td>4087</td>\n",
       "      <td>2022-05-07 20:20:00</td>\n",
       "      <td>35.052850</td>\n",
       "      <td>129.060700</td>\n",
       "      <td>1.1</td>\n",
       "      <td>148.0</td>\n",
       "      <td>97.0</td>\n",
       "      <td>0.2</td>\n",
       "      <td>0.006319</td>\n",
       "      <td>0.007595</td>\n",
       "      <td>-0.000050</td>\n",
       "      <td>0.000033</td>\n",
       "      <td>-0.000017</td>\n",
       "      <td>-0.000017</td>\n",
       "    </tr>\n",
       "    <tr>\n",
       "      <th>667115</th>\n",
       "      <td>0</td>\n",
       "      <td>4087</td>\n",
       "      <td>2022-05-07 20:20:00</td>\n",
       "      <td>35.052750</td>\n",
       "      <td>129.060767</td>\n",
       "      <td>1.2</td>\n",
       "      <td>152.0</td>\n",
       "      <td>94.0</td>\n",
       "      <td>0.2</td>\n",
       "      <td>0.012682</td>\n",
       "      <td>0.031814</td>\n",
       "      <td>-0.000100</td>\n",
       "      <td>0.000067</td>\n",
       "      <td>-0.000050</td>\n",
       "      <td>-0.000050</td>\n",
       "    </tr>\n",
       "    <tr>\n",
       "      <th>667116</th>\n",
       "      <td>1</td>\n",
       "      <td>4087</td>\n",
       "      <td>2022-05-07 20:21:00</td>\n",
       "      <td>35.052700</td>\n",
       "      <td>129.060800</td>\n",
       "      <td>1.2</td>\n",
       "      <td>153.0</td>\n",
       "      <td>92.0</td>\n",
       "      <td>60.0</td>\n",
       "      <td>0.006319</td>\n",
       "      <td>-0.000106</td>\n",
       "      <td>-0.000050</td>\n",
       "      <td>0.000033</td>\n",
       "      <td>0.000050</td>\n",
       "      <td>0.000050</td>\n",
       "    </tr>\n",
       "  </tbody>\n",
       "</table>\n",
       "<p>667117 rows × 15 columns</p>\n",
       "</div>"
      ],
      "text/plain": [
       "        anchor_drag   num                 time   latitude   longitude  sog  \\\n",
       "0                 0  1001  2021-01-03 11:14:38  35.461472  129.439878  0.4   \n",
       "1                 0  1001  2021-01-03 11:17:33  35.461688  129.439792  0.2   \n",
       "2                 0  1001  2021-01-03 11:20:37  35.461708  129.439733  0.2   \n",
       "3                 0  1001  2021-01-03 11:23:37  35.461720  129.439708  0.1   \n",
       "4                 0  1001  2021-01-03 11:26:38  35.461733  129.439717  0.3   \n",
       "...             ...   ...                  ...        ...         ...  ...   \n",
       "667112            0  4087  2022-05-07 20:20:00  35.052933  129.060633  0.9   \n",
       "667113            0  4087  2022-05-07 20:20:00  35.052900  129.060667  1.0   \n",
       "667114            0  4087  2022-05-07 20:20:00  35.052850  129.060700  1.1   \n",
       "667115            0  4087  2022-05-07 20:20:00  35.052750  129.060767  1.2   \n",
       "667116            1  4087  2022-05-07 20:21:00  35.052700  129.060800  1.2   \n",
       "\n",
       "          cog    hdg  time_gap    d_km/s   dd_km/s    d_lati    d_long  \\\n",
       "0         9.6  273.0     182.0  0.045969 -0.000152  0.000312  0.000333   \n",
       "1       328.0  267.0     175.0  0.025250 -0.000118  0.000216 -0.000086   \n",
       "2       260.1  265.0     184.0  0.005788 -0.000106  0.000020 -0.000059   \n",
       "3       262.8  270.0     180.0  0.002628 -0.000018  0.000012 -0.000025   \n",
       "4       277.6  273.0     181.0  0.001660 -0.000005  0.000013  0.000009   \n",
       "...       ...    ...       ...       ...       ...       ...       ...   \n",
       "667112  141.0   99.0       0.2  0.006319  0.007453 -0.000050  0.000033   \n",
       "667113  145.0   98.0       0.2  0.004800 -0.007595 -0.000033  0.000034   \n",
       "667114  148.0   97.0       0.2  0.006319  0.007595 -0.000050  0.000033   \n",
       "667115  152.0   94.0       0.2  0.012682  0.031814 -0.000100  0.000067   \n",
       "667116  153.0   92.0      60.0  0.006319 -0.000106 -0.000050  0.000033   \n",
       "\n",
       "        d_d_lati  d_d_long  \n",
       "0       0.000342  0.000342  \n",
       "1      -0.000096 -0.000096  \n",
       "2      -0.000196 -0.000196  \n",
       "3      -0.000008 -0.000008  \n",
       "4       0.000001  0.000001  \n",
       "...          ...       ...  \n",
       "667112 -0.000016 -0.000016  \n",
       "667113  0.000017  0.000017  \n",
       "667114 -0.000017 -0.000017  \n",
       "667115 -0.000050 -0.000050  \n",
       "667116  0.000050  0.000050  \n",
       "\n",
       "[667117 rows x 15 columns]"
      ]
     },
     "execution_count": 20,
     "metadata": {},
     "output_type": "execute_result"
    }
   ],
   "source": [
    "total"
   ]
  },
  {
   "cell_type": "code",
   "execution_count": 21,
   "id": "581ca0ea",
   "metadata": {
    "ExecuteTime": {
     "end_time": "2023-07-06T06:48:58.971835Z",
     "start_time": "2023-07-06T06:48:57.715173Z"
    }
   },
   "outputs": [],
   "source": [
    "bs_test = pd.read_csv(\"../기상청공모전/data/test_busan_ggg.csv\")\n",
    "bs_test = bs_test.iloc[:,1:]\n",
    "\n",
    "us_test = pd.read_csv(\"../기상청공모전/data/test_ulsan_ggg.csv\")\n",
    "us_test = us_test.iloc[:,1:]"
   ]
  },
  {
   "cell_type": "code",
   "execution_count": 22,
   "id": "f059e90b",
   "metadata": {
    "ExecuteTime": {
     "end_time": "2023-07-06T06:48:59.136359Z",
     "start_time": "2023-07-06T06:48:58.974796Z"
    }
   },
   "outputs": [],
   "source": [
    "df = total.copy()\n",
    "del df['time']\n",
    "\n",
    "df_1 = df[df['num']<3000]\n",
    "df_2 = df[df['num']>=3000]"
   ]
  },
  {
   "cell_type": "code",
   "execution_count": 23,
   "id": "7d3e0602",
   "metadata": {
    "ExecuteTime": {
     "end_time": "2023-07-06T06:48:59.196198Z",
     "start_time": "2023-07-06T06:48:59.140350Z"
    }
   },
   "outputs": [],
   "source": [
    "X_1_train = df_1.iloc[:,1:]\n",
    "y_1_train = df_1.iloc[:,0]\n",
    "\n",
    "X_2_train = df_2.iloc[:,1:]\n",
    "y_2_train = df_2.iloc[:,0]"
   ]
  },
  {
   "cell_type": "code",
   "execution_count": 24,
   "id": "8db4f04c",
   "metadata": {
    "ExecuteTime": {
     "end_time": "2023-07-06T06:48:59.749746Z",
     "start_time": "2023-07-06T06:48:59.200192Z"
    }
   },
   "outputs": [],
   "source": [
    "X_2_samp, y_2_samp = SMOTE(random_state=4).fit_resample(X_2_train, y_2_train)"
   ]
  },
  {
   "cell_type": "code",
   "execution_count": 25,
   "id": "83b8901f",
   "metadata": {
    "ExecuteTime": {
     "end_time": "2023-07-06T06:48:59.764706Z",
     "start_time": "2023-07-06T06:48:59.751713Z"
    }
   },
   "outputs": [],
   "source": [
    "X_2_samp['anchor_drag'] = y_2_samp"
   ]
  },
  {
   "cell_type": "code",
   "execution_count": 26,
   "id": "4b841b6b",
   "metadata": {
    "ExecuteTime": {
     "end_time": "2023-07-06T06:49:00.244394Z",
     "start_time": "2023-07-06T06:48:59.767670Z"
    }
   },
   "outputs": [],
   "source": [
    "total_samp = X_2_samp.copy()\n",
    "total_samp = total_samp.sort_values('num')\n",
    "\n",
    "total_nonsamp = X_1_train.copy()\n",
    "total_nonsamp['anchor_drag'] = y_1_train"
   ]
  },
  {
   "cell_type": "code",
   "execution_count": 27,
   "id": "1b935f89",
   "metadata": {
    "ExecuteTime": {
     "end_time": "2023-07-06T06:49:00.364079Z",
     "start_time": "2023-07-06T06:49:00.248385Z"
    }
   },
   "outputs": [
    {
     "data": {
      "text/html": [
       "<div>\n",
       "<style scoped>\n",
       "    .dataframe tbody tr th:only-of-type {\n",
       "        vertical-align: middle;\n",
       "    }\n",
       "\n",
       "    .dataframe tbody tr th {\n",
       "        vertical-align: top;\n",
       "    }\n",
       "\n",
       "    .dataframe thead th {\n",
       "        text-align: right;\n",
       "    }\n",
       "</style>\n",
       "<table border=\"1\" class=\"dataframe\">\n",
       "  <thead>\n",
       "    <tr style=\"text-align: right;\">\n",
       "      <th></th>\n",
       "      <th>num</th>\n",
       "      <th>latitude</th>\n",
       "      <th>longitude</th>\n",
       "      <th>sog</th>\n",
       "      <th>cog</th>\n",
       "      <th>hdg</th>\n",
       "      <th>time_gap</th>\n",
       "      <th>d_km/s</th>\n",
       "      <th>dd_km/s</th>\n",
       "      <th>d_lati</th>\n",
       "      <th>d_long</th>\n",
       "      <th>d_d_lati</th>\n",
       "      <th>d_d_long</th>\n",
       "      <th>anchor_drag</th>\n",
       "    </tr>\n",
       "  </thead>\n",
       "  <tbody>\n",
       "    <tr>\n",
       "      <th>0</th>\n",
       "      <td>1001</td>\n",
       "      <td>35.461472</td>\n",
       "      <td>129.439878</td>\n",
       "      <td>0.4</td>\n",
       "      <td>9.6</td>\n",
       "      <td>273.0</td>\n",
       "      <td>182.0</td>\n",
       "      <td>0.045969</td>\n",
       "      <td>-0.000152</td>\n",
       "      <td>0.000312</td>\n",
       "      <td>0.000333</td>\n",
       "      <td>0.000342</td>\n",
       "      <td>0.000342</td>\n",
       "      <td>0</td>\n",
       "    </tr>\n",
       "    <tr>\n",
       "      <th>1</th>\n",
       "      <td>1001</td>\n",
       "      <td>35.461688</td>\n",
       "      <td>129.439792</td>\n",
       "      <td>0.2</td>\n",
       "      <td>328.0</td>\n",
       "      <td>267.0</td>\n",
       "      <td>175.0</td>\n",
       "      <td>0.025250</td>\n",
       "      <td>-0.000118</td>\n",
       "      <td>0.000216</td>\n",
       "      <td>-0.000086</td>\n",
       "      <td>-0.000096</td>\n",
       "      <td>-0.000096</td>\n",
       "      <td>0</td>\n",
       "    </tr>\n",
       "    <tr>\n",
       "      <th>2</th>\n",
       "      <td>1001</td>\n",
       "      <td>35.461708</td>\n",
       "      <td>129.439733</td>\n",
       "      <td>0.2</td>\n",
       "      <td>260.1</td>\n",
       "      <td>265.0</td>\n",
       "      <td>184.0</td>\n",
       "      <td>0.005788</td>\n",
       "      <td>-0.000106</td>\n",
       "      <td>0.000020</td>\n",
       "      <td>-0.000059</td>\n",
       "      <td>-0.000196</td>\n",
       "      <td>-0.000196</td>\n",
       "      <td>0</td>\n",
       "    </tr>\n",
       "    <tr>\n",
       "      <th>3</th>\n",
       "      <td>1001</td>\n",
       "      <td>35.461720</td>\n",
       "      <td>129.439708</td>\n",
       "      <td>0.1</td>\n",
       "      <td>262.8</td>\n",
       "      <td>270.0</td>\n",
       "      <td>180.0</td>\n",
       "      <td>0.002628</td>\n",
       "      <td>-0.000018</td>\n",
       "      <td>0.000012</td>\n",
       "      <td>-0.000025</td>\n",
       "      <td>-0.000008</td>\n",
       "      <td>-0.000008</td>\n",
       "      <td>0</td>\n",
       "    </tr>\n",
       "    <tr>\n",
       "      <th>4</th>\n",
       "      <td>1001</td>\n",
       "      <td>35.461733</td>\n",
       "      <td>129.439717</td>\n",
       "      <td>0.3</td>\n",
       "      <td>277.6</td>\n",
       "      <td>273.0</td>\n",
       "      <td>181.0</td>\n",
       "      <td>0.001660</td>\n",
       "      <td>-0.000005</td>\n",
       "      <td>0.000013</td>\n",
       "      <td>0.000009</td>\n",
       "      <td>0.000001</td>\n",
       "      <td>0.000001</td>\n",
       "      <td>0</td>\n",
       "    </tr>\n",
       "    <tr>\n",
       "      <th>...</th>\n",
       "      <td>...</td>\n",
       "      <td>...</td>\n",
       "      <td>...</td>\n",
       "      <td>...</td>\n",
       "      <td>...</td>\n",
       "      <td>...</td>\n",
       "      <td>...</td>\n",
       "      <td>...</td>\n",
       "      <td>...</td>\n",
       "      <td>...</td>\n",
       "      <td>...</td>\n",
       "      <td>...</td>\n",
       "      <td>...</td>\n",
       "      <td>...</td>\n",
       "    </tr>\n",
       "    <tr>\n",
       "      <th>429768</th>\n",
       "      <td>4087</td>\n",
       "      <td>35.055300</td>\n",
       "      <td>129.063917</td>\n",
       "      <td>0.1</td>\n",
       "      <td>272.0</td>\n",
       "      <td>146.0</td>\n",
       "      <td>360.0</td>\n",
       "      <td>0.013654</td>\n",
       "      <td>0.000025</td>\n",
       "      <td>0.000000</td>\n",
       "      <td>-0.000150</td>\n",
       "      <td>0.000033</td>\n",
       "      <td>0.000033</td>\n",
       "      <td>0</td>\n",
       "    </tr>\n",
       "    <tr>\n",
       "      <th>429769</th>\n",
       "      <td>4087</td>\n",
       "      <td>35.055250</td>\n",
       "      <td>129.063900</td>\n",
       "      <td>0.0</td>\n",
       "      <td>223.0</td>\n",
       "      <td>142.0</td>\n",
       "      <td>360.0</td>\n",
       "      <td>0.005771</td>\n",
       "      <td>-0.000022</td>\n",
       "      <td>-0.000050</td>\n",
       "      <td>-0.000017</td>\n",
       "      <td>-0.000050</td>\n",
       "      <td>-0.000050</td>\n",
       "      <td>0</td>\n",
       "    </tr>\n",
       "    <tr>\n",
       "      <th>429770</th>\n",
       "      <td>4087</td>\n",
       "      <td>35.055183</td>\n",
       "      <td>129.063867</td>\n",
       "      <td>0.1</td>\n",
       "      <td>222.0</td>\n",
       "      <td>138.0</td>\n",
       "      <td>120.0</td>\n",
       "      <td>0.008033</td>\n",
       "      <td>0.000019</td>\n",
       "      <td>-0.000067</td>\n",
       "      <td>-0.000033</td>\n",
       "      <td>-0.000017</td>\n",
       "      <td>-0.000017</td>\n",
       "      <td>0</td>\n",
       "    </tr>\n",
       "    <tr>\n",
       "      <th>429761</th>\n",
       "      <td>4087</td>\n",
       "      <td>35.055417</td>\n",
       "      <td>129.064433</td>\n",
       "      <td>0.1</td>\n",
       "      <td>251.0</td>\n",
       "      <td>172.0</td>\n",
       "      <td>540.0</td>\n",
       "      <td>0.021613</td>\n",
       "      <td>0.000008</td>\n",
       "      <td>-0.000033</td>\n",
       "      <td>-0.000234</td>\n",
       "      <td>-0.000066</td>\n",
       "      <td>-0.000066</td>\n",
       "      <td>0</td>\n",
       "    </tr>\n",
       "    <tr>\n",
       "      <th>430024</th>\n",
       "      <td>4087</td>\n",
       "      <td>35.054683</td>\n",
       "      <td>129.066017</td>\n",
       "      <td>0.0</td>\n",
       "      <td>139.0</td>\n",
       "      <td>263.0</td>\n",
       "      <td>540.0</td>\n",
       "      <td>0.015091</td>\n",
       "      <td>0.000011</td>\n",
       "      <td>0.000133</td>\n",
       "      <td>-0.000033</td>\n",
       "      <td>0.000050</td>\n",
       "      <td>0.000050</td>\n",
       "      <td>0</td>\n",
       "    </tr>\n",
       "  </tbody>\n",
       "</table>\n",
       "<p>1096892 rows × 14 columns</p>\n",
       "</div>"
      ],
      "text/plain": [
       "         num   latitude   longitude  sog    cog    hdg  time_gap    d_km/s  \\\n",
       "0       1001  35.461472  129.439878  0.4    9.6  273.0     182.0  0.045969   \n",
       "1       1001  35.461688  129.439792  0.2  328.0  267.0     175.0  0.025250   \n",
       "2       1001  35.461708  129.439733  0.2  260.1  265.0     184.0  0.005788   \n",
       "3       1001  35.461720  129.439708  0.1  262.8  270.0     180.0  0.002628   \n",
       "4       1001  35.461733  129.439717  0.3  277.6  273.0     181.0  0.001660   \n",
       "...      ...        ...         ...  ...    ...    ...       ...       ...   \n",
       "429768  4087  35.055300  129.063917  0.1  272.0  146.0     360.0  0.013654   \n",
       "429769  4087  35.055250  129.063900  0.0  223.0  142.0     360.0  0.005771   \n",
       "429770  4087  35.055183  129.063867  0.1  222.0  138.0     120.0  0.008033   \n",
       "429761  4087  35.055417  129.064433  0.1  251.0  172.0     540.0  0.021613   \n",
       "430024  4087  35.054683  129.066017  0.0  139.0  263.0     540.0  0.015091   \n",
       "\n",
       "         dd_km/s    d_lati    d_long  d_d_lati  d_d_long  anchor_drag  \n",
       "0      -0.000152  0.000312  0.000333  0.000342  0.000342            0  \n",
       "1      -0.000118  0.000216 -0.000086 -0.000096 -0.000096            0  \n",
       "2      -0.000106  0.000020 -0.000059 -0.000196 -0.000196            0  \n",
       "3      -0.000018  0.000012 -0.000025 -0.000008 -0.000008            0  \n",
       "4      -0.000005  0.000013  0.000009  0.000001  0.000001            0  \n",
       "...          ...       ...       ...       ...       ...          ...  \n",
       "429768  0.000025  0.000000 -0.000150  0.000033  0.000033            0  \n",
       "429769 -0.000022 -0.000050 -0.000017 -0.000050 -0.000050            0  \n",
       "429770  0.000019 -0.000067 -0.000033 -0.000017 -0.000017            0  \n",
       "429761  0.000008 -0.000033 -0.000234 -0.000066 -0.000066            0  \n",
       "430024  0.000011  0.000133 -0.000033  0.000050  0.000050            0  \n",
       "\n",
       "[1096892 rows x 14 columns]"
      ]
     },
     "execution_count": 27,
     "metadata": {},
     "output_type": "execute_result"
    }
   ],
   "source": [
    "total_new = pd.concat([total_nonsamp, total_samp])\n",
    "total_new"
   ]
  },
  {
   "cell_type": "code",
   "execution_count": 28,
   "id": "929deb08",
   "metadata": {
    "ExecuteTime": {
     "end_time": "2023-07-06T06:49:00.455827Z",
     "start_time": "2023-07-06T06:49:00.368066Z"
    }
   },
   "outputs": [
    {
     "name": "stdout",
     "output_type": "stream",
     "text": [
      "<class 'pandas.core.frame.DataFrame'>\n",
      "Int64Index: 1096892 entries, 0 to 430024\n",
      "Data columns (total 14 columns):\n",
      " #   Column       Non-Null Count    Dtype  \n",
      "---  ------       --------------    -----  \n",
      " 0   num          1096892 non-null  int64  \n",
      " 1   latitude     1096892 non-null  float64\n",
      " 2   longitude    1096892 non-null  float64\n",
      " 3   sog          1096892 non-null  float64\n",
      " 4   cog          1096892 non-null  float64\n",
      " 5   hdg          1096892 non-null  float64\n",
      " 6   time_gap     1096892 non-null  float64\n",
      " 7   d_km/s       1096892 non-null  float64\n",
      " 8   dd_km/s      1096892 non-null  float64\n",
      " 9   d_lati       1096892 non-null  float64\n",
      " 10  d_long       1096892 non-null  float64\n",
      " 11  d_d_lati     1096892 non-null  float64\n",
      " 12  d_d_long     1096892 non-null  float64\n",
      " 13  anchor_drag  1096892 non-null  int64  \n",
      "dtypes: float64(12), int64(2)\n",
      "memory usage: 125.5 MB\n"
     ]
    }
   ],
   "source": [
    "total_new.info()"
   ]
  },
  {
   "cell_type": "code",
   "execution_count": 29,
   "id": "3fa69e89",
   "metadata": {
    "ExecuteTime": {
     "end_time": "2023-07-06T06:49:00.576504Z",
     "start_time": "2023-07-06T06:49:00.459820Z"
    }
   },
   "outputs": [],
   "source": [
    "X_train = total_new.iloc[:,1:-1]\n",
    "y_train = total_new.iloc[:,-1]\n",
    "X_test_bs = bs_test.iloc[:,2:]\n",
    "X_test_us = us_test.iloc[:,2:]"
   ]
  },
  {
   "cell_type": "code",
   "execution_count": 30,
   "id": "3d1fd10c",
   "metadata": {
    "ExecuteTime": {
     "end_time": "2023-07-06T06:50:27.280469Z",
     "start_time": "2023-07-06T06:49:00.578500Z"
    }
   },
   "outputs": [],
   "source": [
    "# XGBoost 데이터셋 생성\n",
    "dtrain = xgb.DMatrix(X_train, label=y_train)\n",
    "dtest_bs = xgb.DMatrix(X_test_bs)\n",
    "dtest_us = xgb.DMatrix(X_test_us)\n",
    "\n",
    "# XGBoost 모델 학습\n",
    "params = {'objective': 'binary:logistic', 'eval_metric': 'logloss'}\n",
    "num_rounds = 100  # 반복 횟수 설정\n",
    "\n",
    "model = xgb.train(params, dtrain, num_rounds)\n",
    "\n",
    "# 테스트 데이터 예측\n",
    "y_pred_bs = model.predict(dtest_bs)\n",
    "y_pred_us = model.predict(dtest_us)\n",
    "y_pred_binary_bs = [1 if y >= 0.5 else 0 for y in y_pred_bs]\n",
    "y_pred_binary_us = [1 if y >= 0.5 else 0 for y in y_pred_us]"
   ]
  },
  {
   "cell_type": "code",
   "execution_count": 31,
   "id": "777c8f52",
   "metadata": {
    "ExecuteTime": {
     "end_time": "2023-07-06T06:50:43.867988Z",
     "start_time": "2023-07-06T06:50:27.282497Z"
    }
   },
   "outputs": [],
   "source": [
    "result = pd.read_excel(\"../기상청공모전/data/oceanUser.xlsx\")"
   ]
  },
  {
   "cell_type": "code",
   "execution_count": 32,
   "id": "8eef67cc",
   "metadata": {
    "ExecuteTime": {
     "end_time": "2023-07-06T06:50:44.286838Z",
     "start_time": "2023-07-06T06:50:43.869986Z"
    }
   },
   "outputs": [],
   "source": [
    "temp1 = bs_test.copy()\n",
    "temp2 = us_test.copy()\n",
    "temp1['time'] = pd.to_datetime(temp1['time'])\n",
    "temp2['time'] = pd.to_datetime(temp2['time'])\n",
    "\n",
    "temp1['anchor_drag'] = y_pred_binary_bs\n",
    "temp2['anchor_drag'] = y_pred_binary_us"
   ]
  },
  {
   "cell_type": "code",
   "execution_count": 33,
   "id": "eaf2e572",
   "metadata": {
    "ExecuteTime": {
     "end_time": "2023-07-06T06:50:53.562019Z",
     "start_time": "2023-07-06T06:50:44.288834Z"
    }
   },
   "outputs": [],
   "source": [
    "busan_target=[]\n",
    "ulsan_target=[]\n",
    "for i in range(len(temp1)):\n",
    "    if temp1.iloc[i,-1] == 1:\n",
    "        busan_target.append(i)\n",
    "for i in range(len(temp2)):\n",
    "    if temp2.iloc[i,-1] == 1:\n",
    "        ulsan_target.append(i)"
   ]
  },
  {
   "cell_type": "code",
   "execution_count": 34,
   "id": "6fa72136",
   "metadata": {
    "ExecuteTime": {
     "end_time": "2023-07-06T06:50:53.651780Z",
     "start_time": "2023-07-06T06:50:53.565014Z"
    }
   },
   "outputs": [],
   "source": [
    "temp1[\"HOUR\"] = temp1[\"time\"].dt.hour\n",
    "temp1[\"MIN\"] = temp1[\"time\"].dt.minute\n",
    "\n",
    "temp2[\"HOUR\"] = temp2[\"time\"].dt.hour\n",
    "temp2[\"MIN\"] = temp2[\"time\"].dt.minute"
   ]
  },
  {
   "cell_type": "code",
   "execution_count": 35,
   "id": "191a0746",
   "metadata": {
    "ExecuteTime": {
     "end_time": "2023-07-06T06:51:08.913941Z",
     "start_time": "2023-07-06T06:50:53.653775Z"
    }
   },
   "outputs": [],
   "source": [
    "bs_final = []\n",
    "us_final = []\n",
    "for i in busan_target:\n",
    "    bs_final.append([temp1.iloc[i,0], temp1.iloc[i,-2], temp1.iloc[i,-1]])    \n",
    "for i in ulsan_target:\n",
    "    us_final.append([temp2.iloc[i,0], temp2.iloc[i,-2], temp2.iloc[i,-1]])\n",
    "\n",
    "for i in range(len(result)):\n",
    "    if result.iloc[i,0] == \"BUSAN\":\n",
    "        if [result.iloc[i,1], result.iloc[i,5], result.iloc[i,6]] in bs_final:\n",
    "            result.iloc[i,-1] = 1        \n",
    "    else:\n",
    "        if [result.iloc[i,1], result.iloc[i,5], result.iloc[i,6]] in us_final:\n",
    "            result.iloc[i,-1] = 1 "
   ]
  },
  {
   "cell_type": "code",
   "execution_count": 36,
   "id": "9ce461ec",
   "metadata": {
    "ExecuteTime": {
     "end_time": "2023-07-06T06:51:08.928908Z",
     "start_time": "2023-07-06T06:51:08.915936Z"
    }
   },
   "outputs": [],
   "source": [
    "result[\"TARGET\"] = result[\"TARGET\"].fillna(0)\n",
    "result[\"TARGET\"] = result[\"TARGET\"].astype(int)"
   ]
  },
  {
   "cell_type": "code",
   "execution_count": 37,
   "id": "2a34a424",
   "metadata": {
    "ExecuteTime": {
     "end_time": "2023-07-06T06:51:08.973782Z",
     "start_time": "2023-07-06T06:51:08.932890Z"
    }
   },
   "outputs": [],
   "source": [
    "bs = result.loc[result[\"AREA\"] == \"BUSAN\"]\n",
    "us = result.loc[result[\"AREA\"] == \"ULSAN\"]"
   ]
  },
  {
   "cell_type": "code",
   "execution_count": 38,
   "id": "73dbfb95",
   "metadata": {
    "ExecuteTime": {
     "end_time": "2023-07-06T06:51:11.951812Z",
     "start_time": "2023-07-06T06:51:08.975776Z"
    }
   },
   "outputs": [],
   "source": [
    "bs_index = []\n",
    "us_index = []\n",
    "for i in range(len(bs)):\n",
    "    if bs.iloc[i,-1] == 1:\n",
    "        bs_index.append(i)\n",
    "for i in range(len(us)):\n",
    "    if us.iloc[i,-1] == 1:\n",
    "        us_index.append(i)"
   ]
  },
  {
   "cell_type": "code",
   "execution_count": 39,
   "id": "13e14d79",
   "metadata": {
    "ExecuteTime": {
     "end_time": "2023-07-06T06:51:11.996695Z",
     "start_time": "2023-07-06T06:51:11.953808Z"
    }
   },
   "outputs": [],
   "source": [
    "bs_ship = []\n",
    "us_ship = []\n",
    "for i in bs_index:\n",
    "    k = bs.iloc[i,1]\n",
    "    if k not in bs_ship:\n",
    "        bs_ship.append(k)\n",
    "for i in us_index:\n",
    "    k = us.iloc[i,1]\n",
    "    if k not in us_ship:\n",
    "        us_ship.append(k)"
   ]
  },
  {
   "cell_type": "code",
   "execution_count": 40,
   "id": "9c25787b",
   "metadata": {
    "ExecuteTime": {
     "end_time": "2023-07-06T06:52:13.679312Z",
     "start_time": "2023-07-06T06:51:11.998690Z"
    }
   },
   "outputs": [],
   "source": [
    "for i in range(len(bs)):\n",
    "    for j in bs_ship:\n",
    "        if bs.iloc[i,1] == j:\n",
    "            if bs.iloc[i,-1] == 1:\n",
    "                bs.iloc[i+1:i+60,-1] = 0\n",
    "                \n",
    "c = 0\n",
    "for i in range(len(bs)):\n",
    "    if bs.iloc[i,-1] == 1:\n",
    "        c +=1"
   ]
  },
  {
   "cell_type": "code",
   "execution_count": 41,
   "id": "05b2c19e",
   "metadata": {
    "ExecuteTime": {
     "end_time": "2023-07-06T06:52:50.032066Z",
     "start_time": "2023-07-06T06:52:13.682160Z"
    }
   },
   "outputs": [],
   "source": [
    "for i in range(len(us)):\n",
    "    for j in us_ship:\n",
    "        if us.iloc[i,1] == j:\n",
    "            if us.iloc[i,-1] == 1:\n",
    "                us.iloc[i+1:i+60,-1] = 0\n",
    "c = 0\n",
    "for i in range(len(us)):\n",
    "    if us.iloc[i,-1] == 1:\n",
    "        c +=1"
   ]
  },
  {
   "cell_type": "code",
   "execution_count": 42,
   "id": "9f8fc6d6",
   "metadata": {
    "ExecuteTime": {
     "end_time": "2023-07-06T06:52:52.934287Z",
     "start_time": "2023-07-06T06:52:50.034063Z"
    }
   },
   "outputs": [],
   "source": [
    "bs_final_index = []\n",
    "us_final_index = []\n",
    "for i in range(len(bs)):\n",
    "    if bs.iloc[i,-1] == 1:\n",
    "        bs_final_index.append(i)\n",
    "for i in range(len(us)):\n",
    "    if us.iloc[i,-1] == 1:\n",
    "        us_final_index.append(i)"
   ]
  },
  {
   "cell_type": "code",
   "execution_count": 43,
   "id": "f8945b43",
   "metadata": {
    "ExecuteTime": {
     "end_time": "2023-07-06T06:52:52.949432Z",
     "start_time": "2023-07-06T06:52:52.937297Z"
    }
   },
   "outputs": [],
   "source": [
    "for i in range(len(us_final_index)):\n",
    "    us_final_index[i] += len(bs)"
   ]
  },
  {
   "cell_type": "code",
   "execution_count": 44,
   "id": "a5eb9b93",
   "metadata": {
    "ExecuteTime": {
     "end_time": "2023-07-06T06:52:52.964378Z",
     "start_time": "2023-07-06T06:52:52.951432Z"
    }
   },
   "outputs": [],
   "source": [
    "result[\"TARGET\"] = 0"
   ]
  },
  {
   "cell_type": "code",
   "execution_count": 45,
   "id": "de954ba8",
   "metadata": {
    "ExecuteTime": {
     "end_time": "2023-07-06T06:52:55.597191Z",
     "start_time": "2023-07-06T06:52:52.967326Z"
    }
   },
   "outputs": [],
   "source": [
    "for i in bs_final_index:\n",
    "    result.iloc[i,-1] = 1\n",
    "for i in us_final_index:\n",
    "    result.iloc[i,-1] = 1\n",
    "\n",
    "c = 0\n",
    "for i in range(len(result)):\n",
    "    if result.iloc[i,-1] == 1:\n",
    "        c += 1"
   ]
  },
  {
   "cell_type": "code",
   "execution_count": 46,
   "id": "5c7611df",
   "metadata": {
    "ExecuteTime": {
     "end_time": "2023-07-06T06:53:09.554701Z",
     "start_time": "2023-07-06T06:52:55.599190Z"
    }
   },
   "outputs": [],
   "source": [
    "result.to_excel(\"230100.xlsx\",sheet_name = \"OCEAN\", index=False)"
   ]
  }
 ],
 "metadata": {
  "kernelspec": {
   "display_name": "Python 3 (ipykernel)",
   "language": "python",
   "name": "python3"
  },
  "language_info": {
   "codemirror_mode": {
    "name": "ipython",
    "version": 3
   },
   "file_extension": ".py",
   "mimetype": "text/x-python",
   "name": "python",
   "nbconvert_exporter": "python",
   "pygments_lexer": "ipython3",
   "version": "3.9.12"
  },
  "toc": {
   "base_numbering": 1,
   "nav_menu": {},
   "number_sections": false,
   "sideBar": true,
   "skip_h1_title": false,
   "title_cell": "Table of Contents",
   "title_sidebar": "Contents",
   "toc_cell": false,
   "toc_position": {},
   "toc_section_display": true,
   "toc_window_display": false
  },
  "varInspector": {
   "cols": {
    "lenName": 16,
    "lenType": 16,
    "lenVar": 40
   },
   "kernels_config": {
    "python": {
     "delete_cmd_postfix": "",
     "delete_cmd_prefix": "del ",
     "library": "var_list.py",
     "varRefreshCmd": "print(var_dic_list())"
    },
    "r": {
     "delete_cmd_postfix": ") ",
     "delete_cmd_prefix": "rm(",
     "library": "var_list.r",
     "varRefreshCmd": "cat(var_dic_list()) "
    }
   },
   "types_to_exclude": [
    "module",
    "function",
    "builtin_function_or_method",
    "instance",
    "_Feature"
   ],
   "window_display": false
  }
 },
 "nbformat": 4,
 "nbformat_minor": 5
}
