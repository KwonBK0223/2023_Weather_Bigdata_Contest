{
 "cells": [
  {
   "cell_type": "code",
   "execution_count": 1,
   "id": "949d167f",
   "metadata": {},
   "outputs": [],
   "source": [
    "import pandas as pd"
   ]
  },
  {
   "cell_type": "markdown",
   "id": "633cef45",
   "metadata": {},
   "source": [
    "## 울산"
   ]
  },
  {
   "cell_type": "code",
   "execution_count": 2,
   "id": "cc31d9a7",
   "metadata": {},
   "outputs": [],
   "source": [
    "ulsan_anch_train_final = pd.read_csv(\"../기상청공모전/data/ulsan_anch_train_final.csv\",encoding = \"utf-8\", index_col=0)"
   ]
  },
  {
   "cell_type": "code",
   "execution_count": 3,
   "id": "7114039c",
   "metadata": {},
   "outputs": [],
   "source": [
    "i_col = list(ulsan_anch_train_final['ulsan_anch_train_final.num'].unique())"
   ]
  },
  {
   "cell_type": "code",
   "execution_count": 4,
   "id": "fa2b64aa",
   "metadata": {},
   "outputs": [
    {
     "data": {
      "text/plain": [
       "127"
      ]
     },
     "execution_count": 4,
     "metadata": {},
     "output_type": "execute_result"
    }
   ],
   "source": [
    "anchor_drag = [0 for i in range(len(i_col))]\n",
    "len(anchor_drag)"
   ]
  },
  {
   "cell_type": "code",
   "execution_count": 5,
   "id": "daa806ea",
   "metadata": {},
   "outputs": [],
   "source": [
    "ulsan = ulsan_anch_train_final.copy()"
   ]
  },
  {
   "cell_type": "code",
   "execution_count": 6,
   "id": "c9177460",
   "metadata": {},
   "outputs": [],
   "source": [
    "col_name ={'ulsan_anch_train_final.num':'num',\n",
    "      'ulsan_anch_train_final.time':'time',\n",
    "      'ulsan_anch_train_final.latitude':'latitude',\n",
    "      'ulsan_anch_train_final.longitude':'longitude',\n",
    "      'ulsan_anch_train_final.sog':'sog',\n",
    "      'ulsan_anch_train_final.cog':'cog',\n",
    "      'ulsan_anch_train_final.hdg':'hdg'}"
   ]
  },
  {
   "cell_type": "code",
   "execution_count": 7,
   "id": "80b0f90e",
   "metadata": {},
   "outputs": [],
   "source": [
    "ulsan.rename(columns=col_name, inplace=True)\n",
    "\n",
    "ulsan.time = ulsan.time.str[1:-1]\n",
    "ulsan.time = pd.to_datetime(ulsan.time)\n",
    "ulsan.latitude = ulsan.latitude.str[2:-1]\n",
    "ulsan.longitude = ulsan.longitude.str[2:-1]\n",
    "\n",
    "ulsan = ulsan.astype({'latitude':'float','longitude':'float'})"
   ]
  },
  {
   "cell_type": "code",
   "execution_count": 8,
   "id": "5da986f7",
   "metadata": {},
   "outputs": [
    {
     "data": {
      "text/html": [
       "<div>\n",
       "<style scoped>\n",
       "    .dataframe tbody tr th:only-of-type {\n",
       "        vertical-align: middle;\n",
       "    }\n",
       "\n",
       "    .dataframe tbody tr th {\n",
       "        vertical-align: top;\n",
       "    }\n",
       "\n",
       "    .dataframe thead th {\n",
       "        text-align: right;\n",
       "    }\n",
       "</style>\n",
       "<table border=\"1\" class=\"dataframe\">\n",
       "  <thead>\n",
       "    <tr style=\"text-align: right;\">\n",
       "      <th></th>\n",
       "      <th>num</th>\n",
       "      <th>time</th>\n",
       "      <th>latitude</th>\n",
       "      <th>longitude</th>\n",
       "      <th>sog</th>\n",
       "      <th>cog</th>\n",
       "      <th>hdg</th>\n",
       "      <th>anchor_drag</th>\n",
       "    </tr>\n",
       "  </thead>\n",
       "  <tbody>\n",
       "    <tr>\n",
       "      <th>1</th>\n",
       "      <td>1</td>\n",
       "      <td>2021-01-03 11:08:37</td>\n",
       "      <td>35.461190</td>\n",
       "      <td>129.438732</td>\n",
       "      <td>0.6</td>\n",
       "      <td>102.9</td>\n",
       "      <td>343</td>\n",
       "      <td>0</td>\n",
       "    </tr>\n",
       "    <tr>\n",
       "      <th>2</th>\n",
       "      <td>1</td>\n",
       "      <td>2021-01-03 11:11:36</td>\n",
       "      <td>35.461160</td>\n",
       "      <td>129.439545</td>\n",
       "      <td>0.9</td>\n",
       "      <td>70.6</td>\n",
       "      <td>299</td>\n",
       "      <td>0</td>\n",
       "    </tr>\n",
       "    <tr>\n",
       "      <th>3</th>\n",
       "      <td>1</td>\n",
       "      <td>2021-01-03 11:14:38</td>\n",
       "      <td>35.461472</td>\n",
       "      <td>129.439878</td>\n",
       "      <td>0.4</td>\n",
       "      <td>9.6</td>\n",
       "      <td>273</td>\n",
       "      <td>0</td>\n",
       "    </tr>\n",
       "    <tr>\n",
       "      <th>4</th>\n",
       "      <td>1</td>\n",
       "      <td>2021-01-03 11:17:33</td>\n",
       "      <td>35.461688</td>\n",
       "      <td>129.439792</td>\n",
       "      <td>0.2</td>\n",
       "      <td>328.0</td>\n",
       "      <td>267</td>\n",
       "      <td>0</td>\n",
       "    </tr>\n",
       "    <tr>\n",
       "      <th>5</th>\n",
       "      <td>1</td>\n",
       "      <td>2021-01-03 11:20:37</td>\n",
       "      <td>35.461708</td>\n",
       "      <td>129.439733</td>\n",
       "      <td>0.2</td>\n",
       "      <td>260.1</td>\n",
       "      <td>265</td>\n",
       "      <td>0</td>\n",
       "    </tr>\n",
       "  </tbody>\n",
       "</table>\n",
       "</div>"
      ],
      "text/plain": [
       "   num                time   latitude   longitude  sog    cog  hdg  \\\n",
       "1    1 2021-01-03 11:08:37  35.461190  129.438732  0.6  102.9  343   \n",
       "2    1 2021-01-03 11:11:36  35.461160  129.439545  0.9   70.6  299   \n",
       "3    1 2021-01-03 11:14:38  35.461472  129.439878  0.4    9.6  273   \n",
       "4    1 2021-01-03 11:17:33  35.461688  129.439792  0.2  328.0  267   \n",
       "5    1 2021-01-03 11:20:37  35.461708  129.439733  0.2  260.1  265   \n",
       "\n",
       "   anchor_drag  \n",
       "1            0  \n",
       "2            0  \n",
       "3            0  \n",
       "4            0  \n",
       "5            0  "
      ]
     },
     "execution_count": 8,
     "metadata": {},
     "output_type": "execute_result"
    }
   ],
   "source": [
    "ulsan['anchor_drag'] = 0\n",
    "ulsan.head()"
   ]
  },
  {
   "cell_type": "code",
   "execution_count": 9,
   "id": "2ff0c04c",
   "metadata": {},
   "outputs": [
    {
     "name": "stdout",
     "output_type": "stream",
     "text": [
      "<class 'pandas.core.frame.DataFrame'>\n",
      "Int64Index: 169631 entries, 1 to 169631\n",
      "Data columns (total 8 columns):\n",
      " #   Column       Non-Null Count   Dtype         \n",
      "---  ------       --------------   -----         \n",
      " 0   num          169631 non-null  int64         \n",
      " 1   time         169631 non-null  datetime64[ns]\n",
      " 2   latitude     169631 non-null  float64       \n",
      " 3   longitude    169631 non-null  float64       \n",
      " 4   sog          169631 non-null  float64       \n",
      " 5   cog          169631 non-null  float64       \n",
      " 6   hdg          169631 non-null  int64         \n",
      " 7   anchor_drag  169631 non-null  int64         \n",
      "dtypes: datetime64[ns](1), float64(4), int64(3)\n",
      "memory usage: 11.6 MB\n"
     ]
    }
   ],
   "source": [
    "ulsan.info()"
   ]
  },
  {
   "cell_type": "code",
   "execution_count": 21,
   "id": "8219861d",
   "metadata": {},
   "outputs": [],
   "source": [
    "ulsan.to_csv('../기상청공모전/data/ulsan_anch.csv', encoding = \"utf-8\", index=False)"
   ]
  },
  {
   "cell_type": "markdown",
   "id": "a1cf56bd",
   "metadata": {},
   "source": [
    "## 부산"
   ]
  },
  {
   "cell_type": "code",
   "execution_count": 11,
   "id": "a9075701",
   "metadata": {},
   "outputs": [],
   "source": [
    "busan_anch_train_final = pd.read_csv(\"../기상청공모전/data/busan_anch_train_final.csv\",encoding = \"utf-8\", index_col=0)"
   ]
  },
  {
   "cell_type": "code",
   "execution_count": 12,
   "id": "16114f7d",
   "metadata": {},
   "outputs": [],
   "source": [
    "i_col2 = list(busan_anch_train_final['busan_anch_train_final.num'].unique())"
   ]
  },
  {
   "cell_type": "code",
   "execution_count": 13,
   "id": "33b5794c",
   "metadata": {},
   "outputs": [
    {
     "data": {
      "text/plain": [
       "141"
      ]
     },
     "execution_count": 13,
     "metadata": {},
     "output_type": "execute_result"
    }
   ],
   "source": [
    "anchor_drag2 = [0 for i in range(len(i_col2))]\n",
    "len(anchor_drag2)"
   ]
  },
  {
   "cell_type": "code",
   "execution_count": 14,
   "id": "69a12c1e",
   "metadata": {},
   "outputs": [],
   "source": [
    "busan = busan_anch_train_final.copy()"
   ]
  },
  {
   "cell_type": "code",
   "execution_count": 15,
   "id": "acbb0e22",
   "metadata": {},
   "outputs": [],
   "source": [
    "col_name ={'busan_anch_train_final.num':'num',\n",
    "      'busan_anch_train_final.time':'time',\n",
    "      'busan_anch_train_final.latitude':'latitude',\n",
    "      'busan_anch_train_final.longitude':'longitude',\n",
    "      'busan_anch_train_final.sog':'sog',\n",
    "      'busan_anch_train_final.cog':'cog',\n",
    "      'busan_anch_train_final.hdg':'hdg'}"
   ]
  },
  {
   "cell_type": "code",
   "execution_count": 16,
   "id": "2671f019",
   "metadata": {},
   "outputs": [],
   "source": [
    "busan.rename(columns=col_name, inplace=True)\n",
    "\n",
    "busan.time = busan.time.str[1:-1]\n",
    "busan.time = pd.to_datetime(busan.time)\n",
    "\n",
    "busan.latitude = busan.latitude.str[2:-1]\n",
    "busan.longitude = busan.longitude.str[2:-1]\n",
    "\n",
    "busan.hdg = busan.hdg.str[1:-1]"
   ]
  },
  {
   "cell_type": "code",
   "execution_count": 17,
   "id": "fc6138dd",
   "metadata": {},
   "outputs": [],
   "source": [
    "lt = list(busan[busan.hdg=='-99.-'].index)\n",
    "for i in lt:\n",
    "    busan.loc[i,'hdg']='-99.9'\n",
    "    \n",
    "busan = busan.astype({'latitude':'float','longitude':'float', 'hdg':'float'})"
   ]
  },
  {
   "cell_type": "code",
   "execution_count": 18,
   "id": "a701c5fe",
   "metadata": {},
   "outputs": [],
   "source": [
    "busan['anchor_drag'] = 0"
   ]
  },
  {
   "cell_type": "code",
   "execution_count": 19,
   "id": "411e4545",
   "metadata": {},
   "outputs": [],
   "source": [
    "busan.to_csv('../기상청공모전/data/busan_anch.csv', encoding = \"utf-8\", index=False)"
   ]
  },
  {
   "cell_type": "code",
   "execution_count": 20,
   "id": "28431e8d",
   "metadata": {},
   "outputs": [
    {
     "data": {
      "text/html": [
       "<div>\n",
       "<style scoped>\n",
       "    .dataframe tbody tr th:only-of-type {\n",
       "        vertical-align: middle;\n",
       "    }\n",
       "\n",
       "    .dataframe tbody tr th {\n",
       "        vertical-align: top;\n",
       "    }\n",
       "\n",
       "    .dataframe thead th {\n",
       "        text-align: right;\n",
       "    }\n",
       "</style>\n",
       "<table border=\"1\" class=\"dataframe\">\n",
       "  <thead>\n",
       "    <tr style=\"text-align: right;\">\n",
       "      <th></th>\n",
       "      <th>num</th>\n",
       "      <th>time</th>\n",
       "      <th>latitude</th>\n",
       "      <th>longitude</th>\n",
       "      <th>sog</th>\n",
       "      <th>cog</th>\n",
       "      <th>hdg</th>\n",
       "      <th>anchor_drag</th>\n",
       "    </tr>\n",
       "  </thead>\n",
       "  <tbody>\n",
       "    <tr>\n",
       "      <th>1</th>\n",
       "      <td>1</td>\n",
       "      <td>2021-01-08 00:39:00</td>\n",
       "      <td>35.063823</td>\n",
       "      <td>129.053027</td>\n",
       "      <td>0.1</td>\n",
       "      <td>-99.9</td>\n",
       "      <td>344.0</td>\n",
       "      <td>0</td>\n",
       "    </tr>\n",
       "    <tr>\n",
       "      <th>2</th>\n",
       "      <td>1</td>\n",
       "      <td>2021-01-08 00:39:00</td>\n",
       "      <td>35.063828</td>\n",
       "      <td>129.053030</td>\n",
       "      <td>0.2</td>\n",
       "      <td>-99.9</td>\n",
       "      <td>342.0</td>\n",
       "      <td>0</td>\n",
       "    </tr>\n",
       "    <tr>\n",
       "      <th>3</th>\n",
       "      <td>1</td>\n",
       "      <td>2021-01-08 00:39:00</td>\n",
       "      <td>35.063833</td>\n",
       "      <td>129.053032</td>\n",
       "      <td>0.2</td>\n",
       "      <td>-99.9</td>\n",
       "      <td>339.0</td>\n",
       "      <td>0</td>\n",
       "    </tr>\n",
       "    <tr>\n",
       "      <th>4</th>\n",
       "      <td>1</td>\n",
       "      <td>2021-01-08 00:39:00</td>\n",
       "      <td>35.063847</td>\n",
       "      <td>129.053033</td>\n",
       "      <td>0.1</td>\n",
       "      <td>-99.9</td>\n",
       "      <td>337.0</td>\n",
       "      <td>0</td>\n",
       "    </tr>\n",
       "    <tr>\n",
       "      <th>5</th>\n",
       "      <td>1</td>\n",
       "      <td>2021-01-08 00:39:00</td>\n",
       "      <td>35.063862</td>\n",
       "      <td>129.053032</td>\n",
       "      <td>0.2</td>\n",
       "      <td>-99.9</td>\n",
       "      <td>336.0</td>\n",
       "      <td>0</td>\n",
       "    </tr>\n",
       "  </tbody>\n",
       "</table>\n",
       "</div>"
      ],
      "text/plain": [
       "   num                time   latitude   longitude  sog   cog    hdg  \\\n",
       "1    1 2021-01-08 00:39:00  35.063823  129.053027  0.1 -99.9  344.0   \n",
       "2    1 2021-01-08 00:39:00  35.063828  129.053030  0.2 -99.9  342.0   \n",
       "3    1 2021-01-08 00:39:00  35.063833  129.053032  0.2 -99.9  339.0   \n",
       "4    1 2021-01-08 00:39:00  35.063847  129.053033  0.1 -99.9  337.0   \n",
       "5    1 2021-01-08 00:39:00  35.063862  129.053032  0.2 -99.9  336.0   \n",
       "\n",
       "   anchor_drag  \n",
       "1            0  \n",
       "2            0  \n",
       "3            0  \n",
       "4            0  \n",
       "5            0  "
      ]
     },
     "execution_count": 20,
     "metadata": {},
     "output_type": "execute_result"
    }
   ],
   "source": [
    "busan.head()"
   ]
  },
  {
   "cell_type": "code",
   "execution_count": null,
   "id": "d163c8d1",
   "metadata": {},
   "outputs": [],
   "source": []
  }
 ],
 "metadata": {
  "kernelspec": {
   "display_name": "Python 3 (ipykernel)",
   "language": "python",
   "name": "python3"
  },
  "language_info": {
   "codemirror_mode": {
    "name": "ipython",
    "version": 3
   },
   "file_extension": ".py",
   "mimetype": "text/x-python",
   "name": "python",
   "nbconvert_exporter": "python",
   "pygments_lexer": "ipython3",
   "version": "3.9.13"
  }
 },
 "nbformat": 4,
 "nbformat_minor": 5
}
