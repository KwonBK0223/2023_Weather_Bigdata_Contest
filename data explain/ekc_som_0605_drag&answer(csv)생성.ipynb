{
 "cells": [
  {
   "cell_type": "code",
   "execution_count": 1,
   "id": "949d167f",
   "metadata": {},
   "outputs": [],
   "source": [
    "import pandas as pd\n",
    "import matplotlib.pyplot as plt\n",
    "import seaborn as sns"
   ]
  },
  {
   "cell_type": "markdown",
   "id": "633cef45",
   "metadata": {},
   "source": [
    "## 울산"
   ]
  },
  {
   "cell_type": "code",
   "execution_count": 2,
   "id": "cc31d9a7",
   "metadata": {},
   "outputs": [],
   "source": [
    "ulsan_drag_train_final = pd.read_csv(\"../기상청공모전/data/ulsan_drag_train_final.csv\",encoding = \"utf-8\", index_col=0)\n",
    "ulsan_answer = pd.read_csv(\"../기상청공모전/data/ulsan_answer.csv\",encoding = \"utf-8\", index_col=0)"
   ]
  },
  {
   "cell_type": "code",
   "execution_count": 3,
   "id": "754dfe0a",
   "metadata": {},
   "outputs": [],
   "source": [
    "ulsan_answer.rename(columns={'ulsan_answer.tear':'ulsan_answer.year'}, inplace=True)\n",
    "ulsan_drag_train_final.loc[72731:73527,'ulsan_drag_train_final.latitude']='N35.45-990'"
   ]
  },
  {
   "cell_type": "code",
   "execution_count": 4,
   "id": "7114039c",
   "metadata": {},
   "outputs": [],
   "source": [
    "i_col = list(ulsan_drag_train_final['ulsan_drag_train_final.num'].unique())"
   ]
  },
  {
   "cell_type": "code",
   "execution_count": 5,
   "id": "fa2b64aa",
   "metadata": {},
   "outputs": [
    {
     "data": {
      "text/plain": [
       "163"
      ]
     },
     "execution_count": 5,
     "metadata": {},
     "output_type": "execute_result"
    }
   ],
   "source": [
    "anchor_drag = [0 for i in range(len(i_col))]\n",
    "len(anchor_drag)"
   ]
  },
  {
   "cell_type": "code",
   "execution_count": 23,
   "id": "daa806ea",
   "metadata": {},
   "outputs": [],
   "source": [
    "ulsan = ulsan_drag_train_final.copy()"
   ]
  },
  {
   "cell_type": "code",
   "execution_count": 24,
   "id": "c9177460",
   "metadata": {},
   "outputs": [],
   "source": [
    "col_name ={'ulsan_drag_train_final.num':'num',\n",
    "      'ulsan_drag_train_final.time':'time',\n",
    "      'ulsan_drag_train_final.latitude':'latitude',\n",
    "      'ulsan_drag_train_final.longitude':'longitude',\n",
    "      'ulsan_drag_train_final.sog':'sog',\n",
    "      'ulsan_drag_train_final.cog':'cog',\n",
    "      'ulsan_drag_train_final.hdg':'hdg'}"
   ]
  },
  {
   "cell_type": "code",
   "execution_count": 26,
   "id": "80b0f90e",
   "metadata": {},
   "outputs": [],
   "source": [
    "ulsan.rename(columns=col_name, inplace=True)\n",
    "\n",
    "ulsan.latitude = ulsan.latitude.str[1:]\n",
    "ulsan.longitude = ulsan.longitude.str[1:]\n",
    "\n",
    "ulsan.latitude= ulsan.latitude.str.replace('-','0')\n",
    "ulsan.longitude= ulsan.longitude.str.replace('-','0')\n",
    "\n",
    "ulsan = ulsan.astype({'latitude':'float','longitude':'float'})"
   ]
  },
  {
   "cell_type": "code",
   "execution_count": 27,
   "id": "5da986f7",
   "metadata": {},
   "outputs": [
    {
     "data": {
      "text/html": [
       "<div>\n",
       "<style scoped>\n",
       "    .dataframe tbody tr th:only-of-type {\n",
       "        vertical-align: middle;\n",
       "    }\n",
       "\n",
       "    .dataframe tbody tr th {\n",
       "        vertical-align: top;\n",
       "    }\n",
       "\n",
       "    .dataframe thead th {\n",
       "        text-align: right;\n",
       "    }\n",
       "</style>\n",
       "<table border=\"1\" class=\"dataframe\">\n",
       "  <thead>\n",
       "    <tr style=\"text-align: right;\">\n",
       "      <th></th>\n",
       "      <th>num</th>\n",
       "      <th>time</th>\n",
       "      <th>latitude</th>\n",
       "      <th>longitude</th>\n",
       "      <th>sog</th>\n",
       "      <th>cog</th>\n",
       "      <th>hdg</th>\n",
       "      <th>anchor_drag</th>\n",
       "    </tr>\n",
       "  </thead>\n",
       "  <tbody>\n",
       "    <tr>\n",
       "      <th>1</th>\n",
       "      <td>1</td>\n",
       "      <td>2021-02-14 14:37:11</td>\n",
       "      <td>35.433233</td>\n",
       "      <td>129.45896</td>\n",
       "      <td>0.2</td>\n",
       "      <td>60.0</td>\n",
       "      <td>204</td>\n",
       "      <td>0</td>\n",
       "    </tr>\n",
       "    <tr>\n",
       "      <th>2</th>\n",
       "      <td>1</td>\n",
       "      <td>2021-02-14 14:37:21</td>\n",
       "      <td>35.433233</td>\n",
       "      <td>129.45898</td>\n",
       "      <td>0.2</td>\n",
       "      <td>53.0</td>\n",
       "      <td>204</td>\n",
       "      <td>0</td>\n",
       "    </tr>\n",
       "    <tr>\n",
       "      <th>3</th>\n",
       "      <td>1</td>\n",
       "      <td>2021-02-14 14:37:33</td>\n",
       "      <td>35.433250</td>\n",
       "      <td>129.45900</td>\n",
       "      <td>0.2</td>\n",
       "      <td>45.0</td>\n",
       "      <td>203</td>\n",
       "      <td>0</td>\n",
       "    </tr>\n",
       "    <tr>\n",
       "      <th>4</th>\n",
       "      <td>1</td>\n",
       "      <td>2021-02-14 14:37:42</td>\n",
       "      <td>35.433250</td>\n",
       "      <td>129.45900</td>\n",
       "      <td>0.2</td>\n",
       "      <td>44.0</td>\n",
       "      <td>203</td>\n",
       "      <td>0</td>\n",
       "    </tr>\n",
       "    <tr>\n",
       "      <th>5</th>\n",
       "      <td>1</td>\n",
       "      <td>2021-02-14 14:37:52</td>\n",
       "      <td>35.433267</td>\n",
       "      <td>129.45901</td>\n",
       "      <td>0.2</td>\n",
       "      <td>41.0</td>\n",
       "      <td>203</td>\n",
       "      <td>0</td>\n",
       "    </tr>\n",
       "  </tbody>\n",
       "</table>\n",
       "</div>"
      ],
      "text/plain": [
       "   num                 time   latitude  longitude  sog   cog  hdg  anchor_drag\n",
       "1    1  2021-02-14 14:37:11  35.433233  129.45896  0.2  60.0  204            0\n",
       "2    1  2021-02-14 14:37:21  35.433233  129.45898  0.2  53.0  204            0\n",
       "3    1  2021-02-14 14:37:33  35.433250  129.45900  0.2  45.0  203            0\n",
       "4    1  2021-02-14 14:37:42  35.433250  129.45900  0.2  44.0  203            0\n",
       "5    1  2021-02-14 14:37:52  35.433267  129.45901  0.2  41.0  203            0"
      ]
     },
     "execution_count": 27,
     "metadata": {},
     "output_type": "execute_result"
    }
   ],
   "source": [
    "ulsan['anchor_drag'] = 0\n",
    "ulsan.head()"
   ]
  },
  {
   "cell_type": "code",
   "execution_count": 51,
   "id": "12b0c2d4",
   "metadata": {},
   "outputs": [
    {
     "name": "stdout",
     "output_type": "stream",
     "text": [
      "[38, 51]\n"
     ]
    }
   ],
   "source": [
    "nowhere_ulsan = []\n",
    "for i in i_col:\n",
    "    col = ulsan_answer[ulsan_answer['ulsan_answer.num']==i]\n",
    "    n_df = ulsan_drag_train_final[(ulsan_drag_train_final['ulsan_drag_train_final.latitude']==col['ulsan_answer.lat'].values[0])&(ulsan_drag_train_final['ulsan_drag_train_final.longitude']==col['ulsan_answer.lon'].values[0])]\n",
    "    if len(n_df.index)==0:\n",
    "        nowhere_ulsan.append(i)\n",
    "print(nowhere_ulsan)"
   ]
  },
  {
   "cell_type": "code",
   "execution_count": 30,
   "id": "81cc447a",
   "metadata": {},
   "outputs": [],
   "source": [
    "for i in i_col:\n",
    "    col = ulsan_answer[ulsan_answer['ulsan_answer.num']==i]\n",
    "    \n",
    "    if i in nowhere_ulsan:\n",
    "        year = col['ulsan_answer.year'].values[0]\n",
    "        mon = col['ulsan_answer.mon'].apply(lambda x: str(x).zfill(2)).values[0]\n",
    "        day = col['ulsan_answer.day'].apply(lambda x: str(x).zfill(2)).values[0]\n",
    "        hour = col['ulsan_answer.hour'].values[0]\n",
    "        minute = col['ulsan_answer.min'].apply(lambda x: str(x).zfill(2)).values[0]\n",
    "        date = f'{year}-{mon}-{day} {hour}:{minute}'            \n",
    "        \n",
    "        n_df = ulsan_drag_train_final[ulsan_drag_train_final['ulsan_drag_train_final.time']==date]\n",
    "        start = n_df.index[0]\n",
    "        \n",
    "    else:\n",
    "        n_df = ulsan_drag_train_final[(ulsan_drag_train_final['ulsan_drag_train_final.latitude']==col['ulsan_answer.lat'].values[0])&\n",
    "                                      (ulsan_drag_train_final['ulsan_drag_train_final.longitude']==col['ulsan_answer.lon'].values[0])]\n",
    "\n",
    "        start = n_df.index[0]\n",
    "        \n",
    "    end = ulsan_drag_train_final[ulsan_drag_train_final['ulsan_drag_train_final.num']==i].index[-1]\n",
    "    ulsan.loc[start:end, 'anchor_drag']=1"
   ]
  },
  {
   "cell_type": "code",
   "execution_count": 33,
   "id": "8219861d",
   "metadata": {},
   "outputs": [],
   "source": [
    "ulsan.to_csv('../기상청공모전/ulsan.csv', encoding = \"utf-8\", index=False)"
   ]
  },
  {
   "cell_type": "code",
   "execution_count": 34,
   "id": "2ff0c04c",
   "metadata": {},
   "outputs": [
    {
     "name": "stdout",
     "output_type": "stream",
     "text": [
      "<class 'pandas.core.frame.DataFrame'>\n",
      "Int64Index: 218612 entries, 1 to 218612\n",
      "Data columns (total 8 columns):\n",
      " #   Column       Non-Null Count   Dtype  \n",
      "---  ------       --------------   -----  \n",
      " 0   num          218612 non-null  int64  \n",
      " 1   time         218612 non-null  object \n",
      " 2   latitude     218612 non-null  float64\n",
      " 3   longitude    218612 non-null  float64\n",
      " 4   sog          218612 non-null  float64\n",
      " 5   cog          218612 non-null  float64\n",
      " 6   hdg          218612 non-null  int64  \n",
      " 7   anchor_drag  218612 non-null  int64  \n",
      "dtypes: float64(4), int64(3), object(1)\n",
      "memory usage: 23.1+ MB\n"
     ]
    }
   ],
   "source": [
    "ulsan.info()"
   ]
  },
  {
   "cell_type": "markdown",
   "id": "a1cf56bd",
   "metadata": {},
   "source": [
    "## 부산"
   ]
  },
  {
   "cell_type": "code",
   "execution_count": 35,
   "id": "a9075701",
   "metadata": {},
   "outputs": [],
   "source": [
    "busan_drag_train_final = pd.read_csv(\"../기상청공모전/data/busan_drag_train_final.csv\",encoding = \"utf-8\", index_col=0)\n",
    "busan_answer = pd.read_csv(\"../기상청공모전/data/busan_answer.csv\",encoding = \"utf-8\", index_col=0)"
   ]
  },
  {
   "cell_type": "code",
   "execution_count": 36,
   "id": "568a574f",
   "metadata": {},
   "outputs": [],
   "source": [
    "busan_answer.rename(columns={'busan_answer.tear':'busan_answer.year'}, inplace=True)\n",
    "busan_drag_train_final.loc[119030,'busan_drag_train_final.longitude']='E129.0-990'"
   ]
  },
  {
   "cell_type": "code",
   "execution_count": 37,
   "id": "43e6cfe0",
   "metadata": {},
   "outputs": [],
   "source": [
    "i_col2 = list(busan_drag_train_final['busan_drag_train_final.num'].unique())"
   ]
  },
  {
   "cell_type": "code",
   "execution_count": 38,
   "id": "33b5794c",
   "metadata": {},
   "outputs": [
    {
     "data": {
      "text/plain": [
       "87"
      ]
     },
     "execution_count": 38,
     "metadata": {},
     "output_type": "execute_result"
    }
   ],
   "source": [
    "anchor_drag2 = [0 for i in range(len(i_col2))]\n",
    "len(anchor_drag2)"
   ]
  },
  {
   "cell_type": "code",
   "execution_count": 39,
   "id": "69a12c1e",
   "metadata": {},
   "outputs": [],
   "source": [
    "busan = busan_drag_train_final.copy()"
   ]
  },
  {
   "cell_type": "code",
   "execution_count": 40,
   "id": "acbb0e22",
   "metadata": {},
   "outputs": [],
   "source": [
    "col_name ={'busan_drag_train_final.num':'num',\n",
    "      'busan_drag_train_final.time':'time',\n",
    "      'busan_drag_train_final.latitude':'latitude',\n",
    "      'busan_drag_train_final.longitude':'longitude',\n",
    "      'busan_drag_train_final.sog':'sog',\n",
    "      'busan_drag_train_final.cog':'cog',\n",
    "      'busan_drag_train_final.hdg':'hdg'}"
   ]
  },
  {
   "cell_type": "code",
   "execution_count": 41,
   "id": "2671f019",
   "metadata": {},
   "outputs": [],
   "source": [
    "busan.rename(columns=col_name, inplace=True)\n",
    "\n",
    "busan.latitude = busan.latitude.str[1:]\n",
    "busan.longitude = busan.longitude.str[1:]\n",
    "\n",
    "busan.latitude= busan.latitude.str.replace('-','0')\n",
    "busan.longitude= busan.longitude.str.replace('-','0')\n",
    "\n",
    "busan = busan.astype({'latitude':'float','longitude':'float'})"
   ]
  },
  {
   "cell_type": "code",
   "execution_count": 58,
   "id": "a701c5fe",
   "metadata": {},
   "outputs": [
    {
     "data": {
      "text/html": [
       "<div>\n",
       "<style scoped>\n",
       "    .dataframe tbody tr th:only-of-type {\n",
       "        vertical-align: middle;\n",
       "    }\n",
       "\n",
       "    .dataframe tbody tr th {\n",
       "        vertical-align: top;\n",
       "    }\n",
       "\n",
       "    .dataframe thead th {\n",
       "        text-align: right;\n",
       "    }\n",
       "</style>\n",
       "<table border=\"1\" class=\"dataframe\">\n",
       "  <thead>\n",
       "    <tr style=\"text-align: right;\">\n",
       "      <th></th>\n",
       "      <th>num</th>\n",
       "      <th>time</th>\n",
       "      <th>latitude</th>\n",
       "      <th>longitude</th>\n",
       "      <th>sog</th>\n",
       "      <th>cog</th>\n",
       "      <th>hdg</th>\n",
       "      <th>anchor_drag</th>\n",
       "    </tr>\n",
       "  </thead>\n",
       "  <tbody>\n",
       "    <tr>\n",
       "      <th>225702</th>\n",
       "      <td>87</td>\n",
       "      <td>2022-05-05 11:37</td>\n",
       "      <td>35.054883</td>\n",
       "      <td>129.06553</td>\n",
       "      <td>0.1</td>\n",
       "      <td>220.0</td>\n",
       "      <td>235</td>\n",
       "      <td>0</td>\n",
       "    </tr>\n",
       "    <tr>\n",
       "      <th>225703</th>\n",
       "      <td>87</td>\n",
       "      <td>2022-05-05 11:43</td>\n",
       "      <td>35.054833</td>\n",
       "      <td>129.06556</td>\n",
       "      <td>0.0</td>\n",
       "      <td>151.0</td>\n",
       "      <td>239</td>\n",
       "      <td>0</td>\n",
       "    </tr>\n",
       "    <tr>\n",
       "      <th>225704</th>\n",
       "      <td>87</td>\n",
       "      <td>2022-05-05 11:46</td>\n",
       "      <td>35.054867</td>\n",
       "      <td>129.06555</td>\n",
       "      <td>0.1</td>\n",
       "      <td>267.0</td>\n",
       "      <td>237</td>\n",
       "      <td>0</td>\n",
       "    </tr>\n",
       "    <tr>\n",
       "      <th>225705</th>\n",
       "      <td>87</td>\n",
       "      <td>2022-05-05 11:49</td>\n",
       "      <td>35.054867</td>\n",
       "      <td>129.06551</td>\n",
       "      <td>0.1</td>\n",
       "      <td>243.0</td>\n",
       "      <td>234</td>\n",
       "      <td>0</td>\n",
       "    </tr>\n",
       "    <tr>\n",
       "      <th>225706</th>\n",
       "      <td>87</td>\n",
       "      <td>2022-05-05 11:52</td>\n",
       "      <td>35.054833</td>\n",
       "      <td>129.06551</td>\n",
       "      <td>0.0</td>\n",
       "      <td>172.0</td>\n",
       "      <td>235</td>\n",
       "      <td>0</td>\n",
       "    </tr>\n",
       "    <tr>\n",
       "      <th>...</th>\n",
       "      <td>...</td>\n",
       "      <td>...</td>\n",
       "      <td>...</td>\n",
       "      <td>...</td>\n",
       "      <td>...</td>\n",
       "      <td>...</td>\n",
       "      <td>...</td>\n",
       "      <td>...</td>\n",
       "    </tr>\n",
       "    <tr>\n",
       "      <th>226482</th>\n",
       "      <td>87</td>\n",
       "      <td>2022-05-07 20:25</td>\n",
       "      <td>35.053083</td>\n",
       "      <td>129.06133</td>\n",
       "      <td>1.3</td>\n",
       "      <td>26.0</td>\n",
       "      <td>97</td>\n",
       "      <td>0</td>\n",
       "    </tr>\n",
       "    <tr>\n",
       "      <th>226483</th>\n",
       "      <td>87</td>\n",
       "      <td>2022-05-07 20:25</td>\n",
       "      <td>35.053083</td>\n",
       "      <td>129.06133</td>\n",
       "      <td>1.3</td>\n",
       "      <td>29.0</td>\n",
       "      <td>99</td>\n",
       "      <td>0</td>\n",
       "    </tr>\n",
       "    <tr>\n",
       "      <th>226484</th>\n",
       "      <td>87</td>\n",
       "      <td>2022-05-07 20:26</td>\n",
       "      <td>35.053117</td>\n",
       "      <td>129.06140</td>\n",
       "      <td>1.2</td>\n",
       "      <td>48.0</td>\n",
       "      <td>106</td>\n",
       "      <td>0</td>\n",
       "    </tr>\n",
       "    <tr>\n",
       "      <th>226485</th>\n",
       "      <td>87</td>\n",
       "      <td>2022-05-07 20:26</td>\n",
       "      <td>35.053117</td>\n",
       "      <td>129.06141</td>\n",
       "      <td>1.2</td>\n",
       "      <td>52.0</td>\n",
       "      <td>108</td>\n",
       "      <td>0</td>\n",
       "    </tr>\n",
       "    <tr>\n",
       "      <th>226486</th>\n",
       "      <td>87</td>\n",
       "      <td>2022-05-07 20:26</td>\n",
       "      <td>35.053133</td>\n",
       "      <td>129.06150</td>\n",
       "      <td>1.2</td>\n",
       "      <td>80.0</td>\n",
       "      <td>116</td>\n",
       "      <td>0</td>\n",
       "    </tr>\n",
       "  </tbody>\n",
       "</table>\n",
       "<p>785 rows × 8 columns</p>\n",
       "</div>"
      ],
      "text/plain": [
       "        num              time   latitude  longitude  sog    cog  hdg  \\\n",
       "225702   87  2022-05-05 11:37  35.054883  129.06553  0.1  220.0  235   \n",
       "225703   87  2022-05-05 11:43  35.054833  129.06556  0.0  151.0  239   \n",
       "225704   87  2022-05-05 11:46  35.054867  129.06555  0.1  267.0  237   \n",
       "225705   87  2022-05-05 11:49  35.054867  129.06551  0.1  243.0  234   \n",
       "225706   87  2022-05-05 11:52  35.054833  129.06551  0.0  172.0  235   \n",
       "...     ...               ...        ...        ...  ...    ...  ...   \n",
       "226482   87  2022-05-07 20:25  35.053083  129.06133  1.3   26.0   97   \n",
       "226483   87  2022-05-07 20:25  35.053083  129.06133  1.3   29.0   99   \n",
       "226484   87  2022-05-07 20:26  35.053117  129.06140  1.2   48.0  106   \n",
       "226485   87  2022-05-07 20:26  35.053117  129.06141  1.2   52.0  108   \n",
       "226486   87  2022-05-07 20:26  35.053133  129.06150  1.2   80.0  116   \n",
       "\n",
       "        anchor_drag  \n",
       "225702            0  \n",
       "225703            0  \n",
       "225704            0  \n",
       "225705            0  \n",
       "225706            0  \n",
       "...             ...  \n",
       "226482            0  \n",
       "226483            0  \n",
       "226484            0  \n",
       "226485            0  \n",
       "226486            0  \n",
       "\n",
       "[785 rows x 8 columns]"
      ]
     },
     "execution_count": 58,
     "metadata": {},
     "output_type": "execute_result"
    }
   ],
   "source": [
    "busan['anchor_drag'] = 0\n",
    "busan[.head()]"
   ]
  },
  {
   "cell_type": "code",
   "execution_count": 53,
   "id": "0e61b293",
   "metadata": {},
   "outputs": [
    {
     "name": "stdout",
     "output_type": "stream",
     "text": [
      "[19, 22, 36]\n"
     ]
    }
   ],
   "source": [
    "nowhere_busan = []\n",
    "for i in i_col2:\n",
    "    col = busan_answer[busan_answer['busan_answer.num']==i]\n",
    "    n_df = busan_drag_train_final[(busan_drag_train_final['busan_drag_train_final.latitude']==col['busan_answer.lat'].values[0])&(busan_drag_train_final['busan_drag_train_final.longitude']==col['busan_answer.lon'].values[0])]\n",
    "    if len(n_df.index)==0:\n",
    "        nowhere_busan.append(i)\n",
    "print(nowhere_busan)"
   ]
  },
  {
   "cell_type": "code",
   "execution_count": 59,
   "id": "798a1b2f",
   "metadata": {},
   "outputs": [],
   "source": [
    "for i in i_col2:\n",
    "    col = busan_answer[busan_answer['busan_answer.num']==i]\n",
    "    \n",
    "    if i in nowhere_busan:\n",
    "        year = col['busan_answer.year'].values[0]\n",
    "        mon = col['busan_answer.mon'].apply(lambda x: str(x).zfill(2)).values[0]\n",
    "        day = col['busan_answer.day'].apply(lambda x: str(x).zfill(2)).values[0]\n",
    "        hour = col['busan_answer.hour'].values[0]\n",
    "        minute = col['busan_answer.min'].apply(lambda x: str(x).zfill(2)).values[0]\n",
    "        date = f'{year}-{mon}-{day} {hour}:{minute}' \n",
    "            \n",
    "        n_df = busan_drag_train_final[busan_drag_train_final['busan_drag_train_final.time']==date]\n",
    "        start = n_df.index[0]\n",
    "        \n",
    "    else:\n",
    "        n_df = busan_drag_train_final[(busan_drag_train_final['busan_drag_train_final.latitude']==col['busan_answer.lat'].values[0])&\n",
    "                              (busan_drag_train_final['busan_drag_train_final.longitude']==col['busan_answer.lon'].values[0])]\n",
    "        start = n_df.index[0]\n",
    "    \n",
    "    end = busan_drag_train_final[busan_drag_train_final['busan_drag_train_final.num']==i].index[-1]\n",
    "    busan.loc[start:end, 'anchor_drag']=1"
   ]
  },
  {
   "cell_type": "code",
   "execution_count": 62,
   "id": "411e4545",
   "metadata": {},
   "outputs": [],
   "source": [
    "busan.to_csv('../기상청공모전/busan.csv', encoding = \"utf-8\", index=False)"
   ]
  },
  {
   "cell_type": "code",
   "execution_count": 60,
   "id": "28431e8d",
   "metadata": {},
   "outputs": [
    {
     "name": "stdout",
     "output_type": "stream",
     "text": [
      "<class 'pandas.core.frame.DataFrame'>\n",
      "Int64Index: 226486 entries, 1 to 226486\n",
      "Data columns (total 8 columns):\n",
      " #   Column       Non-Null Count   Dtype  \n",
      "---  ------       --------------   -----  \n",
      " 0   num          226486 non-null  int64  \n",
      " 1   time         226486 non-null  object \n",
      " 2   latitude     226486 non-null  float64\n",
      " 3   longitude    226486 non-null  float64\n",
      " 4   sog          226486 non-null  float64\n",
      " 5   cog          226486 non-null  float64\n",
      " 6   hdg          226486 non-null  int64  \n",
      " 7   anchor_drag  226486 non-null  int64  \n",
      "dtypes: float64(4), int64(3), object(1)\n",
      "memory usage: 23.6+ MB\n"
     ]
    }
   ],
   "source": [
    "busan.info()"
   ]
  },
  {
   "cell_type": "markdown",
   "id": "2794f55e",
   "metadata": {},
   "source": [
    "# 파고부이 데이터"
   ]
  },
  {
   "cell_type": "code",
   "execution_count": 11,
   "id": "65dfd3bb",
   "metadata": {},
   "outputs": [],
   "source": [
    "import pandas as pd\n",
    "khnp_buoy_train = pd.read_csv(\"../기상청공모전/data/khnp_buoy_train.csv\",encoding = \"utf-8\", index_col=0)\n",
    "khoa_buoy_train = pd.read_csv(\"../기상청공모전/data/khoa_buoy_train.csv\",encoding = \"utf-8\", index_col=0)\n",
    "kma_lightbecon_train = pd.read_csv(\"../기상청공모전/data/kma_lightbecon_train.csv\",encoding = \"utf-8\", index_col=0)\n",
    "kma_pagobuoy_train = pd.read_csv(\"../기상청공모전/data/kma_pagobuoy_train.csv\",encoding = \"utf-8\", index_col=0)"
   ]
  },
  {
   "cell_type": "code",
   "execution_count": 12,
   "id": "0dd5be1c",
   "metadata": {},
   "outputs": [
    {
     "data": {
      "text/html": [
       "<div>\n",
       "<style scoped>\n",
       "    .dataframe tbody tr th:only-of-type {\n",
       "        vertical-align: middle;\n",
       "    }\n",
       "\n",
       "    .dataframe tbody tr th {\n",
       "        vertical-align: top;\n",
       "    }\n",
       "\n",
       "    .dataframe thead th {\n",
       "        text-align: right;\n",
       "    }\n",
       "</style>\n",
       "<table border=\"1\" class=\"dataframe\">\n",
       "  <thead>\n",
       "    <tr style=\"text-align: right;\">\n",
       "      <th></th>\n",
       "      <th>time</th>\n",
       "      <th>stn</th>\n",
       "      <th>ws</th>\n",
       "      <th>wd</th>\n",
       "    </tr>\n",
       "  </thead>\n",
       "  <tbody>\n",
       "    <tr>\n",
       "      <th>1</th>\n",
       "      <td>202101010000</td>\n",
       "      <td>Gori</td>\n",
       "      <td>37.0</td>\n",
       "      <td>84</td>\n",
       "    </tr>\n",
       "    <tr>\n",
       "      <th>2</th>\n",
       "      <td>202101010001</td>\n",
       "      <td>Gori</td>\n",
       "      <td>27.8</td>\n",
       "      <td>88</td>\n",
       "    </tr>\n",
       "    <tr>\n",
       "      <th>3</th>\n",
       "      <td>202101010002</td>\n",
       "      <td>Gori</td>\n",
       "      <td>39.3</td>\n",
       "      <td>84</td>\n",
       "    </tr>\n",
       "    <tr>\n",
       "      <th>4</th>\n",
       "      <td>202101010003</td>\n",
       "      <td>Gori</td>\n",
       "      <td>26.5</td>\n",
       "      <td>86</td>\n",
       "    </tr>\n",
       "    <tr>\n",
       "      <th>5</th>\n",
       "      <td>202101010004</td>\n",
       "      <td>Gori</td>\n",
       "      <td>36.6</td>\n",
       "      <td>85</td>\n",
       "    </tr>\n",
       "  </tbody>\n",
       "</table>\n",
       "</div>"
      ],
      "text/plain": [
       "           time   stn    ws  wd\n",
       "1  202101010000  Gori  37.0  84\n",
       "2  202101010001  Gori  27.8  88\n",
       "3  202101010002  Gori  39.3  84\n",
       "4  202101010003  Gori  26.5  86\n",
       "5  202101010004  Gori  36.6  85"
      ]
     },
     "execution_count": 12,
     "metadata": {},
     "output_type": "execute_result"
    }
   ],
   "source": [
    "# 한수원 파고부이\n",
    "khnp_buoy = khnp_buoy_train.copy() #고리\n",
    "\n",
    "col_name ={'khnp_buoy_train.yyyymmddhhmi':'time',\n",
    "      'khnp_buoy_train.stn_name':'stn',\n",
    "      'khnp_buoy_train.ws':'ws',\n",
    "      'khnp_buoy_train.wd':'wd'}\n",
    "\n",
    "khnp_buoy.rename(columns=col_name, inplace=True)\n",
    "khnp_buoy.head()"
   ]
  },
  {
   "cell_type": "code",
   "execution_count": 13,
   "id": "3708b567",
   "metadata": {},
   "outputs": [
    {
     "data": {
      "text/html": [
       "<div>\n",
       "<style scoped>\n",
       "    .dataframe tbody tr th:only-of-type {\n",
       "        vertical-align: middle;\n",
       "    }\n",
       "\n",
       "    .dataframe tbody tr th {\n",
       "        vertical-align: top;\n",
       "    }\n",
       "\n",
       "    .dataframe thead th {\n",
       "        text-align: right;\n",
       "    }\n",
       "</style>\n",
       "<table border=\"1\" class=\"dataframe\">\n",
       "  <thead>\n",
       "    <tr style=\"text-align: right;\">\n",
       "      <th></th>\n",
       "      <th>time</th>\n",
       "      <th>stn_name</th>\n",
       "      <th>ws</th>\n",
       "      <th>wd_point</th>\n",
       "      <th>wd</th>\n",
       "    </tr>\n",
       "  </thead>\n",
       "  <tbody>\n",
       "    <tr>\n",
       "      <th>1</th>\n",
       "      <td>202101010000</td>\n",
       "      <td>SongJeong</td>\n",
       "      <td>45.3</td>\n",
       "      <td>NE</td>\n",
       "      <td>49.0</td>\n",
       "    </tr>\n",
       "    <tr>\n",
       "      <th>2</th>\n",
       "      <td>202101010005</td>\n",
       "      <td>SongJeong</td>\n",
       "      <td>43.0</td>\n",
       "      <td>NE</td>\n",
       "      <td>48.0</td>\n",
       "    </tr>\n",
       "    <tr>\n",
       "      <th>3</th>\n",
       "      <td>202101010010</td>\n",
       "      <td>SongJeong</td>\n",
       "      <td>45.0</td>\n",
       "      <td>NE</td>\n",
       "      <td>50.0</td>\n",
       "    </tr>\n",
       "    <tr>\n",
       "      <th>4</th>\n",
       "      <td>202101010015</td>\n",
       "      <td>SongJeong</td>\n",
       "      <td>44.8</td>\n",
       "      <td>NE</td>\n",
       "      <td>48.0</td>\n",
       "    </tr>\n",
       "    <tr>\n",
       "      <th>5</th>\n",
       "      <td>202101010020</td>\n",
       "      <td>SongJeong</td>\n",
       "      <td>43.2</td>\n",
       "      <td>NE</td>\n",
       "      <td>49.0</td>\n",
       "    </tr>\n",
       "  </tbody>\n",
       "</table>\n",
       "</div>"
      ],
      "text/plain": [
       "           time   stn_name    ws wd_point    wd\n",
       "1  202101010000  SongJeong  45.3       NE  49.0\n",
       "2  202101010005  SongJeong  43.0       NE  48.0\n",
       "3  202101010010  SongJeong  45.0       NE  50.0\n",
       "4  202101010015  SongJeong  44.8       NE  48.0\n",
       "5  202101010020  SongJeong  43.2       NE  49.0"
      ]
     },
     "execution_count": 13,
     "metadata": {},
     "output_type": "execute_result"
    }
   ],
   "source": [
    "# 해양조사원 파고부이\n",
    "khoa_buoy = khoa_buoy_train.copy() # 송정&해운대\n",
    "\n",
    "col_name ={'khoa_buoy_train.yyyymmddhhmi':'time',\n",
    "           'khoa_buoy_train.stn_name':'stn_name',\n",
    "           'khoa_buoy_train.ws':'ws',\n",
    "           'khoa_buoy_train.wd_point':'wd_point',\n",
    "           'khoa_buoy_train.wd':'wd'}\n",
    "\n",
    "khoa_buoy.rename(columns=col_name, inplace=True)\n",
    "khoa_buoy.head()"
   ]
  },
  {
   "cell_type": "code",
   "execution_count": 14,
   "id": "5571d4d7",
   "metadata": {},
   "outputs": [
    {
     "data": {
      "text/html": [
       "<div>\n",
       "<style scoped>\n",
       "    .dataframe tbody tr th:only-of-type {\n",
       "        vertical-align: middle;\n",
       "    }\n",
       "\n",
       "    .dataframe tbody tr th {\n",
       "        vertical-align: top;\n",
       "    }\n",
       "\n",
       "    .dataframe thead th {\n",
       "        text-align: right;\n",
       "    }\n",
       "</style>\n",
       "<table border=\"1\" class=\"dataframe\">\n",
       "  <thead>\n",
       "    <tr style=\"text-align: right;\">\n",
       "      <th></th>\n",
       "      <th>time</th>\n",
       "      <th>stn</th>\n",
       "      <th>stn_name</th>\n",
       "      <th>max_wh</th>\n",
       "      <th>sig_wh</th>\n",
       "      <th>mean_wh</th>\n",
       "    </tr>\n",
       "  </thead>\n",
       "  <tbody>\n",
       "    <tr>\n",
       "      <th>1</th>\n",
       "      <td>2021010100</td>\n",
       "      <td>22454</td>\n",
       "      <td>장안</td>\n",
       "      <td>0.7</td>\n",
       "      <td>0.5</td>\n",
       "      <td>0.3</td>\n",
       "    </tr>\n",
       "    <tr>\n",
       "      <th>2</th>\n",
       "      <td>2021010101</td>\n",
       "      <td>22454</td>\n",
       "      <td>장안</td>\n",
       "      <td>0.6</td>\n",
       "      <td>0.5</td>\n",
       "      <td>0.4</td>\n",
       "    </tr>\n",
       "    <tr>\n",
       "      <th>3</th>\n",
       "      <td>2021010102</td>\n",
       "      <td>22454</td>\n",
       "      <td>장안</td>\n",
       "      <td>0.8</td>\n",
       "      <td>0.6</td>\n",
       "      <td>0.4</td>\n",
       "    </tr>\n",
       "    <tr>\n",
       "      <th>4</th>\n",
       "      <td>2021010103</td>\n",
       "      <td>22454</td>\n",
       "      <td>장안</td>\n",
       "      <td>0.6</td>\n",
       "      <td>0.5</td>\n",
       "      <td>0.3</td>\n",
       "    </tr>\n",
       "    <tr>\n",
       "      <th>5</th>\n",
       "      <td>2021010104</td>\n",
       "      <td>22454</td>\n",
       "      <td>장안</td>\n",
       "      <td>0.6</td>\n",
       "      <td>0.4</td>\n",
       "      <td>0.3</td>\n",
       "    </tr>\n",
       "  </tbody>\n",
       "</table>\n",
       "</div>"
      ],
      "text/plain": [
       "         time    stn stn_name  max_wh  sig_wh  mean_wh\n",
       "1  2021010100  22454       장안     0.7     0.5      0.3\n",
       "2  2021010101  22454       장안     0.6     0.5      0.4\n",
       "3  2021010102  22454       장안     0.8     0.6      0.4\n",
       "4  2021010103  22454       장안     0.6     0.5      0.3\n",
       "5  2021010104  22454       장안     0.6     0.4      0.3"
      ]
     },
     "execution_count": 14,
     "metadata": {},
     "output_type": "execute_result"
    }
   ],
   "source": [
    "# 기상청 파고부이\n",
    "kma_pagobuoy = kma_pagobuoy_train.copy() #['장안', '오륙도', '다대포', '간절곶', '기장', '당사']\n",
    "\n",
    "col_name ={'kma_pagobuoy_train.yyyymmddhhmi':'time',\n",
    "           'kma_pagobuoy_train.stn':'stn',\n",
    "           'kma_pagobuoy_train.stn_name':'stn_name',\n",
    "           'kma_pagobuoy_train.max_wh':'max_wh',\n",
    "           'kma_pagobuoy_train.sig_wh':'sig_wh',\n",
    "           'kma_pagobuoy_train.mean_wh':'mean_wh'}\n",
    "\n",
    "kma_pagobuoy.rename(columns=col_name, inplace=True)\n",
    "kma_pagobuoy.head()"
   ]
  },
  {
   "cell_type": "code",
   "execution_count": 15,
   "id": "d279241e",
   "metadata": {},
   "outputs": [
    {
     "data": {
      "text/html": [
       "<div>\n",
       "<style scoped>\n",
       "    .dataframe tbody tr th:only-of-type {\n",
       "        vertical-align: middle;\n",
       "    }\n",
       "\n",
       "    .dataframe tbody tr th {\n",
       "        vertical-align: top;\n",
       "    }\n",
       "\n",
       "    .dataframe thead th {\n",
       "        text-align: right;\n",
       "    }\n",
       "</style>\n",
       "<table border=\"1\" class=\"dataframe\">\n",
       "  <thead>\n",
       "    <tr style=\"text-align: right;\">\n",
       "      <th></th>\n",
       "      <th>time</th>\n",
       "      <th>stn</th>\n",
       "      <th>stn_name</th>\n",
       "      <th>wd</th>\n",
       "      <th>ws</th>\n",
       "    </tr>\n",
       "  </thead>\n",
       "  <tbody>\n",
       "    <tr>\n",
       "      <th>1</th>\n",
       "      <td>202101010000</td>\n",
       "      <td>963</td>\n",
       "      <td>Idukseo</td>\n",
       "      <td>191</td>\n",
       "      <td>3.4</td>\n",
       "    </tr>\n",
       "    <tr>\n",
       "      <th>2</th>\n",
       "      <td>202101010000</td>\n",
       "      <td>963</td>\n",
       "      <td>Idukseo</td>\n",
       "      <td>191</td>\n",
       "      <td>3.4</td>\n",
       "    </tr>\n",
       "    <tr>\n",
       "      <th>3</th>\n",
       "      <td>202101010001</td>\n",
       "      <td>963</td>\n",
       "      <td>Idukseo</td>\n",
       "      <td>127</td>\n",
       "      <td>5.2</td>\n",
       "    </tr>\n",
       "    <tr>\n",
       "      <th>4</th>\n",
       "      <td>202101010002</td>\n",
       "      <td>963</td>\n",
       "      <td>Idukseo</td>\n",
       "      <td>99</td>\n",
       "      <td>5.4</td>\n",
       "    </tr>\n",
       "    <tr>\n",
       "      <th>5</th>\n",
       "      <td>202101010003</td>\n",
       "      <td>963</td>\n",
       "      <td>Idukseo</td>\n",
       "      <td>110</td>\n",
       "      <td>5.3</td>\n",
       "    </tr>\n",
       "  </tbody>\n",
       "</table>\n",
       "</div>"
      ],
      "text/plain": [
       "           time  stn stn_name   wd   ws\n",
       "1  202101010000  963  Idukseo  191  3.4\n",
       "2  202101010000  963  Idukseo  191  3.4\n",
       "3  202101010001  963  Idukseo  127  5.2\n",
       "4  202101010002  963  Idukseo   99  5.4\n",
       "5  202101010003  963  Idukseo  110  5.3"
      ]
     },
     "execution_count": 15,
     "metadata": {},
     "output_type": "execute_result"
    }
   ],
   "source": [
    "# 기상청 등표\n",
    "kma_lightbecon = kma_lightbecon_train.copy() #오륙도 & 이덕서\n",
    "\n",
    "col_name ={'kma_lightbecon_train.yyyymmddhhmi':'time',\n",
    "           'kma_lightbecon_train.stn':'stn',\n",
    "           'kma_lightbecon_train.stn_name':'stn_name',\n",
    "           'kma_lightbecon_train.wd':'wd',\n",
    "           'kma_lightbecon_train.ws':'ws'}\n",
    "\n",
    "kma_lightbecon.rename(columns=col_name, inplace=True)\n",
    "kma_lightbecon.head()"
   ]
  },
  {
   "cell_type": "code",
   "execution_count": 16,
   "id": "5ab039d7",
   "metadata": {},
   "outputs": [
    {
     "name": "stdout",
     "output_type": "stream",
     "text": [
      "<class 'pandas.core.frame.DataFrame'>\n",
      "Int64Index: 786240 entries, 1 to 786240\n",
      "Data columns (total 4 columns):\n",
      " #   Column  Non-Null Count   Dtype  \n",
      "---  ------  --------------   -----  \n",
      " 0   time    786240 non-null  object \n",
      " 1   stn     786240 non-null  object \n",
      " 2   ws      786240 non-null  float64\n",
      " 3   wd      786240 non-null  int64  \n",
      "dtypes: float64(1), int64(1), object(2)\n",
      "memory usage: 30.0+ MB\n"
     ]
    }
   ],
   "source": [
    "khnp_buoy['time'] = khnp_buoy['time'].astype('str')\n",
    "khnp_buoy.info()"
   ]
  },
  {
   "cell_type": "code",
   "execution_count": 17,
   "id": "f8d1f6b8",
   "metadata": {},
   "outputs": [
    {
     "ename": "TypeError",
     "evalue": "'method' object is not subscriptable",
     "output_type": "error",
     "traceback": [
      "\u001b[1;31m---------------------------------------------------------------------------\u001b[0m",
      "\u001b[1;31mTypeError\u001b[0m                                 Traceback (most recent call last)",
      "\u001b[1;32m~\\AppData\\Local\\Temp\\ipykernel_10512\\3599023703.py\u001b[0m in \u001b[0;36m<module>\u001b[1;34m\u001b[0m\n\u001b[1;32m----> 1\u001b[1;33m \u001b[0mkhnp_buoy\u001b[0m\u001b[1;33m[\u001b[0m\u001b[1;34m'time'\u001b[0m\u001b[1;33m]\u001b[0m\u001b[1;33m.\u001b[0m\u001b[0mstr\u001b[0m\u001b[1;33m[\u001b[0m\u001b[1;36m4\u001b[0m\u001b[1;33m]\u001b[0m\u001b[1;33m.\u001b[0m\u001b[0mappend\u001b[0m\u001b[1;33m[\u001b[0m\u001b[1;34m'-'\u001b[0m\u001b[1;33m]\u001b[0m\u001b[1;33m\u001b[0m\u001b[1;33m\u001b[0m\u001b[0m\n\u001b[0m\u001b[0;32m      2\u001b[0m \u001b[0mkhnp_buoy\u001b[0m\u001b[1;33m.\u001b[0m\u001b[0mhead\u001b[0m\u001b[1;33m(\u001b[0m\u001b[1;33m)\u001b[0m\u001b[1;33m\u001b[0m\u001b[1;33m\u001b[0m\u001b[0m\n",
      "\u001b[1;31mTypeError\u001b[0m: 'method' object is not subscriptable"
     ]
    }
   ],
   "source": [
    "khnp_buoy['time'].str[4].append['-']\n",
    "khnp_buoy.head()"
   ]
  },
  {
   "cell_type": "code",
   "execution_count": 18,
   "id": "76a63b44",
   "metadata": {},
   "outputs": [
    {
     "data": {
      "text/html": [
       "<div>\n",
       "<style scoped>\n",
       "    .dataframe tbody tr th:only-of-type {\n",
       "        vertical-align: middle;\n",
       "    }\n",
       "\n",
       "    .dataframe tbody tr th {\n",
       "        vertical-align: top;\n",
       "    }\n",
       "\n",
       "    .dataframe thead th {\n",
       "        text-align: right;\n",
       "    }\n",
       "</style>\n",
       "<table border=\"1\" class=\"dataframe\">\n",
       "  <thead>\n",
       "    <tr style=\"text-align: right;\">\n",
       "      <th></th>\n",
       "      <th>ulsan_answer.area</th>\n",
       "      <th>ulsan_answer.year</th>\n",
       "      <th>ulsan_answer.num</th>\n",
       "      <th>ulsan_answer.mon</th>\n",
       "      <th>ulsan_answer.day</th>\n",
       "      <th>ulsan_answer.hour</th>\n",
       "      <th>ulsan_answer.min</th>\n",
       "      <th>ulsan_answer.lat</th>\n",
       "      <th>ulsan_answer.lon</th>\n",
       "    </tr>\n",
       "  </thead>\n",
       "  <tbody>\n",
       "    <tr>\n",
       "      <th>1</th>\n",
       "      <td>ULSAN</td>\n",
       "      <td>2021</td>\n",
       "      <td>1</td>\n",
       "      <td>2</td>\n",
       "      <td>15</td>\n",
       "      <td>18</td>\n",
       "      <td>41</td>\n",
       "      <td>N35.431217</td>\n",
       "      <td>E129.46316</td>\n",
       "    </tr>\n",
       "    <tr>\n",
       "      <th>2</th>\n",
       "      <td>ULSAN</td>\n",
       "      <td>2021</td>\n",
       "      <td>2</td>\n",
       "      <td>2</td>\n",
       "      <td>21</td>\n",
       "      <td>14</td>\n",
       "      <td>56</td>\n",
       "      <td>N35.453320</td>\n",
       "      <td>E129.46086</td>\n",
       "    </tr>\n",
       "    <tr>\n",
       "      <th>3</th>\n",
       "      <td>ULSAN</td>\n",
       "      <td>2021</td>\n",
       "      <td>3</td>\n",
       "      <td>2</td>\n",
       "      <td>21</td>\n",
       "      <td>21</td>\n",
       "      <td>58</td>\n",
       "      <td>N35.450960</td>\n",
       "      <td>E129.45168</td>\n",
       "    </tr>\n",
       "    <tr>\n",
       "      <th>4</th>\n",
       "      <td>ULSAN</td>\n",
       "      <td>2021</td>\n",
       "      <td>4</td>\n",
       "      <td>2</td>\n",
       "      <td>26</td>\n",
       "      <td>10</td>\n",
       "      <td>5</td>\n",
       "      <td>N35.464458</td>\n",
       "      <td>E129.43729</td>\n",
       "    </tr>\n",
       "    <tr>\n",
       "      <th>5</th>\n",
       "      <td>ULSAN</td>\n",
       "      <td>2021</td>\n",
       "      <td>5</td>\n",
       "      <td>2</td>\n",
       "      <td>26</td>\n",
       "      <td>13</td>\n",
       "      <td>59</td>\n",
       "      <td>N35.427322</td>\n",
       "      <td>E129.43845</td>\n",
       "    </tr>\n",
       "  </tbody>\n",
       "</table>\n",
       "</div>"
      ],
      "text/plain": [
       "  ulsan_answer.area  ulsan_answer.year  ulsan_answer.num  ulsan_answer.mon  \\\n",
       "1             ULSAN               2021                 1                 2   \n",
       "2             ULSAN               2021                 2                 2   \n",
       "3             ULSAN               2021                 3                 2   \n",
       "4             ULSAN               2021                 4                 2   \n",
       "5             ULSAN               2021                 5                 2   \n",
       "\n",
       "   ulsan_answer.day  ulsan_answer.hour  ulsan_answer.min ulsan_answer.lat  \\\n",
       "1                15                 18                41       N35.431217   \n",
       "2                21                 14                56       N35.453320   \n",
       "3                21                 21                58       N35.450960   \n",
       "4                26                 10                 5       N35.464458   \n",
       "5                26                 13                59       N35.427322   \n",
       "\n",
       "  ulsan_answer.lon  \n",
       "1       E129.46316  \n",
       "2       E129.46086  \n",
       "3       E129.45168  \n",
       "4       E129.43729  \n",
       "5       E129.43845  "
      ]
     },
     "execution_count": 18,
     "metadata": {},
     "output_type": "execute_result"
    }
   ],
   "source": [
    "ulsan_ans = ulsan_answer.copy()\n",
    "ulsan_ans['time'] = ulsan_ans[ulsan_ans]\n"
   ]
  },
  {
   "cell_type": "code",
   "execution_count": 20,
   "id": "2845bcc7",
   "metadata": {},
   "outputs": [
    {
     "name": "stdout",
     "output_type": "stream",
     "text": [
      "<class 'pandas.core.frame.DataFrame'>\n",
      "Int64Index: 163 entries, 1 to 163\n",
      "Data columns (total 9 columns):\n",
      " #   Column             Non-Null Count  Dtype \n",
      "---  ------             --------------  ----- \n",
      " 0   ulsan_answer.area  163 non-null    object\n",
      " 1   ulsan_answer.year  163 non-null    int64 \n",
      " 2   ulsan_answer.num   163 non-null    int64 \n",
      " 3   ulsan_answer.mon   163 non-null    int64 \n",
      " 4   ulsan_answer.day   163 non-null    int64 \n",
      " 5   ulsan_answer.hour  163 non-null    int64 \n",
      " 6   ulsan_answer.min   163 non-null    int64 \n",
      " 7   ulsan_answer.lat   163 non-null    object\n",
      " 8   ulsan_answer.lon   163 non-null    object\n",
      "dtypes: int64(6), object(3)\n",
      "memory usage: 12.7+ KB\n"
     ]
    }
   ],
   "source": [
    "ulsan_answer.info()"
   ]
  },
  {
   "cell_type": "code",
   "execution_count": null,
   "id": "900d060e",
   "metadata": {},
   "outputs": [],
   "source": []
  }
 ],
 "metadata": {
  "kernelspec": {
   "display_name": "Python 3 (ipykernel)",
   "language": "python",
   "name": "python3"
  },
  "language_info": {
   "codemirror_mode": {
    "name": "ipython",
    "version": 3
   },
   "file_extension": ".py",
   "mimetype": "text/x-python",
   "name": "python",
   "nbconvert_exporter": "python",
   "pygments_lexer": "ipython3",
   "version": "3.9.13"
  }
 },
 "nbformat": 4,
 "nbformat_minor": 5
}
