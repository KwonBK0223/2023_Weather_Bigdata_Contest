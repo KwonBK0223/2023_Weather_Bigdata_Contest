{
 "cells": [
  {
   "cell_type": "code",
   "execution_count": 2,
   "id": "042d02b1",
   "metadata": {
    "ExecuteTime": {
     "end_time": "2023-06-10T07:44:11.805863Z",
     "start_time": "2023-06-10T07:44:10.162159Z"
    }
   },
   "outputs": [],
   "source": [
    "import pandas as pd\n",
    "import matplotlib.pyplot as plt"
   ]
  },
  {
   "cell_type": "code",
   "execution_count": 3,
   "id": "663e39e0",
   "metadata": {
    "ExecuteTime": {
     "end_time": "2023-06-10T07:44:13.202378Z",
     "start_time": "2023-06-10T07:44:11.833830Z"
    }
   },
   "outputs": [],
   "source": [
    "a = pd.read_csv(\"../기상청공모전/data/derivate_data.csv\")"
   ]
  },
  {
   "cell_type": "code",
   "execution_count": 4,
   "id": "c6e9c091",
   "metadata": {
    "ExecuteTime": {
     "end_time": "2023-06-10T07:44:13.296643Z",
     "start_time": "2023-06-10T07:44:13.239797Z"
    }
   },
   "outputs": [],
   "source": [
    "a1 = a.iloc[:,1:]"
   ]
  },
  {
   "cell_type": "code",
   "execution_count": 5,
   "id": "b28cf2c9",
   "metadata": {
    "ExecuteTime": {
     "end_time": "2023-06-10T07:44:13.543264Z",
     "start_time": "2023-06-10T07:44:13.336815Z"
    }
   },
   "outputs": [],
   "source": [
    "a1 = a1[a1[\"cog\"] != -99.9]\n",
    "a1 = a1[a1[\"hdg\"] != -99.9]\n",
    "a1 = a1[a1[\"hdg\"] != -99]"
   ]
  },
  {
   "cell_type": "code",
   "execution_count": 6,
   "id": "d0a5d8a1",
   "metadata": {
    "ExecuteTime": {
     "end_time": "2023-06-10T07:44:25.262955Z",
     "start_time": "2023-06-10T07:44:13.581765Z"
    }
   },
   "outputs": [
    {
     "name": "stdout",
     "output_type": "stream",
     "text": [
      "정확도: 0.9835146171903896\n"
     ]
    }
   ],
   "source": [
    "# KNN\n",
    "from sklearn.neighbors import KNeighborsClassifier\n",
    "from sklearn.model_selection import train_test_split\n",
    "from sklearn.metrics import accuracy_score, f1_score\n",
    "\n",
    "X = a1.iloc[:, 2:]  # 세번째 열부터 마지막 열까지 입력값\n",
    "y = a1.iloc[:, 0]  # 첫번째 열이 정답열\n",
    "\n",
    "# 학습 데이터와 테스트 데이터로 분리\n",
    "X_train, X_test, y_train, y_test = train_test_split(X, y, test_size=0.2, random_state=42)\n",
    "\n",
    "# KNN 모델 학습\n",
    "k = 5  # 이웃의 개수 설정\n",
    "model = KNeighborsClassifier(n_neighbors=k)\n",
    "model.fit(X_train, y_train)\n",
    "\n",
    "# 테스트 데이터 예측\n",
    "y_pred = model.predict(X_test)\n",
    "\n",
    "# 정확도 평가\n",
    "accuracy = accuracy_score(y_test, y_pred)\n",
    "print(\"정확도:\", accuracy)"
   ]
  },
  {
   "cell_type": "code",
   "execution_count": 8,
   "id": "ddb08f4d",
   "metadata": {
    "ExecuteTime": {
     "end_time": "2023-06-10T07:46:44.191563Z",
     "start_time": "2023-06-10T07:46:44.115200Z"
    }
   },
   "outputs": [
    {
     "name": "stdout",
     "output_type": "stream",
     "text": [
      "F1 점수: 0.4294670846394985\n"
     ]
    }
   ],
   "source": [
    "from sklearn.metrics import f1_score\n",
    "f1 = f1_score(y_test, y_pred)\n",
    "print(\"F1 점수:\", f1)"
   ]
  },
  {
   "cell_type": "code",
   "execution_count": 10,
   "id": "d6224204",
   "metadata": {
    "ExecuteTime": {
     "end_time": "2023-06-10T07:46:59.936607Z",
     "start_time": "2023-06-10T07:46:59.854463Z"
    }
   },
   "outputs": [
    {
     "name": "stdout",
     "output_type": "stream",
     "text": [
      "CSI 점수: 0.27345309381237526\n"
     ]
    }
   ],
   "source": [
    "from sklearn.metrics import confusion_matrix\n",
    "\n",
    "# True Positive (TP): 예측과 실제 값이 모두 1인 경우\n",
    "tp = sum((y_test == 1) & (y_pred == 1))\n",
    "\n",
    "# False Positive (FP): 예측은 1이지만 실제 값은 0인 경우\n",
    "fp = sum((y_test == 0) & (y_pred == 1))\n",
    "\n",
    "# False Negative (FN): 예측은 0이지만 실제 값은 1인 경우\n",
    "fn = sum((y_test == 1) & (y_pred == 0))\n",
    "\n",
    "# Critical Success Index (CSI): TP / (TP + FP + FN)\n",
    "csi = tp / (tp + fp + fn)\n",
    "print(\"CSI 점수:\", csi)"
   ]
  }
 ],
 "metadata": {
  "kernelspec": {
   "display_name": "Python 3 (ipykernel)",
   "language": "python",
   "name": "python3"
  },
  "language_info": {
   "codemirror_mode": {
    "name": "ipython",
    "version": 3
   },
   "file_extension": ".py",
   "mimetype": "text/x-python",
   "name": "python",
   "nbconvert_exporter": "python",
   "pygments_lexer": "ipython3",
   "version": "3.9.12"
  },
  "toc": {
   "base_numbering": 1,
   "nav_menu": {},
   "number_sections": false,
   "sideBar": true,
   "skip_h1_title": false,
   "title_cell": "Table of Contents",
   "title_sidebar": "Contents",
   "toc_cell": false,
   "toc_position": {},
   "toc_section_display": true,
   "toc_window_display": false
  },
  "varInspector": {
   "cols": {
    "lenName": 16,
    "lenType": 16,
    "lenVar": 40
   },
   "kernels_config": {
    "python": {
     "delete_cmd_postfix": "",
     "delete_cmd_prefix": "del ",
     "library": "var_list.py",
     "varRefreshCmd": "print(var_dic_list())"
    },
    "r": {
     "delete_cmd_postfix": ") ",
     "delete_cmd_prefix": "rm(",
     "library": "var_list.r",
     "varRefreshCmd": "cat(var_dic_list()) "
    }
   },
   "types_to_exclude": [
    "module",
    "function",
    "builtin_function_or_method",
    "instance",
    "_Feature"
   ],
   "window_display": false
  }
 },
 "nbformat": 4,
 "nbformat_minor": 5
}
