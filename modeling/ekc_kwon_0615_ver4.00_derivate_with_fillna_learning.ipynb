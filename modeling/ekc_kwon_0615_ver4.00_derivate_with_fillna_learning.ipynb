{
 "cells": [
  {
   "cell_type": "code",
   "execution_count": 1,
   "id": "d357c129",
   "metadata": {
    "ExecuteTime": {
     "end_time": "2023-06-15T06:50:11.166318Z",
     "start_time": "2023-06-15T06:50:10.595708Z"
    }
   },
   "outputs": [],
   "source": [
    "import pandas as pd"
   ]
  },
  {
   "cell_type": "code",
   "execution_count": 2,
   "id": "663c73ad",
   "metadata": {
    "ExecuteTime": {
     "end_time": "2023-06-15T06:50:33.766924Z",
     "start_time": "2023-06-15T06:50:32.333092Z"
    }
   },
   "outputs": [],
   "source": [
    "a = pd.read_csv(\"../기상청공모전/data/derivate_date_fillna.csv\")"
   ]
  },
  {
   "cell_type": "code",
   "execution_count": 3,
   "id": "d73e61b7",
   "metadata": {
    "ExecuteTime": {
     "end_time": "2023-06-15T06:50:34.652509Z",
     "start_time": "2023-06-15T06:50:34.595654Z"
    }
   },
   "outputs": [
    {
     "data": {
      "text/html": [
       "<div>\n",
       "<style scoped>\n",
       "    .dataframe tbody tr th:only-of-type {\n",
       "        vertical-align: middle;\n",
       "    }\n",
       "\n",
       "    .dataframe tbody tr th {\n",
       "        vertical-align: top;\n",
       "    }\n",
       "\n",
       "    .dataframe thead th {\n",
       "        text-align: right;\n",
       "    }\n",
       "</style>\n",
       "<table border=\"1\" class=\"dataframe\">\n",
       "  <thead>\n",
       "    <tr style=\"text-align: right;\">\n",
       "      <th></th>\n",
       "      <th>Unnamed: 0</th>\n",
       "      <th>anchor_drag</th>\n",
       "      <th>num</th>\n",
       "      <th>latitude</th>\n",
       "      <th>longitude</th>\n",
       "      <th>sog</th>\n",
       "      <th>cog</th>\n",
       "      <th>hdg</th>\n",
       "      <th>d_lati</th>\n",
       "      <th>d_long</th>\n",
       "      <th>d_d_lati</th>\n",
       "      <th>d_d_long</th>\n",
       "    </tr>\n",
       "  </thead>\n",
       "  <tbody>\n",
       "    <tr>\n",
       "      <th>0</th>\n",
       "      <td>2</td>\n",
       "      <td>0</td>\n",
       "      <td>1001</td>\n",
       "      <td>35.461472</td>\n",
       "      <td>129.439878</td>\n",
       "      <td>0.4</td>\n",
       "      <td>9.6</td>\n",
       "      <td>273.0</td>\n",
       "      <td>0.000312</td>\n",
       "      <td>0.000333</td>\n",
       "      <td>0.000342</td>\n",
       "      <td>0.000342</td>\n",
       "    </tr>\n",
       "    <tr>\n",
       "      <th>1</th>\n",
       "      <td>3</td>\n",
       "      <td>0</td>\n",
       "      <td>1001</td>\n",
       "      <td>35.461688</td>\n",
       "      <td>129.439792</td>\n",
       "      <td>0.2</td>\n",
       "      <td>328.0</td>\n",
       "      <td>267.0</td>\n",
       "      <td>0.000216</td>\n",
       "      <td>-0.000086</td>\n",
       "      <td>-0.000096</td>\n",
       "      <td>-0.000096</td>\n",
       "    </tr>\n",
       "    <tr>\n",
       "      <th>2</th>\n",
       "      <td>4</td>\n",
       "      <td>0</td>\n",
       "      <td>1001</td>\n",
       "      <td>35.461708</td>\n",
       "      <td>129.439733</td>\n",
       "      <td>0.2</td>\n",
       "      <td>260.1</td>\n",
       "      <td>265.0</td>\n",
       "      <td>0.000020</td>\n",
       "      <td>-0.000059</td>\n",
       "      <td>-0.000196</td>\n",
       "      <td>-0.000196</td>\n",
       "    </tr>\n",
       "    <tr>\n",
       "      <th>3</th>\n",
       "      <td>5</td>\n",
       "      <td>0</td>\n",
       "      <td>1001</td>\n",
       "      <td>35.461720</td>\n",
       "      <td>129.439708</td>\n",
       "      <td>0.1</td>\n",
       "      <td>262.8</td>\n",
       "      <td>270.0</td>\n",
       "      <td>0.000012</td>\n",
       "      <td>-0.000025</td>\n",
       "      <td>-0.000008</td>\n",
       "      <td>-0.000008</td>\n",
       "    </tr>\n",
       "    <tr>\n",
       "      <th>4</th>\n",
       "      <td>6</td>\n",
       "      <td>0</td>\n",
       "      <td>1001</td>\n",
       "      <td>35.461733</td>\n",
       "      <td>129.439717</td>\n",
       "      <td>0.3</td>\n",
       "      <td>277.6</td>\n",
       "      <td>273.0</td>\n",
       "      <td>0.000013</td>\n",
       "      <td>0.000009</td>\n",
       "      <td>0.000001</td>\n",
       "      <td>0.000001</td>\n",
       "    </tr>\n",
       "    <tr>\n",
       "      <th>...</th>\n",
       "      <td>...</td>\n",
       "      <td>...</td>\n",
       "      <td>...</td>\n",
       "      <td>...</td>\n",
       "      <td>...</td>\n",
       "      <td>...</td>\n",
       "      <td>...</td>\n",
       "      <td>...</td>\n",
       "      <td>...</td>\n",
       "      <td>...</td>\n",
       "      <td>...</td>\n",
       "      <td>...</td>\n",
       "    </tr>\n",
       "    <tr>\n",
       "      <th>681435</th>\n",
       "      <td>682471</td>\n",
       "      <td>1</td>\n",
       "      <td>4087</td>\n",
       "      <td>35.053083</td>\n",
       "      <td>129.061333</td>\n",
       "      <td>1.3</td>\n",
       "      <td>26.0</td>\n",
       "      <td>97.0</td>\n",
       "      <td>0.000033</td>\n",
       "      <td>0.000016</td>\n",
       "      <td>-0.000017</td>\n",
       "      <td>-0.000017</td>\n",
       "    </tr>\n",
       "    <tr>\n",
       "      <th>681436</th>\n",
       "      <td>682472</td>\n",
       "      <td>1</td>\n",
       "      <td>4087</td>\n",
       "      <td>35.053083</td>\n",
       "      <td>129.061333</td>\n",
       "      <td>1.3</td>\n",
       "      <td>29.0</td>\n",
       "      <td>99.0</td>\n",
       "      <td>0.000000</td>\n",
       "      <td>0.000000</td>\n",
       "      <td>-0.000033</td>\n",
       "      <td>-0.000033</td>\n",
       "    </tr>\n",
       "    <tr>\n",
       "      <th>681437</th>\n",
       "      <td>682473</td>\n",
       "      <td>1</td>\n",
       "      <td>4087</td>\n",
       "      <td>35.053117</td>\n",
       "      <td>129.061400</td>\n",
       "      <td>1.2</td>\n",
       "      <td>48.0</td>\n",
       "      <td>106.0</td>\n",
       "      <td>0.000034</td>\n",
       "      <td>0.000067</td>\n",
       "      <td>0.000034</td>\n",
       "      <td>0.000034</td>\n",
       "    </tr>\n",
       "    <tr>\n",
       "      <th>681438</th>\n",
       "      <td>682474</td>\n",
       "      <td>1</td>\n",
       "      <td>4087</td>\n",
       "      <td>35.053117</td>\n",
       "      <td>129.061417</td>\n",
       "      <td>1.2</td>\n",
       "      <td>52.0</td>\n",
       "      <td>108.0</td>\n",
       "      <td>0.000000</td>\n",
       "      <td>0.000017</td>\n",
       "      <td>-0.000034</td>\n",
       "      <td>-0.000034</td>\n",
       "    </tr>\n",
       "    <tr>\n",
       "      <th>681439</th>\n",
       "      <td>682475</td>\n",
       "      <td>1</td>\n",
       "      <td>4087</td>\n",
       "      <td>35.053133</td>\n",
       "      <td>129.061500</td>\n",
       "      <td>1.2</td>\n",
       "      <td>80.0</td>\n",
       "      <td>116.0</td>\n",
       "      <td>0.000016</td>\n",
       "      <td>0.000083</td>\n",
       "      <td>0.000016</td>\n",
       "      <td>0.000016</td>\n",
       "    </tr>\n",
       "  </tbody>\n",
       "</table>\n",
       "<p>681440 rows × 12 columns</p>\n",
       "</div>"
      ],
      "text/plain": [
       "        Unnamed: 0  anchor_drag   num   latitude   longitude  sog    cog  \\\n",
       "0                2            0  1001  35.461472  129.439878  0.4    9.6   \n",
       "1                3            0  1001  35.461688  129.439792  0.2  328.0   \n",
       "2                4            0  1001  35.461708  129.439733  0.2  260.1   \n",
       "3                5            0  1001  35.461720  129.439708  0.1  262.8   \n",
       "4                6            0  1001  35.461733  129.439717  0.3  277.6   \n",
       "...            ...          ...   ...        ...         ...  ...    ...   \n",
       "681435      682471            1  4087  35.053083  129.061333  1.3   26.0   \n",
       "681436      682472            1  4087  35.053083  129.061333  1.3   29.0   \n",
       "681437      682473            1  4087  35.053117  129.061400  1.2   48.0   \n",
       "681438      682474            1  4087  35.053117  129.061417  1.2   52.0   \n",
       "681439      682475            1  4087  35.053133  129.061500  1.2   80.0   \n",
       "\n",
       "          hdg    d_lati    d_long  d_d_lati  d_d_long  \n",
       "0       273.0  0.000312  0.000333  0.000342  0.000342  \n",
       "1       267.0  0.000216 -0.000086 -0.000096 -0.000096  \n",
       "2       265.0  0.000020 -0.000059 -0.000196 -0.000196  \n",
       "3       270.0  0.000012 -0.000025 -0.000008 -0.000008  \n",
       "4       273.0  0.000013  0.000009  0.000001  0.000001  \n",
       "...       ...       ...       ...       ...       ...  \n",
       "681435   97.0  0.000033  0.000016 -0.000017 -0.000017  \n",
       "681436   99.0  0.000000  0.000000 -0.000033 -0.000033  \n",
       "681437  106.0  0.000034  0.000067  0.000034  0.000034  \n",
       "681438  108.0  0.000000  0.000017 -0.000034 -0.000034  \n",
       "681439  116.0  0.000016  0.000083  0.000016  0.000016  \n",
       "\n",
       "[681440 rows x 12 columns]"
      ]
     },
     "execution_count": 3,
     "metadata": {},
     "output_type": "execute_result"
    }
   ],
   "source": [
    "a"
   ]
  },
  {
   "cell_type": "code",
   "execution_count": 4,
   "id": "3ff71fdc",
   "metadata": {
    "ExecuteTime": {
     "end_time": "2023-06-15T06:50:53.441448Z",
     "start_time": "2023-06-15T06:50:53.389858Z"
    }
   },
   "outputs": [],
   "source": [
    "a1 = a.iloc[:,1:]"
   ]
  },
  {
   "cell_type": "code",
   "execution_count": 5,
   "id": "b3be11d6",
   "metadata": {
    "ExecuteTime": {
     "end_time": "2023-06-15T06:50:55.355050Z",
     "start_time": "2023-06-15T06:50:55.328120Z"
    }
   },
   "outputs": [
    {
     "data": {
      "text/html": [
       "<div>\n",
       "<style scoped>\n",
       "    .dataframe tbody tr th:only-of-type {\n",
       "        vertical-align: middle;\n",
       "    }\n",
       "\n",
       "    .dataframe tbody tr th {\n",
       "        vertical-align: top;\n",
       "    }\n",
       "\n",
       "    .dataframe thead th {\n",
       "        text-align: right;\n",
       "    }\n",
       "</style>\n",
       "<table border=\"1\" class=\"dataframe\">\n",
       "  <thead>\n",
       "    <tr style=\"text-align: right;\">\n",
       "      <th></th>\n",
       "      <th>anchor_drag</th>\n",
       "      <th>num</th>\n",
       "      <th>latitude</th>\n",
       "      <th>longitude</th>\n",
       "      <th>sog</th>\n",
       "      <th>cog</th>\n",
       "      <th>hdg</th>\n",
       "      <th>d_lati</th>\n",
       "      <th>d_long</th>\n",
       "      <th>d_d_lati</th>\n",
       "      <th>d_d_long</th>\n",
       "    </tr>\n",
       "  </thead>\n",
       "  <tbody>\n",
       "    <tr>\n",
       "      <th>0</th>\n",
       "      <td>0</td>\n",
       "      <td>1001</td>\n",
       "      <td>35.461472</td>\n",
       "      <td>129.439878</td>\n",
       "      <td>0.4</td>\n",
       "      <td>9.6</td>\n",
       "      <td>273.0</td>\n",
       "      <td>0.000312</td>\n",
       "      <td>0.000333</td>\n",
       "      <td>0.000342</td>\n",
       "      <td>0.000342</td>\n",
       "    </tr>\n",
       "    <tr>\n",
       "      <th>1</th>\n",
       "      <td>0</td>\n",
       "      <td>1001</td>\n",
       "      <td>35.461688</td>\n",
       "      <td>129.439792</td>\n",
       "      <td>0.2</td>\n",
       "      <td>328.0</td>\n",
       "      <td>267.0</td>\n",
       "      <td>0.000216</td>\n",
       "      <td>-0.000086</td>\n",
       "      <td>-0.000096</td>\n",
       "      <td>-0.000096</td>\n",
       "    </tr>\n",
       "    <tr>\n",
       "      <th>2</th>\n",
       "      <td>0</td>\n",
       "      <td>1001</td>\n",
       "      <td>35.461708</td>\n",
       "      <td>129.439733</td>\n",
       "      <td>0.2</td>\n",
       "      <td>260.1</td>\n",
       "      <td>265.0</td>\n",
       "      <td>0.000020</td>\n",
       "      <td>-0.000059</td>\n",
       "      <td>-0.000196</td>\n",
       "      <td>-0.000196</td>\n",
       "    </tr>\n",
       "    <tr>\n",
       "      <th>3</th>\n",
       "      <td>0</td>\n",
       "      <td>1001</td>\n",
       "      <td>35.461720</td>\n",
       "      <td>129.439708</td>\n",
       "      <td>0.1</td>\n",
       "      <td>262.8</td>\n",
       "      <td>270.0</td>\n",
       "      <td>0.000012</td>\n",
       "      <td>-0.000025</td>\n",
       "      <td>-0.000008</td>\n",
       "      <td>-0.000008</td>\n",
       "    </tr>\n",
       "    <tr>\n",
       "      <th>4</th>\n",
       "      <td>0</td>\n",
       "      <td>1001</td>\n",
       "      <td>35.461733</td>\n",
       "      <td>129.439717</td>\n",
       "      <td>0.3</td>\n",
       "      <td>277.6</td>\n",
       "      <td>273.0</td>\n",
       "      <td>0.000013</td>\n",
       "      <td>0.000009</td>\n",
       "      <td>0.000001</td>\n",
       "      <td>0.000001</td>\n",
       "    </tr>\n",
       "    <tr>\n",
       "      <th>...</th>\n",
       "      <td>...</td>\n",
       "      <td>...</td>\n",
       "      <td>...</td>\n",
       "      <td>...</td>\n",
       "      <td>...</td>\n",
       "      <td>...</td>\n",
       "      <td>...</td>\n",
       "      <td>...</td>\n",
       "      <td>...</td>\n",
       "      <td>...</td>\n",
       "      <td>...</td>\n",
       "    </tr>\n",
       "    <tr>\n",
       "      <th>681435</th>\n",
       "      <td>1</td>\n",
       "      <td>4087</td>\n",
       "      <td>35.053083</td>\n",
       "      <td>129.061333</td>\n",
       "      <td>1.3</td>\n",
       "      <td>26.0</td>\n",
       "      <td>97.0</td>\n",
       "      <td>0.000033</td>\n",
       "      <td>0.000016</td>\n",
       "      <td>-0.000017</td>\n",
       "      <td>-0.000017</td>\n",
       "    </tr>\n",
       "    <tr>\n",
       "      <th>681436</th>\n",
       "      <td>1</td>\n",
       "      <td>4087</td>\n",
       "      <td>35.053083</td>\n",
       "      <td>129.061333</td>\n",
       "      <td>1.3</td>\n",
       "      <td>29.0</td>\n",
       "      <td>99.0</td>\n",
       "      <td>0.000000</td>\n",
       "      <td>0.000000</td>\n",
       "      <td>-0.000033</td>\n",
       "      <td>-0.000033</td>\n",
       "    </tr>\n",
       "    <tr>\n",
       "      <th>681437</th>\n",
       "      <td>1</td>\n",
       "      <td>4087</td>\n",
       "      <td>35.053117</td>\n",
       "      <td>129.061400</td>\n",
       "      <td>1.2</td>\n",
       "      <td>48.0</td>\n",
       "      <td>106.0</td>\n",
       "      <td>0.000034</td>\n",
       "      <td>0.000067</td>\n",
       "      <td>0.000034</td>\n",
       "      <td>0.000034</td>\n",
       "    </tr>\n",
       "    <tr>\n",
       "      <th>681438</th>\n",
       "      <td>1</td>\n",
       "      <td>4087</td>\n",
       "      <td>35.053117</td>\n",
       "      <td>129.061417</td>\n",
       "      <td>1.2</td>\n",
       "      <td>52.0</td>\n",
       "      <td>108.0</td>\n",
       "      <td>0.000000</td>\n",
       "      <td>0.000017</td>\n",
       "      <td>-0.000034</td>\n",
       "      <td>-0.000034</td>\n",
       "    </tr>\n",
       "    <tr>\n",
       "      <th>681439</th>\n",
       "      <td>1</td>\n",
       "      <td>4087</td>\n",
       "      <td>35.053133</td>\n",
       "      <td>129.061500</td>\n",
       "      <td>1.2</td>\n",
       "      <td>80.0</td>\n",
       "      <td>116.0</td>\n",
       "      <td>0.000016</td>\n",
       "      <td>0.000083</td>\n",
       "      <td>0.000016</td>\n",
       "      <td>0.000016</td>\n",
       "    </tr>\n",
       "  </tbody>\n",
       "</table>\n",
       "<p>681440 rows × 11 columns</p>\n",
       "</div>"
      ],
      "text/plain": [
       "        anchor_drag   num   latitude   longitude  sog    cog    hdg    d_lati  \\\n",
       "0                 0  1001  35.461472  129.439878  0.4    9.6  273.0  0.000312   \n",
       "1                 0  1001  35.461688  129.439792  0.2  328.0  267.0  0.000216   \n",
       "2                 0  1001  35.461708  129.439733  0.2  260.1  265.0  0.000020   \n",
       "3                 0  1001  35.461720  129.439708  0.1  262.8  270.0  0.000012   \n",
       "4                 0  1001  35.461733  129.439717  0.3  277.6  273.0  0.000013   \n",
       "...             ...   ...        ...         ...  ...    ...    ...       ...   \n",
       "681435            1  4087  35.053083  129.061333  1.3   26.0   97.0  0.000033   \n",
       "681436            1  4087  35.053083  129.061333  1.3   29.0   99.0  0.000000   \n",
       "681437            1  4087  35.053117  129.061400  1.2   48.0  106.0  0.000034   \n",
       "681438            1  4087  35.053117  129.061417  1.2   52.0  108.0  0.000000   \n",
       "681439            1  4087  35.053133  129.061500  1.2   80.0  116.0  0.000016   \n",
       "\n",
       "          d_long  d_d_lati  d_d_long  \n",
       "0       0.000333  0.000342  0.000342  \n",
       "1      -0.000086 -0.000096 -0.000096  \n",
       "2      -0.000059 -0.000196 -0.000196  \n",
       "3      -0.000025 -0.000008 -0.000008  \n",
       "4       0.000009  0.000001  0.000001  \n",
       "...          ...       ...       ...  \n",
       "681435  0.000016 -0.000017 -0.000017  \n",
       "681436  0.000000 -0.000033 -0.000033  \n",
       "681437  0.000067  0.000034  0.000034  \n",
       "681438  0.000017 -0.000034 -0.000034  \n",
       "681439  0.000083  0.000016  0.000016  \n",
       "\n",
       "[681440 rows x 11 columns]"
      ]
     },
     "execution_count": 5,
     "metadata": {},
     "output_type": "execute_result"
    }
   ],
   "source": [
    "a1"
   ]
  },
  {
   "cell_type": "markdown",
   "id": "271495be",
   "metadata": {},
   "source": [
    "# XGB"
   ]
  },
  {
   "cell_type": "code",
   "execution_count": 6,
   "id": "4a39ae3a",
   "metadata": {
    "ExecuteTime": {
     "end_time": "2023-06-15T06:51:30.993267Z",
     "start_time": "2023-06-15T06:51:03.933836Z"
    }
   },
   "outputs": [
    {
     "name": "stdout",
     "output_type": "stream",
     "text": [
      "정확도: 0.9944749354308523\n"
     ]
    }
   ],
   "source": [
    "# XGBoost\n",
    "import xgboost as xgb\n",
    "from sklearn.model_selection import train_test_split\n",
    "from sklearn.metrics import accuracy_score,f1_score\n",
    "\n",
    "X = a1.iloc[:, 2:]  # 세번째 열부터 마지막 열까지 입력값\n",
    "y = a1.iloc[:, 0]  # 첫번째 열이 정답열\n",
    "\n",
    "\n",
    "# 학습 데이터와 테스트 데이터로 분리\n",
    "X_train, X_test, y_train, y_test = train_test_split(X, y, test_size=0.2, random_state=42)\n",
    "\n",
    "# XGBoost 데이터셋 생성\n",
    "dtrain = xgb.DMatrix(X_train, label=y_train)\n",
    "dtest = xgb.DMatrix(X_test, label=y_test)\n",
    "\n",
    "# XGBoost 모델 학습\n",
    "params = {'objective': 'binary:logistic', 'eval_metric': 'logloss'}\n",
    "num_rounds = 100  # 반복 횟수 설정\n",
    "\n",
    "model = xgb.train(params, dtrain, num_rounds)\n",
    "\n",
    "# 테스트 데이터 예측\n",
    "y_pred = model.predict(dtest)\n",
    "y_pred_binary = [1 if y >= 0.5 else 0 for y in y_pred]\n",
    "\n",
    "# 정확도 평가\n",
    "accuracy = accuracy_score(y_test, y_pred_binary)\n",
    "print(\"정확도:\", accuracy)"
   ]
  },
  {
   "cell_type": "code",
   "execution_count": 7,
   "id": "e40f5fbf",
   "metadata": {
    "ExecuteTime": {
     "end_time": "2023-06-15T06:51:34.464302Z",
     "start_time": "2023-06-15T06:51:34.365292Z"
    }
   },
   "outputs": [
    {
     "name": "stdout",
     "output_type": "stream",
     "text": [
      "0.8591733682438751\n"
     ]
    }
   ],
   "source": [
    "from sklearn.metrics import f1_score\n",
    "print(f1_score(y_test, y_pred_binary))"
   ]
  },
  {
   "cell_type": "code",
   "execution_count": 8,
   "id": "28ec0686",
   "metadata": {
    "ExecuteTime": {
     "end_time": "2023-06-15T06:51:35.309470Z",
     "start_time": "2023-06-15T06:51:35.248147Z"
    }
   },
   "outputs": [
    {
     "name": "stdout",
     "output_type": "stream",
     "text": [
      "CSI 점수: 0.7531147540983607\n"
     ]
    }
   ],
   "source": [
    "from sklearn.metrics import confusion_matrix\n",
    "\n",
    "# 혼동 행렬 계산\n",
    "cm = confusion_matrix(y_test, y_pred_binary)\n",
    "\n",
    "# CSI 계산\n",
    "tp = cm[1, 1]  # True Positive\n",
    "tn = cm[0, 0]  # True Negative\n",
    "fp = cm[0, 1]  # False Positive\n",
    "fn = cm[1, 0]  # False Negative\n",
    "\n",
    "csi = tp / (tp + fn + fp)\n",
    "print(\"CSI 점수:\", csi)"
   ]
  },
  {
   "cell_type": "markdown",
   "id": "4e892b26",
   "metadata": {},
   "source": [
    "# LightGBM"
   ]
  },
  {
   "cell_type": "code",
   "execution_count": 10,
   "id": "328b3d0a",
   "metadata": {
    "ExecuteTime": {
     "end_time": "2023-06-15T06:53:53.879275Z",
     "start_time": "2023-06-15T06:53:49.048924Z"
    }
   },
   "outputs": [
    {
     "name": "stdout",
     "output_type": "stream",
     "text": [
      "[LightGBM] [Info] Number of positive: 11641, number of negative: 533511\n",
      "[LightGBM] [Warning] Auto-choosing col-wise multi-threading, the overhead of testing was 0.024068 seconds.\n",
      "You can set `force_col_wise=true` to remove the overhead.\n",
      "[LightGBM] [Info] Total Bins 2154\n",
      "[LightGBM] [Info] Number of data points in the train set: 545152, number of used features: 9\n",
      "[LightGBM] [Info] [binary:BoostFromScore]: pavg=0.021354 -> initscore=-3.824946\n",
      "[LightGBM] [Info] Start training from score -3.824946\n",
      "정확도: 0.9908869452923221\n"
     ]
    }
   ],
   "source": [
    "# LightGBM\n",
    "import lightgbm as lgb\n",
    "from sklearn.model_selection import train_test_split\n",
    "from sklearn.metrics import accuracy_score\n",
    "\n",
    "X = a1.iloc[:, 2:]  # 세번째 열부터 마지막 열까지 입력값\n",
    "y = a1.iloc[:, 0]  # 첫번째 열이 정답열\n",
    "\n",
    "# 학습 데이터와 테스트 데이터로 분리\n",
    "X_train, X_test, y_train, y_test = train_test_split(X, y, test_size=0.2, random_state=42)\n",
    "\n",
    "# LightGBM 데이터셋 생성\n",
    "train_data = lgb.Dataset(X_train, label=y_train)\n",
    "\n",
    "# LightGBM 모델 학습\n",
    "params = {'objective': 'binary', 'metric': 'binary_logloss'}\n",
    "num_rounds = 100  # 반복 횟수 설정\n",
    "\n",
    "model = lgb.train(params, train_data, num_rounds)\n",
    "\n",
    "# 테스트 데이터 예측\n",
    "y_pred = model.predict(X_test)\n",
    "y_pred_binary = [1 if y >= 0.5 else 0 for y in y_pred]\n",
    "\n",
    "# 정확도 평가\n",
    "accuracy = accuracy_score(y_test, y_pred_binary)\n",
    "print(\"정확도:\", accuracy)"
   ]
  },
  {
   "cell_type": "code",
   "execution_count": 11,
   "id": "0f7ab68a",
   "metadata": {
    "ExecuteTime": {
     "end_time": "2023-06-15T06:53:57.731652Z",
     "start_time": "2023-06-15T06:53:57.602891Z"
    }
   },
   "outputs": [
    {
     "name": "stdout",
     "output_type": "stream",
     "text": [
      "0.7617951668584579\n"
     ]
    }
   ],
   "source": [
    "from sklearn.metrics import f1_score\n",
    "print(f1_score(y_test, y_pred_binary))"
   ]
  },
  {
   "cell_type": "code",
   "execution_count": 12,
   "id": "767fab19",
   "metadata": {
    "ExecuteTime": {
     "end_time": "2023-06-15T06:54:01.180790Z",
     "start_time": "2023-06-15T06:54:01.102971Z"
    }
   },
   "outputs": [
    {
     "name": "stdout",
     "output_type": "stream",
     "text": [
      "CSI 점수: 0.6152416356877324\n"
     ]
    }
   ],
   "source": [
    "from sklearn.metrics import confusion_matrix\n",
    "\n",
    "# 혼동 행렬 계산\n",
    "cm = confusion_matrix(y_test, y_pred_binary)\n",
    "\n",
    "# CSI 계산\n",
    "tp = cm[1, 1]  # True Positive\n",
    "tn = cm[0, 0]  # True Negative\n",
    "fp = cm[0, 1]  # False Positive\n",
    "fn = cm[1, 0]  # False Negative\n",
    "\n",
    "csi = tp / (tp + fn + fp)\n",
    "print(\"CSI 점수:\", csi)"
   ]
  },
  {
   "cell_type": "markdown",
   "id": "5b2c2703",
   "metadata": {},
   "source": [
    "# RandomForest"
   ]
  },
  {
   "cell_type": "code",
   "execution_count": 13,
   "id": "98b9d2b9",
   "metadata": {
    "ExecuteTime": {
     "end_time": "2023-06-15T06:59:03.430921Z",
     "start_time": "2023-06-15T06:54:16.436094Z"
    }
   },
   "outputs": [
    {
     "name": "stdout",
     "output_type": "stream",
     "text": [
      "정확도: 0.9941741019018548\n"
     ]
    }
   ],
   "source": [
    "# RandomForest\n",
    "from sklearn.ensemble import RandomForestClassifier\n",
    "from sklearn.model_selection import train_test_split\n",
    "from sklearn.metrics import accuracy_score\n",
    "\n",
    "X = a1.iloc[:, 2:]  # 세번째 열부터 마지막 열까지 입력값\n",
    "y = a1.iloc[:, 0]  # 첫번째 열이 정답열\n",
    "\n",
    "# 학습 데이터와 테스트 데이터로 분리\n",
    "X_train, X_test, y_train, y_test = train_test_split(X, y, test_size=0.2, random_state=42)\n",
    "\n",
    "# RandomForest 모델 학습\n",
    "model = RandomForestClassifier(n_estimators=100, random_state=42)\n",
    "model.fit(X_train, y_train)\n",
    "\n",
    "# 테스트 데이터 예측\n",
    "y_pred = model.predict(X_test)\n",
    "\n",
    "# 정확도 평가\n",
    "accuracy = accuracy_score(y_test, y_pred)\n",
    "print(\"정확도:\", accuracy)"
   ]
  },
  {
   "cell_type": "code",
   "execution_count": 14,
   "id": "db39ceaa",
   "metadata": {
    "ExecuteTime": {
     "end_time": "2023-06-15T06:59:16.668748Z",
     "start_time": "2023-06-15T06:59:13.841937Z"
    }
   },
   "outputs": [
    {
     "name": "stdout",
     "output_type": "stream",
     "text": [
      "F1 score: 0.8458850931677019\n"
     ]
    }
   ],
   "source": [
    "from sklearn.metrics import f1_score\n",
    "\n",
    "# 테스트 데이터 예측\n",
    "y_pred = model.predict(X_test)\n",
    "\n",
    "# F1 score 계산\n",
    "f1 = f1_score(y_test, y_pred)\n",
    "print(\"F1 score:\", f1)"
   ]
  },
  {
   "cell_type": "code",
   "execution_count": 15,
   "id": "dc440af3",
   "metadata": {
    "ExecuteTime": {
     "end_time": "2023-06-15T06:59:20.524690Z",
     "start_time": "2023-06-15T06:59:17.642565Z"
    }
   },
   "outputs": [
    {
     "name": "stdout",
     "output_type": "stream",
     "text": [
      "CSI 점수: 0.7329297006390851\n"
     ]
    }
   ],
   "source": [
    "def calculate_csi(y_true, y_pred):\n",
    "    # True Positive (TP): 예측과 실제 값이 모두 1인 경우\n",
    "    tp = sum((y_true == 1) & (y_pred == 1))\n",
    "    \n",
    "    # False Positive (FP): 예측은 1이지만 실제 값은 0인 경우\n",
    "    fp = sum((y_true == 0) & (y_pred == 1))\n",
    "    \n",
    "    # False Negative (FN): 예측은 0이지만 실제 값은 1인 경우\n",
    "    fn = sum((y_true == 1) & (y_pred == 0))\n",
    "    \n",
    "    # Critical Success Index (CSI): TP / (TP + FP + FN)\n",
    "    csi = tp / (tp + fp + fn)\n",
    "    \n",
    "    return csi\n",
    "\n",
    "# 테스트 데이터 예측\n",
    "y_pred = model.predict(X_test)\n",
    "\n",
    "# CSI 점수 계산\n",
    "csi = calculate_csi(y_test, y_pred)\n",
    "print(\"CSI 점수:\", csi)"
   ]
  },
  {
   "cell_type": "markdown",
   "id": "a725dcf9",
   "metadata": {},
   "source": [
    "# CatBoost"
   ]
  },
  {
   "cell_type": "code",
   "execution_count": 16,
   "id": "3158e1c7",
   "metadata": {
    "ExecuteTime": {
     "end_time": "2023-06-15T06:59:29.202853Z",
     "start_time": "2023-06-15T06:59:22.255373Z"
    }
   },
   "outputs": [
    {
     "name": "stdout",
     "output_type": "stream",
     "text": [
      "정확도: 0.9914886123503169\n",
      "F1 점수: 0.7710225029609159\n"
     ]
    }
   ],
   "source": [
    "# CatBoost\n",
    "from catboost import CatBoostClassifier\n",
    "from sklearn.model_selection import train_test_split\n",
    "from sklearn.metrics import accuracy_score, f1_score\n",
    "\n",
    "X = a1.iloc[:, 2:]  # 세번째 열부터 마지막 열까지 입력값\n",
    "y = a1.iloc[:, 0]  # 첫번째 열이 정답열\n",
    "\n",
    "# 학습 데이터와 테스트 데이터로 분리\n",
    "X_train, X_test, y_train, y_test = train_test_split(X, y, test_size=0.2, random_state=42)\n",
    "\n",
    "# CatBoost 모델 학습\n",
    "model = CatBoostClassifier(iterations=100, eval_metric='Logloss')\n",
    "model.fit(X_train, y_train, verbose=False)\n",
    "\n",
    "# 테스트 데이터 예측\n",
    "y_pred = model.predict(X_test)\n",
    "y_pred_proba = model.predict_proba(X_test)[:, 1]  # 클래스 1에 대한 예측 확률 추출\n",
    "\n",
    "# 이진 분류에서의 예측 결과 변환\n",
    "y_pred_binary = [1 if y >= 0.5 else 0 for y in y_pred_proba]\n",
    "\n",
    "# 정확도 평가\n",
    "accuracy = accuracy_score(y_test, y_pred_binary)\n",
    "print(\"정확도:\", accuracy)\n",
    "\n",
    "# F1 점수 계산\n",
    "f1 = f1_score(y_test, y_pred_binary)\n",
    "print(\"F1 점수:\", f1)"
   ]
  },
  {
   "cell_type": "code",
   "execution_count": 17,
   "id": "be70b0cb",
   "metadata": {
    "ExecuteTime": {
     "end_time": "2023-06-15T06:59:31.302405Z",
     "start_time": "2023-06-15T06:59:31.233388Z"
    }
   },
   "outputs": [
    {
     "name": "stdout",
     "output_type": "stream",
     "text": [
      "CSI 점수: 0.6273690973337617\n"
     ]
    }
   ],
   "source": [
    "from sklearn.metrics import confusion_matrix\n",
    "\n",
    "# Confusion Matrix 계산\n",
    "cm = confusion_matrix(y_test, y_pred_binary)\n",
    "\n",
    "# CSI 점수 계산\n",
    "tn, fp, fn, tp = cm.ravel()\n",
    "csi = tp / (tp + fp + fn)\n",
    "print(\"CSI 점수:\", csi)"
   ]
  },
  {
   "cell_type": "code",
   "execution_count": null,
   "id": "81f55dfb",
   "metadata": {},
   "outputs": [],
   "source": []
  },
  {
   "cell_type": "code",
   "execution_count": null,
   "id": "a80da7ac",
   "metadata": {},
   "outputs": [],
   "source": []
  },
  {
   "cell_type": "code",
   "execution_count": null,
   "id": "2509caab",
   "metadata": {},
   "outputs": [],
   "source": []
  },
  {
   "cell_type": "code",
   "execution_count": null,
   "id": "a76d51df",
   "metadata": {},
   "outputs": [],
   "source": []
  }
 ],
 "metadata": {
  "kernelspec": {
   "display_name": "Python 3 (ipykernel)",
   "language": "python",
   "name": "python3"
  },
  "language_info": {
   "codemirror_mode": {
    "name": "ipython",
    "version": 3
   },
   "file_extension": ".py",
   "mimetype": "text/x-python",
   "name": "python",
   "nbconvert_exporter": "python",
   "pygments_lexer": "ipython3",
   "version": "3.9.12"
  },
  "toc": {
   "base_numbering": 1,
   "nav_menu": {},
   "number_sections": false,
   "sideBar": true,
   "skip_h1_title": false,
   "title_cell": "Table of Contents",
   "title_sidebar": "Contents",
   "toc_cell": false,
   "toc_position": {},
   "toc_section_display": true,
   "toc_window_display": false
  },
  "varInspector": {
   "cols": {
    "lenName": 16,
    "lenType": 16,
    "lenVar": 40
   },
   "kernels_config": {
    "python": {
     "delete_cmd_postfix": "",
     "delete_cmd_prefix": "del ",
     "library": "var_list.py",
     "varRefreshCmd": "print(var_dic_list())"
    },
    "r": {
     "delete_cmd_postfix": ") ",
     "delete_cmd_prefix": "rm(",
     "library": "var_list.r",
     "varRefreshCmd": "cat(var_dic_list()) "
    }
   },
   "types_to_exclude": [
    "module",
    "function",
    "builtin_function_or_method",
    "instance",
    "_Feature"
   ],
   "window_display": false
  }
 },
 "nbformat": 4,
 "nbformat_minor": 5
}
