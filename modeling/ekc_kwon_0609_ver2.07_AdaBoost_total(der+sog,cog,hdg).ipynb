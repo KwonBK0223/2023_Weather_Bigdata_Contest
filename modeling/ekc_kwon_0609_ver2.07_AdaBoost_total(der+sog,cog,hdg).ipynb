{
 "cells": [
  {
   "cell_type": "code",
   "execution_count": 1,
   "id": "042d02b1",
   "metadata": {
    "ExecuteTime": {
     "end_time": "2023-06-10T07:53:26.600009Z",
     "start_time": "2023-06-10T07:53:25.028585Z"
    }
   },
   "outputs": [],
   "source": [
    "import pandas as pd\n",
    "import matplotlib.pyplot as plt"
   ]
  },
  {
   "cell_type": "code",
   "execution_count": 2,
   "id": "663e39e0",
   "metadata": {
    "ExecuteTime": {
     "end_time": "2023-06-10T07:53:28.025778Z",
     "start_time": "2023-06-10T07:53:26.616256Z"
    }
   },
   "outputs": [],
   "source": [
    "a = pd.read_csv(\"../기상청공모전/data/derivate_data.csv\")"
   ]
  },
  {
   "cell_type": "code",
   "execution_count": 3,
   "id": "c6e9c091",
   "metadata": {
    "ExecuteTime": {
     "end_time": "2023-06-10T07:53:28.089080Z",
     "start_time": "2023-06-10T07:53:28.043559Z"
    }
   },
   "outputs": [],
   "source": [
    "a1 = a.iloc[:,1:]"
   ]
  },
  {
   "cell_type": "code",
   "execution_count": 4,
   "id": "b28cf2c9",
   "metadata": {
    "ExecuteTime": {
     "end_time": "2023-06-10T07:53:28.352165Z",
     "start_time": "2023-06-10T07:53:28.106009Z"
    }
   },
   "outputs": [],
   "source": [
    "a1 = a1[a1[\"cog\"] != -99.9]\n",
    "a1 = a1[a1[\"hdg\"] != -99.9]\n",
    "a1 = a1[a1[\"hdg\"] != -99]"
   ]
  },
  {
   "cell_type": "code",
   "execution_count": 5,
   "id": "d0a5d8a1",
   "metadata": {
    "ExecuteTime": {
     "end_time": "2023-06-10T07:55:07.982201Z",
     "start_time": "2023-06-10T07:53:46.970225Z"
    }
   },
   "outputs": [
    {
     "name": "stdout",
     "output_type": "stream",
     "text": [
      "정확도: 0.984571372498698\n",
      "F1 score: 0.54375\n"
     ]
    }
   ],
   "source": [
    "# AdaBoost\n",
    "from sklearn.ensemble import AdaBoostClassifier\n",
    "from sklearn.tree import DecisionTreeClassifier\n",
    "from sklearn.model_selection import train_test_split\n",
    "from sklearn.metrics import accuracy_score, f1_score\n",
    "\n",
    "X = a1.iloc[:, 2:]  # 세번째 열부터 마지막 열까지 입력값\n",
    "y = a1.iloc[:, 0]  # 첫번째 열이 정답열\n",
    "\n",
    "# 학습 데이터와 테스트 데이터로 분리\n",
    "X_train, X_test, y_train, y_test = train_test_split(X, y, test_size=0.2, random_state=42)\n",
    "\n",
    "# Adaboost 모델 학습\n",
    "base_model = DecisionTreeClassifier(max_depth=1)\n",
    "model = AdaBoostClassifier(base_estimator=base_model, n_estimators=100, random_state=42)\n",
    "model.fit(X_train, y_train)\n",
    "\n",
    "# 테스트 데이터 예측\n",
    "y_pred = model.predict(X_test)\n",
    "\n",
    "# 정확도 평가\n",
    "accuracy = accuracy_score(y_test, y_pred)\n",
    "print(\"정확도:\", accuracy)\n",
    "\n",
    "# F1 score 평가\n",
    "f1 = f1_score(y_test, y_pred)\n",
    "print(\"F1 score:\", f1)"
   ]
  },
  {
   "cell_type": "code",
   "execution_count": 6,
   "id": "d6224204",
   "metadata": {
    "ExecuteTime": {
     "end_time": "2023-06-10T07:55:48.019080Z",
     "start_time": "2023-06-10T07:55:47.952959Z"
    }
   },
   "outputs": [
    {
     "name": "stdout",
     "output_type": "stream",
     "text": [
      "CSI 점수: 0.37339055793991416\n"
     ]
    }
   ],
   "source": [
    "# CSI (Critical Success Index) 점수 계산\n",
    "true_positive = sum((y_test == 1) & (y_pred == 1))\n",
    "true_negative = sum((y_test == 0) & (y_pred == 0))\n",
    "false_positive = sum((y_test == 0) & (y_pred == 1))\n",
    "false_negative = sum((y_test == 1) & (y_pred == 0))\n",
    "\n",
    "csi = true_positive / (true_positive + false_positive + false_negative)\n",
    "print(\"CSI 점수:\", csi)"
   ]
  },
  {
   "cell_type": "code",
   "execution_count": null,
   "id": "96ee64aa",
   "metadata": {},
   "outputs": [],
   "source": []
  }
 ],
 "metadata": {
  "kernelspec": {
   "display_name": "Python 3 (ipykernel)",
   "language": "python",
   "name": "python3"
  },
  "language_info": {
   "codemirror_mode": {
    "name": "ipython",
    "version": 3
   },
   "file_extension": ".py",
   "mimetype": "text/x-python",
   "name": "python",
   "nbconvert_exporter": "python",
   "pygments_lexer": "ipython3",
   "version": "3.9.12"
  },
  "toc": {
   "base_numbering": 1,
   "nav_menu": {},
   "number_sections": false,
   "sideBar": true,
   "skip_h1_title": false,
   "title_cell": "Table of Contents",
   "title_sidebar": "Contents",
   "toc_cell": false,
   "toc_position": {},
   "toc_section_display": true,
   "toc_window_display": false
  },
  "varInspector": {
   "cols": {
    "lenName": 16,
    "lenType": 16,
    "lenVar": 40
   },
   "kernels_config": {
    "python": {
     "delete_cmd_postfix": "",
     "delete_cmd_prefix": "del ",
     "library": "var_list.py",
     "varRefreshCmd": "print(var_dic_list())"
    },
    "r": {
     "delete_cmd_postfix": ") ",
     "delete_cmd_prefix": "rm(",
     "library": "var_list.r",
     "varRefreshCmd": "cat(var_dic_list()) "
    }
   },
   "types_to_exclude": [
    "module",
    "function",
    "builtin_function_or_method",
    "instance",
    "_Feature"
   ],
   "window_display": false
  }
 },
 "nbformat": 4,
 "nbformat_minor": 5
}
