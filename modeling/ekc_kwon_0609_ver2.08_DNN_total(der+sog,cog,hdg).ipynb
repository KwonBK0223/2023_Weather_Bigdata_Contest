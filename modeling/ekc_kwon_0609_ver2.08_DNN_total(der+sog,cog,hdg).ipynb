{
 "cells": [
  {
   "cell_type": "code",
   "execution_count": 1,
   "id": "042d02b1",
   "metadata": {
    "ExecuteTime": {
     "end_time": "2023-06-10T08:04:25.955077Z",
     "start_time": "2023-06-10T08:04:24.337852Z"
    }
   },
   "outputs": [],
   "source": [
    "import pandas as pd\n",
    "import matplotlib.pyplot as plt"
   ]
  },
  {
   "cell_type": "code",
   "execution_count": 2,
   "id": "663e39e0",
   "metadata": {
    "ExecuteTime": {
     "end_time": "2023-06-10T08:04:27.270122Z",
     "start_time": "2023-06-10T08:04:25.979636Z"
    }
   },
   "outputs": [],
   "source": [
    "a = pd.read_csv(\"../기상청공모전/data/derivate_data.csv\")"
   ]
  },
  {
   "cell_type": "code",
   "execution_count": 3,
   "id": "c6e9c091",
   "metadata": {
    "ExecuteTime": {
     "end_time": "2023-06-10T08:04:27.353821Z",
     "start_time": "2023-06-10T08:04:27.308997Z"
    }
   },
   "outputs": [],
   "source": [
    "a1 = a.iloc[:,1:]"
   ]
  },
  {
   "cell_type": "code",
   "execution_count": 4,
   "id": "b28cf2c9",
   "metadata": {
    "ExecuteTime": {
     "end_time": "2023-06-10T08:04:27.591500Z",
     "start_time": "2023-06-10T08:04:27.392310Z"
    }
   },
   "outputs": [],
   "source": [
    "a1 = a1[a1[\"cog\"] != -99.9]\n",
    "a1 = a1[a1[\"hdg\"] != -99.9]\n",
    "a1 = a1[a1[\"hdg\"] != -99]"
   ]
  },
  {
   "cell_type": "code",
   "execution_count": 5,
   "id": "d0a5d8a1",
   "metadata": {
    "ExecuteTime": {
     "end_time": "2023-06-10T08:09:36.361230Z",
     "start_time": "2023-06-10T08:04:27.626244Z"
    }
   },
   "outputs": [
    {
     "name": "stdout",
     "output_type": "stream",
     "text": [
      "Epoch 1/10\n",
      "16561/16561 [==============================] - 28s 2ms/step - loss: 0.1173 - accuracy: 0.9807\n",
      "Epoch 2/10\n",
      "16561/16561 [==============================] - 27s 2ms/step - loss: 0.0635 - accuracy: 0.9842\n",
      "Epoch 3/10\n",
      "16561/16561 [==============================] - 26s 2ms/step - loss: 0.0620 - accuracy: 0.9844\n",
      "Epoch 4/10\n",
      "16561/16561 [==============================] - 29s 2ms/step - loss: 0.0611 - accuracy: 0.9845\n",
      "Epoch 5/10\n",
      "16561/16561 [==============================] - 28s 2ms/step - loss: 0.0604 - accuracy: 0.9847\n",
      "Epoch 6/10\n",
      "16561/16561 [==============================] - 31s 2ms/step - loss: 0.0600 - accuracy: 0.9848\n",
      "Epoch 7/10\n",
      "16561/16561 [==============================] - 32s 2ms/step - loss: 0.0597 - accuracy: 0.9848\n",
      "Epoch 8/10\n",
      "16561/16561 [==============================] - 32s 2ms/step - loss: 0.0595 - accuracy: 0.9848\n",
      "Epoch 9/10\n",
      "16561/16561 [==============================] - 30s 2ms/step - loss: 0.0591 - accuracy: 0.9848\n",
      "Epoch 10/10\n",
      "16561/16561 [==============================] - 30s 2ms/step - loss: 0.0591 - accuracy: 0.9849\n",
      "4141/4141 [==============================] - 6s 1ms/step\n",
      "정확도: 0.9845864690031023\n"
     ]
    }
   ],
   "source": [
    "# DNN\n",
    "import numpy as np\n",
    "import tensorflow as tf\n",
    "from sklearn.model_selection import train_test_split\n",
    "from sklearn.metrics import accuracy_score\n",
    "\n",
    "# 데이터 준비\n",
    "X = a1.iloc[:, 2:]  # 세번째 열부터 마지막 열까지 입력값\n",
    "y = a1.iloc[:, 0]  # 첫번째 열이 정답열\n",
    "\n",
    "# 학습 데이터와 테스트 데이터로 분리\n",
    "X_train, X_test, y_train, y_test = train_test_split(X, y, test_size=0.2, random_state=42)\n",
    "\n",
    "# 모델 구성\n",
    "model = tf.keras.Sequential([\n",
    "    tf.keras.layers.Dense(64, activation='relu'),\n",
    "    tf.keras.layers.Dense(64, activation='relu'),\n",
    "    tf.keras.layers.Dense(1, activation='sigmoid')\n",
    "])\n",
    "\n",
    "# 모델 컴파일\n",
    "model.compile(optimizer='adam',\n",
    "              loss='binary_crossentropy',\n",
    "              metrics=['accuracy'])\n",
    "\n",
    "# 모델 학습\n",
    "model.fit(X_train, y_train, epochs=10, batch_size=32)\n",
    "\n",
    "# 테스트 데이터 예측\n",
    "y_pred = model.predict(X_test)\n",
    "y_pred_binary = np.round(y_pred)\n",
    "\n",
    "# 정확도 평가\n",
    "accuracy = accuracy_score(y_test, y_pred_binary)\n",
    "print(\"정확도:\", accuracy)"
   ]
  },
  {
   "cell_type": "code",
   "execution_count": 6,
   "id": "ddb08f4d",
   "metadata": {
    "ExecuteTime": {
     "end_time": "2023-06-10T08:09:39.123056Z",
     "start_time": "2023-06-10T08:09:39.036724Z"
    }
   },
   "outputs": [
    {
     "name": "stdout",
     "output_type": "stream",
     "text": [
      "0.49505440158259145\n"
     ]
    }
   ],
   "source": [
    "from sklearn.metrics import f1_score\n",
    "print(f1_score(y_test, y_pred_binary))"
   ]
  },
  {
   "cell_type": "code",
   "execution_count": 7,
   "id": "d6224204",
   "metadata": {
    "ExecuteTime": {
     "end_time": "2023-06-10T08:09:40.049663Z",
     "start_time": "2023-06-10T08:09:39.988788Z"
    }
   },
   "outputs": [
    {
     "name": "stdout",
     "output_type": "stream",
     "text": [
      "CSI 점수: 0.3289516924088071\n"
     ]
    }
   ],
   "source": [
    "from sklearn.metrics import confusion_matrix\n",
    "\n",
    "# 혼동 행렬 계산\n",
    "cm = confusion_matrix(y_test, y_pred_binary)\n",
    "\n",
    "# CSI 계산\n",
    "tp = cm[1, 1]  # True Positive\n",
    "tn = cm[0, 0]  # True Negative\n",
    "fp = cm[0, 1]  # False Positive\n",
    "fn = cm[1, 0]  # False Negative\n",
    "\n",
    "csi = tp / (tp + fn + fp)\n",
    "print(\"CSI 점수:\", csi)"
   ]
  }
 ],
 "metadata": {
  "kernelspec": {
   "display_name": "Python 3 (ipykernel)",
   "language": "python",
   "name": "python3"
  },
  "language_info": {
   "codemirror_mode": {
    "name": "ipython",
    "version": 3
   },
   "file_extension": ".py",
   "mimetype": "text/x-python",
   "name": "python",
   "nbconvert_exporter": "python",
   "pygments_lexer": "ipython3",
   "version": "3.9.12"
  },
  "toc": {
   "base_numbering": 1,
   "nav_menu": {},
   "number_sections": false,
   "sideBar": true,
   "skip_h1_title": false,
   "title_cell": "Table of Contents",
   "title_sidebar": "Contents",
   "toc_cell": false,
   "toc_position": {},
   "toc_section_display": true,
   "toc_window_display": false
  },
  "varInspector": {
   "cols": {
    "lenName": 16,
    "lenType": 16,
    "lenVar": 40
   },
   "kernels_config": {
    "python": {
     "delete_cmd_postfix": "",
     "delete_cmd_prefix": "del ",
     "library": "var_list.py",
     "varRefreshCmd": "print(var_dic_list())"
    },
    "r": {
     "delete_cmd_postfix": ") ",
     "delete_cmd_prefix": "rm(",
     "library": "var_list.r",
     "varRefreshCmd": "cat(var_dic_list()) "
    }
   },
   "types_to_exclude": [
    "module",
    "function",
    "builtin_function_or_method",
    "instance",
    "_Feature"
   ],
   "window_display": false
  }
 },
 "nbformat": 4,
 "nbformat_minor": 5
}
