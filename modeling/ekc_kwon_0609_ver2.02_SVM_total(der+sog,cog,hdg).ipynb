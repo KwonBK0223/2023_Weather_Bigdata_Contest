{
 "cells": [
  {
   "cell_type": "code",
   "execution_count": 1,
   "id": "042d02b1",
   "metadata": {
    "ExecuteTime": {
     "end_time": "2023-06-10T07:15:48.393366Z",
     "start_time": "2023-06-10T07:15:47.009584Z"
    }
   },
   "outputs": [],
   "source": [
    "import pandas as pd\n",
    "import matplotlib.pyplot as plt"
   ]
  },
  {
   "cell_type": "code",
   "execution_count": 2,
   "id": "663e39e0",
   "metadata": {
    "ExecuteTime": {
     "end_time": "2023-06-10T07:15:49.518961Z",
     "start_time": "2023-06-10T07:15:48.425111Z"
    }
   },
   "outputs": [],
   "source": [
    "a = pd.read_csv(\"../기상청공모전/data/derivate_data.csv\")"
   ]
  },
  {
   "cell_type": "code",
   "execution_count": 3,
   "id": "c6e9c091",
   "metadata": {
    "ExecuteTime": {
     "end_time": "2023-06-10T07:15:50.023135Z",
     "start_time": "2023-06-10T07:15:49.970284Z"
    }
   },
   "outputs": [],
   "source": [
    "a1 = a.iloc[:,1:]"
   ]
  },
  {
   "cell_type": "code",
   "execution_count": 4,
   "id": "b28cf2c9",
   "metadata": {
    "ExecuteTime": {
     "end_time": "2023-06-10T07:15:51.801987Z",
     "start_time": "2023-06-10T07:15:51.636190Z"
    }
   },
   "outputs": [],
   "source": [
    "a1 = a1[a1[\"cog\"] != -99.9]\n",
    "a1 = a1[a1[\"hdg\"] != -99.9]\n",
    "a1 = a1[a1[\"hdg\"] != -99]"
   ]
  },
  {
   "cell_type": "code",
   "execution_count": null,
   "id": "d0a5d8a1",
   "metadata": {
    "ExecuteTime": {
     "start_time": "2023-06-10T07:18:17.114Z"
    }
   },
   "outputs": [],
   "source": [
    "# SVM\n",
    "from sklearn.svm import SVC\n",
    "from sklearn.model_selection import train_test_split\n",
    "from sklearn.metrics import accuracy_score\n",
    "\n",
    "X = a1.iloc[:, 2:]  # 세번째 열부터 마지막 열까지 입력값\n",
    "y = a1.iloc[:, 0]  # 첫번째 열이 정답열\n",
    "\n",
    "\n",
    "# 학습 데이터와 테스트 데이터로 분리\n",
    "X_train, X_test, y_train, y_test = train_test_split(X, y, test_size=0.2, random_state=42)\n",
    "\n",
    "# Create and train the SVM model\n",
    "model = SVC()\n",
    "model.fit(X_train, y_train)\n",
    "\n",
    "# Make predictions on the test set\n",
    "y_pred = model.predict(X_test)\n",
    "\n",
    "# Evaluate accuracy\n",
    "accuracy = accuracy_score(y_test, y_pred)\n",
    "print(\"Accuracy:\", accuracy)"
   ]
  },
  {
   "cell_type": "code",
   "execution_count": null,
   "id": "ddb08f4d",
   "metadata": {
    "ExecuteTime": {
     "start_time": "2023-06-10T07:38:21.772Z"
    }
   },
   "outputs": [],
   "source": [
    "from sklearn.metrics import f1_score\n",
    "print(f1_score(y_test, y_pred_binary))"
   ]
  },
  {
   "cell_type": "code",
   "execution_count": null,
   "id": "51216f40",
   "metadata": {
    "ExecuteTime": {
     "start_time": "2023-06-10T07:38:22.728Z"
    },
    "scrolled": true
   },
   "outputs": [],
   "source": [
    "import matplotlib.pyplot as plt\n",
    "import numpy as np\n",
    "from sklearn.metrics import roc_curve, auc\n",
    "\n",
    "# XGBoost 모델 예측 확률\n",
    "y_pred_proba = model.predict(dtest)\n",
    "\n",
    "# 양성 클래스의 예측 확률 추출\n",
    "pos_proba = y_pred_proba\n",
    "\n",
    "# 실제값과 비교할 양성 클래스의 실제 레이블\n",
    "y_true = np.array(y_test)\n",
    "\n",
    "# ROC 곡선 계산\n",
    "fpr, tpr, thresholds = roc_curve(y_true, pos_proba)\n",
    "roc_auc = auc(fpr, tpr)\n",
    "\n",
    "# ROC 곡선 그리기\n",
    "plt.figure()\n",
    "plt.plot(fpr, tpr, color='darkorange', lw=2, label='ROC curve (AUC = %0.2f)' % roc_auc)\n",
    "plt.plot([0, 1], [0, 1], color='navy', lw=2, linestyle='--')\n",
    "plt.xlim([0.0, 1.0])\n",
    "plt.ylim([0.0, 1.05])\n",
    "plt.xlabel('False Positive Rate')\n",
    "plt.ylabel('True Positive Rate')\n",
    "plt.title('Receiver Operating Characteristic (ROC)')\n",
    "plt.legend(loc=\"lower right\")\n",
    "plt.show()"
   ]
  },
  {
   "cell_type": "code",
   "execution_count": null,
   "id": "d6224204",
   "metadata": {
    "ExecuteTime": {
     "start_time": "2023-06-10T07:38:23.457Z"
    }
   },
   "outputs": [],
   "source": [
    "from sklearn.metrics import confusion_matrix\n",
    "\n",
    "# 혼동 행렬 계산\n",
    "cm = confusion_matrix(y_test, y_pred_binary)\n",
    "\n",
    "# CSI 계산\n",
    "tp = cm[1, 1]  # True Positive\n",
    "tn = cm[0, 0]  # True Negative\n",
    "fp = cm[0, 1]  # False Positive\n",
    "fn = cm[1, 0]  # False Negative\n",
    "\n",
    "csi = tp / (tp + fn + fp)\n",
    "print(\"CSI 점수:\", csi)"
   ]
  },
  {
   "cell_type": "code",
   "execution_count": null,
   "id": "223583e5",
   "metadata": {},
   "outputs": [],
   "source": []
  }
 ],
 "metadata": {
  "kernelspec": {
   "display_name": "Python 3 (ipykernel)",
   "language": "python",
   "name": "python3"
  },
  "language_info": {
   "codemirror_mode": {
    "name": "ipython",
    "version": 3
   },
   "file_extension": ".py",
   "mimetype": "text/x-python",
   "name": "python",
   "nbconvert_exporter": "python",
   "pygments_lexer": "ipython3",
   "version": "3.9.12"
  },
  "toc": {
   "base_numbering": 1,
   "nav_menu": {},
   "number_sections": false,
   "sideBar": true,
   "skip_h1_title": false,
   "title_cell": "Table of Contents",
   "title_sidebar": "Contents",
   "toc_cell": false,
   "toc_position": {},
   "toc_section_display": true,
   "toc_window_display": false
  },
  "varInspector": {
   "cols": {
    "lenName": 16,
    "lenType": 16,
    "lenVar": 40
   },
   "kernels_config": {
    "python": {
     "delete_cmd_postfix": "",
     "delete_cmd_prefix": "del ",
     "library": "var_list.py",
     "varRefreshCmd": "print(var_dic_list())"
    },
    "r": {
     "delete_cmd_postfix": ") ",
     "delete_cmd_prefix": "rm(",
     "library": "var_list.r",
     "varRefreshCmd": "cat(var_dic_list()) "
    }
   },
   "types_to_exclude": [
    "module",
    "function",
    "builtin_function_or_method",
    "instance",
    "_Feature"
   ],
   "window_display": false
  }
 },
 "nbformat": 4,
 "nbformat_minor": 5
}
