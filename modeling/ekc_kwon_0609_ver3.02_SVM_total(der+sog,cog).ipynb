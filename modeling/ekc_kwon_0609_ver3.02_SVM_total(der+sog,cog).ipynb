{
 "cells": [
  {
   "cell_type": "code",
   "execution_count": 1,
   "id": "042d02b1",
   "metadata": {
    "ExecuteTime": {
     "end_time": "2023-06-10T08:39:56.396987Z",
     "start_time": "2023-06-10T08:39:54.742036Z"
    }
   },
   "outputs": [],
   "source": [
    "import pandas as pd\n",
    "import matplotlib.pyplot as plt"
   ]
  },
  {
   "cell_type": "code",
   "execution_count": 2,
   "id": "663e39e0",
   "metadata": {
    "ExecuteTime": {
     "end_time": "2023-06-10T08:39:57.815916Z",
     "start_time": "2023-06-10T08:39:56.421922Z"
    }
   },
   "outputs": [],
   "source": [
    "a = pd.read_csv(\"../기상청공모전/data/derivate_data.csv\")"
   ]
  },
  {
   "cell_type": "code",
   "execution_count": 3,
   "id": "c6e9c091",
   "metadata": {
    "ExecuteTime": {
     "end_time": "2023-06-10T08:39:57.886374Z",
     "start_time": "2023-06-10T08:39:57.853482Z"
    }
   },
   "outputs": [],
   "source": [
    "a1 = a.iloc[:,1:]"
   ]
  },
  {
   "cell_type": "code",
   "execution_count": 4,
   "id": "fa42e3ca",
   "metadata": {
    "ExecuteTime": {
     "end_time": "2023-06-10T08:39:57.968191Z",
     "start_time": "2023-06-10T08:39:57.918862Z"
    }
   },
   "outputs": [],
   "source": [
    "a1 = a1.drop('hdg',axis = 1)"
   ]
  },
  {
   "cell_type": "code",
   "execution_count": 5,
   "id": "3d06a389",
   "metadata": {
    "ExecuteTime": {
     "end_time": "2023-06-10T08:39:58.599771Z",
     "start_time": "2023-06-10T08:39:58.535564Z"
    }
   },
   "outputs": [],
   "source": [
    "a1 = a1[a1[\"cog\"] != -99.9]"
   ]
  },
  {
   "cell_type": "code",
   "execution_count": 6,
   "id": "7f59fba8",
   "metadata": {
    "ExecuteTime": {
     "end_time": "2023-06-10T08:40:01.126524Z",
     "start_time": "2023-06-10T08:40:01.101086Z"
    }
   },
   "outputs": [
    {
     "data": {
      "text/html": [
       "<div>\n",
       "<style scoped>\n",
       "    .dataframe tbody tr th:only-of-type {\n",
       "        vertical-align: middle;\n",
       "    }\n",
       "\n",
       "    .dataframe tbody tr th {\n",
       "        vertical-align: top;\n",
       "    }\n",
       "\n",
       "    .dataframe thead th {\n",
       "        text-align: right;\n",
       "    }\n",
       "</style>\n",
       "<table border=\"1\" class=\"dataframe\">\n",
       "  <thead>\n",
       "    <tr style=\"text-align: right;\">\n",
       "      <th></th>\n",
       "      <th>anchor_drag</th>\n",
       "      <th>num</th>\n",
       "      <th>latitude</th>\n",
       "      <th>longitude</th>\n",
       "      <th>sog</th>\n",
       "      <th>cog</th>\n",
       "      <th>d_lati</th>\n",
       "      <th>d_long</th>\n",
       "      <th>d_d_lati</th>\n",
       "      <th>d_d_long</th>\n",
       "    </tr>\n",
       "  </thead>\n",
       "  <tbody>\n",
       "    <tr>\n",
       "      <th>0</th>\n",
       "      <td>0</td>\n",
       "      <td>1001</td>\n",
       "      <td>35.461472</td>\n",
       "      <td>129.439878</td>\n",
       "      <td>0.4</td>\n",
       "      <td>9.6</td>\n",
       "      <td>0.000312</td>\n",
       "      <td>0.000333</td>\n",
       "      <td>0.000342</td>\n",
       "      <td>0.000342</td>\n",
       "    </tr>\n",
       "    <tr>\n",
       "      <th>1</th>\n",
       "      <td>0</td>\n",
       "      <td>1001</td>\n",
       "      <td>35.461688</td>\n",
       "      <td>129.439792</td>\n",
       "      <td>0.2</td>\n",
       "      <td>328.0</td>\n",
       "      <td>0.000216</td>\n",
       "      <td>-0.000086</td>\n",
       "      <td>-0.000096</td>\n",
       "      <td>-0.000096</td>\n",
       "    </tr>\n",
       "    <tr>\n",
       "      <th>2</th>\n",
       "      <td>0</td>\n",
       "      <td>1001</td>\n",
       "      <td>35.461708</td>\n",
       "      <td>129.439733</td>\n",
       "      <td>0.2</td>\n",
       "      <td>260.1</td>\n",
       "      <td>0.000020</td>\n",
       "      <td>-0.000059</td>\n",
       "      <td>-0.000196</td>\n",
       "      <td>-0.000196</td>\n",
       "    </tr>\n",
       "    <tr>\n",
       "      <th>3</th>\n",
       "      <td>0</td>\n",
       "      <td>1001</td>\n",
       "      <td>35.461720</td>\n",
       "      <td>129.439708</td>\n",
       "      <td>0.1</td>\n",
       "      <td>262.8</td>\n",
       "      <td>0.000012</td>\n",
       "      <td>-0.000025</td>\n",
       "      <td>-0.000008</td>\n",
       "      <td>-0.000008</td>\n",
       "    </tr>\n",
       "    <tr>\n",
       "      <th>4</th>\n",
       "      <td>0</td>\n",
       "      <td>1001</td>\n",
       "      <td>35.461733</td>\n",
       "      <td>129.439717</td>\n",
       "      <td>0.3</td>\n",
       "      <td>277.6</td>\n",
       "      <td>0.000013</td>\n",
       "      <td>0.000009</td>\n",
       "      <td>0.000001</td>\n",
       "      <td>0.000001</td>\n",
       "    </tr>\n",
       "    <tr>\n",
       "      <th>...</th>\n",
       "      <td>...</td>\n",
       "      <td>...</td>\n",
       "      <td>...</td>\n",
       "      <td>...</td>\n",
       "      <td>...</td>\n",
       "      <td>...</td>\n",
       "      <td>...</td>\n",
       "      <td>...</td>\n",
       "      <td>...</td>\n",
       "      <td>...</td>\n",
       "    </tr>\n",
       "    <tr>\n",
       "      <th>681435</th>\n",
       "      <td>1</td>\n",
       "      <td>4087</td>\n",
       "      <td>35.053083</td>\n",
       "      <td>129.061333</td>\n",
       "      <td>1.3</td>\n",
       "      <td>26.0</td>\n",
       "      <td>0.000033</td>\n",
       "      <td>0.000016</td>\n",
       "      <td>-0.000017</td>\n",
       "      <td>-0.000017</td>\n",
       "    </tr>\n",
       "    <tr>\n",
       "      <th>681436</th>\n",
       "      <td>1</td>\n",
       "      <td>4087</td>\n",
       "      <td>35.053083</td>\n",
       "      <td>129.061333</td>\n",
       "      <td>1.3</td>\n",
       "      <td>29.0</td>\n",
       "      <td>0.000000</td>\n",
       "      <td>0.000000</td>\n",
       "      <td>-0.000033</td>\n",
       "      <td>-0.000033</td>\n",
       "    </tr>\n",
       "    <tr>\n",
       "      <th>681437</th>\n",
       "      <td>1</td>\n",
       "      <td>4087</td>\n",
       "      <td>35.053117</td>\n",
       "      <td>129.061400</td>\n",
       "      <td>1.2</td>\n",
       "      <td>48.0</td>\n",
       "      <td>0.000034</td>\n",
       "      <td>0.000067</td>\n",
       "      <td>0.000034</td>\n",
       "      <td>0.000034</td>\n",
       "    </tr>\n",
       "    <tr>\n",
       "      <th>681438</th>\n",
       "      <td>1</td>\n",
       "      <td>4087</td>\n",
       "      <td>35.053117</td>\n",
       "      <td>129.061417</td>\n",
       "      <td>1.2</td>\n",
       "      <td>52.0</td>\n",
       "      <td>0.000000</td>\n",
       "      <td>0.000017</td>\n",
       "      <td>-0.000034</td>\n",
       "      <td>-0.000034</td>\n",
       "    </tr>\n",
       "    <tr>\n",
       "      <th>681439</th>\n",
       "      <td>1</td>\n",
       "      <td>4087</td>\n",
       "      <td>35.053133</td>\n",
       "      <td>129.061500</td>\n",
       "      <td>1.2</td>\n",
       "      <td>80.0</td>\n",
       "      <td>0.000016</td>\n",
       "      <td>0.000083</td>\n",
       "      <td>0.000016</td>\n",
       "      <td>0.000016</td>\n",
       "    </tr>\n",
       "  </tbody>\n",
       "</table>\n",
       "<p>676088 rows × 10 columns</p>\n",
       "</div>"
      ],
      "text/plain": [
       "        anchor_drag   num   latitude   longitude  sog    cog    d_lati  \\\n",
       "0                 0  1001  35.461472  129.439878  0.4    9.6  0.000312   \n",
       "1                 0  1001  35.461688  129.439792  0.2  328.0  0.000216   \n",
       "2                 0  1001  35.461708  129.439733  0.2  260.1  0.000020   \n",
       "3                 0  1001  35.461720  129.439708  0.1  262.8  0.000012   \n",
       "4                 0  1001  35.461733  129.439717  0.3  277.6  0.000013   \n",
       "...             ...   ...        ...         ...  ...    ...       ...   \n",
       "681435            1  4087  35.053083  129.061333  1.3   26.0  0.000033   \n",
       "681436            1  4087  35.053083  129.061333  1.3   29.0  0.000000   \n",
       "681437            1  4087  35.053117  129.061400  1.2   48.0  0.000034   \n",
       "681438            1  4087  35.053117  129.061417  1.2   52.0  0.000000   \n",
       "681439            1  4087  35.053133  129.061500  1.2   80.0  0.000016   \n",
       "\n",
       "          d_long  d_d_lati  d_d_long  \n",
       "0       0.000333  0.000342  0.000342  \n",
       "1      -0.000086 -0.000096 -0.000096  \n",
       "2      -0.000059 -0.000196 -0.000196  \n",
       "3      -0.000025 -0.000008 -0.000008  \n",
       "4       0.000009  0.000001  0.000001  \n",
       "...          ...       ...       ...  \n",
       "681435  0.000016 -0.000017 -0.000017  \n",
       "681436  0.000000 -0.000033 -0.000033  \n",
       "681437  0.000067  0.000034  0.000034  \n",
       "681438  0.000017 -0.000034 -0.000034  \n",
       "681439  0.000083  0.000016  0.000016  \n",
       "\n",
       "[676088 rows x 10 columns]"
      ]
     },
     "execution_count": 6,
     "metadata": {},
     "output_type": "execute_result"
    }
   ],
   "source": [
    "a1"
   ]
  },
  {
   "cell_type": "code",
   "execution_count": null,
   "id": "d0a5d8a1",
   "metadata": {
    "ExecuteTime": {
     "start_time": "2023-06-10T08:40:05.423Z"
    }
   },
   "outputs": [],
   "source": [
    "# SVM\n",
    "from sklearn.svm import SVC\n",
    "from sklearn.model_selection import train_test_split\n",
    "from sklearn.metrics import accuracy_score\n",
    "\n",
    "X = a1.iloc[:, 2:]  # 세번째 열부터 마지막 열까지 입력값\n",
    "y = a1.iloc[:, 0]  # 첫번째 열이 정답열\n",
    "\n",
    "\n",
    "# 학습 데이터와 테스트 데이터로 분리\n",
    "X_train, X_test, y_train, y_test = train_test_split(X, y, test_size=0.2, random_state=42)\n",
    "\n",
    "# Create and train the SVM model\n",
    "model = SVC()\n",
    "model.fit(X_train, y_train)\n",
    "\n",
    "# Make predictions on the test set\n",
    "y_pred = model.predict(X_test)\n",
    "\n",
    "# Evaluate accuracy\n",
    "accuracy = accuracy_score(y_test, y_pred)\n",
    "print(\"Accuracy:\", accuracy)"
   ]
  },
  {
   "cell_type": "code",
   "execution_count": null,
   "id": "ddb08f4d",
   "metadata": {
    "ExecuteTime": {
     "start_time": "2023-06-10T08:40:10.216Z"
    }
   },
   "outputs": [],
   "source": [
    "from sklearn.metrics import f1_score\n",
    "print(f1_score(y_test, y_pred_binary))"
   ]
  },
  {
   "cell_type": "code",
   "execution_count": null,
   "id": "77c389e0",
   "metadata": {
    "ExecuteTime": {
     "start_time": "2023-06-10T08:40:15.112Z"
    }
   },
   "outputs": [],
   "source": [
    "from sklearn.metrics import confusion_matrix\n",
    "\n",
    "# 혼동 행렬 계산\n",
    "cm = confusion_matrix(y_test, y_pred_binary)\n",
    "\n",
    "# CSI 계산\n",
    "tp = cm[1, 1]  # True Positive\n",
    "tn = cm[0, 0]  # True Negative\n",
    "fp = cm[0, 1]  # False Positive\n",
    "fn = cm[1, 0]  # False Negative\n",
    "\n",
    "csi = tp / (tp + fn + fp)\n",
    "print(\"CSI 점수:\", csi)"
   ]
  },
  {
   "cell_type": "code",
   "execution_count": null,
   "id": "668e5fc5",
   "metadata": {},
   "outputs": [],
   "source": []
  }
 ],
 "metadata": {
  "kernelspec": {
   "display_name": "Python 3 (ipykernel)",
   "language": "python",
   "name": "python3"
  },
  "language_info": {
   "codemirror_mode": {
    "name": "ipython",
    "version": 3
   },
   "file_extension": ".py",
   "mimetype": "text/x-python",
   "name": "python",
   "nbconvert_exporter": "python",
   "pygments_lexer": "ipython3",
   "version": "3.9.12"
  },
  "toc": {
   "base_numbering": 1,
   "nav_menu": {},
   "number_sections": false,
   "sideBar": true,
   "skip_h1_title": false,
   "title_cell": "Table of Contents",
   "title_sidebar": "Contents",
   "toc_cell": false,
   "toc_position": {},
   "toc_section_display": true,
   "toc_window_display": false
  },
  "varInspector": {
   "cols": {
    "lenName": 16,
    "lenType": 16,
    "lenVar": 40
   },
   "kernels_config": {
    "python": {
     "delete_cmd_postfix": "",
     "delete_cmd_prefix": "del ",
     "library": "var_list.py",
     "varRefreshCmd": "print(var_dic_list())"
    },
    "r": {
     "delete_cmd_postfix": ") ",
     "delete_cmd_prefix": "rm(",
     "library": "var_list.r",
     "varRefreshCmd": "cat(var_dic_list()) "
    }
   },
   "types_to_exclude": [
    "module",
    "function",
    "builtin_function_or_method",
    "instance",
    "_Feature"
   ],
   "window_display": false
  }
 },
 "nbformat": 4,
 "nbformat_minor": 5
}
