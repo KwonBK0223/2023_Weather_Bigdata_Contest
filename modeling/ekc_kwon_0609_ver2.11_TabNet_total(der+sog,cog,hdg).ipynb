{
 "cells": [
  {
   "cell_type": "code",
   "execution_count": 1,
   "id": "042d02b1",
   "metadata": {
    "ExecuteTime": {
     "end_time": "2023-06-13T11:10:14.171194Z",
     "start_time": "2023-06-13T11:10:09.692351Z"
    }
   },
   "outputs": [],
   "source": [
    "import pandas as pd\n",
    "import matplotlib.pyplot as plt"
   ]
  },
  {
   "cell_type": "code",
   "execution_count": 2,
   "id": "663e39e0",
   "metadata": {
    "ExecuteTime": {
     "end_time": "2023-06-13T11:10:15.909527Z",
     "start_time": "2023-06-13T11:10:14.171194Z"
    }
   },
   "outputs": [],
   "source": [
    "a = pd.read_csv(\"../기상청공모전/data/derivate_data.csv\")"
   ]
  },
  {
   "cell_type": "code",
   "execution_count": 3,
   "id": "c6e9c091",
   "metadata": {
    "ExecuteTime": {
     "end_time": "2023-06-13T11:10:15.956063Z",
     "start_time": "2023-06-13T11:10:15.909527Z"
    }
   },
   "outputs": [],
   "source": [
    "a1 = a.iloc[:,1:]"
   ]
  },
  {
   "cell_type": "code",
   "execution_count": 4,
   "id": "b28cf2c9",
   "metadata": {
    "ExecuteTime": {
     "end_time": "2023-06-13T11:10:16.222697Z",
     "start_time": "2023-06-13T11:10:15.956655Z"
    }
   },
   "outputs": [],
   "source": [
    "a1 = a1[a1[\"cog\"] != -99.9]\n",
    "a1 = a1[a1[\"hdg\"] != -99.9]\n",
    "a1 = a1[a1[\"hdg\"] != -99]"
   ]
  },
  {
   "cell_type": "code",
   "execution_count": 5,
   "id": "a24d1726",
   "metadata": {
    "ExecuteTime": {
     "end_time": "2023-06-13T11:10:16.254821Z",
     "start_time": "2023-06-13T11:10:16.222697Z"
    }
   },
   "outputs": [
    {
     "data": {
      "text/html": [
       "<div>\n",
       "<style scoped>\n",
       "    .dataframe tbody tr th:only-of-type {\n",
       "        vertical-align: middle;\n",
       "    }\n",
       "\n",
       "    .dataframe tbody tr th {\n",
       "        vertical-align: top;\n",
       "    }\n",
       "\n",
       "    .dataframe thead th {\n",
       "        text-align: right;\n",
       "    }\n",
       "</style>\n",
       "<table border=\"1\" class=\"dataframe\">\n",
       "  <thead>\n",
       "    <tr style=\"text-align: right;\">\n",
       "      <th></th>\n",
       "      <th>anchor_drag</th>\n",
       "      <th>num</th>\n",
       "      <th>latitude</th>\n",
       "      <th>longitude</th>\n",
       "      <th>sog</th>\n",
       "      <th>cog</th>\n",
       "      <th>hdg</th>\n",
       "      <th>d_lati</th>\n",
       "      <th>d_long</th>\n",
       "      <th>d_d_lati</th>\n",
       "      <th>d_d_long</th>\n",
       "    </tr>\n",
       "  </thead>\n",
       "  <tbody>\n",
       "    <tr>\n",
       "      <th>0</th>\n",
       "      <td>0</td>\n",
       "      <td>1001</td>\n",
       "      <td>35.461472</td>\n",
       "      <td>129.439878</td>\n",
       "      <td>0.4</td>\n",
       "      <td>9.6</td>\n",
       "      <td>273.0</td>\n",
       "      <td>0.000312</td>\n",
       "      <td>0.000333</td>\n",
       "      <td>0.000342</td>\n",
       "      <td>0.000342</td>\n",
       "    </tr>\n",
       "    <tr>\n",
       "      <th>1</th>\n",
       "      <td>0</td>\n",
       "      <td>1001</td>\n",
       "      <td>35.461688</td>\n",
       "      <td>129.439792</td>\n",
       "      <td>0.2</td>\n",
       "      <td>328.0</td>\n",
       "      <td>267.0</td>\n",
       "      <td>0.000216</td>\n",
       "      <td>-0.000086</td>\n",
       "      <td>-0.000096</td>\n",
       "      <td>-0.000096</td>\n",
       "    </tr>\n",
       "    <tr>\n",
       "      <th>2</th>\n",
       "      <td>0</td>\n",
       "      <td>1001</td>\n",
       "      <td>35.461708</td>\n",
       "      <td>129.439733</td>\n",
       "      <td>0.2</td>\n",
       "      <td>260.1</td>\n",
       "      <td>265.0</td>\n",
       "      <td>0.000020</td>\n",
       "      <td>-0.000059</td>\n",
       "      <td>-0.000196</td>\n",
       "      <td>-0.000196</td>\n",
       "    </tr>\n",
       "    <tr>\n",
       "      <th>3</th>\n",
       "      <td>0</td>\n",
       "      <td>1001</td>\n",
       "      <td>35.461720</td>\n",
       "      <td>129.439708</td>\n",
       "      <td>0.1</td>\n",
       "      <td>262.8</td>\n",
       "      <td>270.0</td>\n",
       "      <td>0.000012</td>\n",
       "      <td>-0.000025</td>\n",
       "      <td>-0.000008</td>\n",
       "      <td>-0.000008</td>\n",
       "    </tr>\n",
       "    <tr>\n",
       "      <th>4</th>\n",
       "      <td>0</td>\n",
       "      <td>1001</td>\n",
       "      <td>35.461733</td>\n",
       "      <td>129.439717</td>\n",
       "      <td>0.3</td>\n",
       "      <td>277.6</td>\n",
       "      <td>273.0</td>\n",
       "      <td>0.000013</td>\n",
       "      <td>0.000009</td>\n",
       "      <td>0.000001</td>\n",
       "      <td>0.000001</td>\n",
       "    </tr>\n",
       "    <tr>\n",
       "      <th>...</th>\n",
       "      <td>...</td>\n",
       "      <td>...</td>\n",
       "      <td>...</td>\n",
       "      <td>...</td>\n",
       "      <td>...</td>\n",
       "      <td>...</td>\n",
       "      <td>...</td>\n",
       "      <td>...</td>\n",
       "      <td>...</td>\n",
       "      <td>...</td>\n",
       "      <td>...</td>\n",
       "    </tr>\n",
       "    <tr>\n",
       "      <th>681435</th>\n",
       "      <td>1</td>\n",
       "      <td>4087</td>\n",
       "      <td>35.053083</td>\n",
       "      <td>129.061333</td>\n",
       "      <td>1.3</td>\n",
       "      <td>26.0</td>\n",
       "      <td>97.0</td>\n",
       "      <td>0.000033</td>\n",
       "      <td>0.000016</td>\n",
       "      <td>-0.000017</td>\n",
       "      <td>-0.000017</td>\n",
       "    </tr>\n",
       "    <tr>\n",
       "      <th>681436</th>\n",
       "      <td>1</td>\n",
       "      <td>4087</td>\n",
       "      <td>35.053083</td>\n",
       "      <td>129.061333</td>\n",
       "      <td>1.3</td>\n",
       "      <td>29.0</td>\n",
       "      <td>99.0</td>\n",
       "      <td>0.000000</td>\n",
       "      <td>0.000000</td>\n",
       "      <td>-0.000033</td>\n",
       "      <td>-0.000033</td>\n",
       "    </tr>\n",
       "    <tr>\n",
       "      <th>681437</th>\n",
       "      <td>1</td>\n",
       "      <td>4087</td>\n",
       "      <td>35.053117</td>\n",
       "      <td>129.061400</td>\n",
       "      <td>1.2</td>\n",
       "      <td>48.0</td>\n",
       "      <td>106.0</td>\n",
       "      <td>0.000034</td>\n",
       "      <td>0.000067</td>\n",
       "      <td>0.000034</td>\n",
       "      <td>0.000034</td>\n",
       "    </tr>\n",
       "    <tr>\n",
       "      <th>681438</th>\n",
       "      <td>1</td>\n",
       "      <td>4087</td>\n",
       "      <td>35.053117</td>\n",
       "      <td>129.061417</td>\n",
       "      <td>1.2</td>\n",
       "      <td>52.0</td>\n",
       "      <td>108.0</td>\n",
       "      <td>0.000000</td>\n",
       "      <td>0.000017</td>\n",
       "      <td>-0.000034</td>\n",
       "      <td>-0.000034</td>\n",
       "    </tr>\n",
       "    <tr>\n",
       "      <th>681439</th>\n",
       "      <td>1</td>\n",
       "      <td>4087</td>\n",
       "      <td>35.053133</td>\n",
       "      <td>129.061500</td>\n",
       "      <td>1.2</td>\n",
       "      <td>80.0</td>\n",
       "      <td>116.0</td>\n",
       "      <td>0.000016</td>\n",
       "      <td>0.000083</td>\n",
       "      <td>0.000016</td>\n",
       "      <td>0.000016</td>\n",
       "    </tr>\n",
       "  </tbody>\n",
       "</table>\n",
       "<p>662403 rows × 11 columns</p>\n",
       "</div>"
      ],
      "text/plain": [
       "        anchor_drag   num   latitude   longitude  sog    cog    hdg    d_lati  \\\n",
       "0                 0  1001  35.461472  129.439878  0.4    9.6  273.0  0.000312   \n",
       "1                 0  1001  35.461688  129.439792  0.2  328.0  267.0  0.000216   \n",
       "2                 0  1001  35.461708  129.439733  0.2  260.1  265.0  0.000020   \n",
       "3                 0  1001  35.461720  129.439708  0.1  262.8  270.0  0.000012   \n",
       "4                 0  1001  35.461733  129.439717  0.3  277.6  273.0  0.000013   \n",
       "...             ...   ...        ...         ...  ...    ...    ...       ...   \n",
       "681435            1  4087  35.053083  129.061333  1.3   26.0   97.0  0.000033   \n",
       "681436            1  4087  35.053083  129.061333  1.3   29.0   99.0  0.000000   \n",
       "681437            1  4087  35.053117  129.061400  1.2   48.0  106.0  0.000034   \n",
       "681438            1  4087  35.053117  129.061417  1.2   52.0  108.0  0.000000   \n",
       "681439            1  4087  35.053133  129.061500  1.2   80.0  116.0  0.000016   \n",
       "\n",
       "          d_long  d_d_lati  d_d_long  \n",
       "0       0.000333  0.000342  0.000342  \n",
       "1      -0.000086 -0.000096 -0.000096  \n",
       "2      -0.000059 -0.000196 -0.000196  \n",
       "3      -0.000025 -0.000008 -0.000008  \n",
       "4       0.000009  0.000001  0.000001  \n",
       "...          ...       ...       ...  \n",
       "681435  0.000016 -0.000017 -0.000017  \n",
       "681436  0.000000 -0.000033 -0.000033  \n",
       "681437  0.000067  0.000034  0.000034  \n",
       "681438  0.000017 -0.000034 -0.000034  \n",
       "681439  0.000083  0.000016  0.000016  \n",
       "\n",
       "[662403 rows x 11 columns]"
      ]
     },
     "execution_count": 5,
     "metadata": {},
     "output_type": "execute_result"
    }
   ],
   "source": [
    "a1"
   ]
  },
  {
   "cell_type": "code",
   "execution_count": 6,
   "id": "d0a5d8a1",
   "metadata": {
    "ExecuteTime": {
     "end_time": "2023-06-13T11:25:35.048993Z",
     "start_time": "2023-06-13T11:10:16.257814Z"
    }
   },
   "outputs": [
    {
     "name": "stderr",
     "output_type": "stream",
     "text": [
      "C:\\Annaconda3\\lib\\site-packages\\pytorch_tabnet\\abstract_model.py:75: UserWarning: Device used : cpu\n",
      "  warnings.warn(f\"Device used : {self.device}\")\n"
     ]
    },
    {
     "name": "stdout",
     "output_type": "stream",
     "text": [
      "epoch 0  | loss: 0.06764 | val_0_auc: 0.70118 |  0:00:44s\n",
      "epoch 1  | loss: 0.06052 | val_0_auc: 0.91772 |  0:01:29s\n",
      "epoch 2  | loss: 0.05923 | val_0_auc: 0.89716 |  0:02:12s\n",
      "epoch 3  | loss: 0.05737 | val_0_auc: 0.91015 |  0:02:54s\n",
      "epoch 4  | loss: 0.05776 | val_0_auc: 0.92388 |  0:03:39s\n",
      "epoch 5  | loss: 0.05652 | val_0_auc: 0.91914 |  0:04:22s\n",
      "epoch 6  | loss: 0.05552 | val_0_auc: 0.93485 |  0:05:04s\n",
      "epoch 7  | loss: 0.0547  | val_0_auc: 0.88952 |  0:05:47s\n",
      "epoch 8  | loss: 0.05403 | val_0_auc: 0.93528 |  0:06:29s\n",
      "epoch 9  | loss: 0.05268 | val_0_auc: 0.94369 |  0:07:11s\n",
      "epoch 10 | loss: 0.05269 | val_0_auc: 0.93867 |  0:07:54s\n",
      "epoch 11 | loss: 0.05208 | val_0_auc: 0.88189 |  0:08:36s\n",
      "epoch 12 | loss: 0.05172 | val_0_auc: 0.94276 |  0:09:28s\n",
      "epoch 13 | loss: 0.05107 | val_0_auc: 0.93799 |  0:10:15s\n",
      "epoch 14 | loss: 0.05087 | val_0_auc: 0.94356 |  0:10:58s\n",
      "epoch 15 | loss: 0.05085 | val_0_auc: 0.93815 |  0:11:41s\n",
      "epoch 16 | loss: 0.05055 | val_0_auc: 0.94226 |  0:12:24s\n",
      "epoch 17 | loss: 0.05051 | val_0_auc: 0.89515 |  0:13:07s\n",
      "epoch 18 | loss: 0.05027 | val_0_auc: 0.90998 |  0:13:55s\n",
      "epoch 19 | loss: 0.0497  | val_0_auc: 0.93347 |  0:14:38s\n",
      "\n",
      "Early stopping occurred at epoch 19 with best_epoch = 9 and best_val_0_auc = 0.94369\n"
     ]
    },
    {
     "name": "stderr",
     "output_type": "stream",
     "text": [
      "C:\\Annaconda3\\lib\\site-packages\\pytorch_tabnet\\callbacks.py:172: UserWarning: Best weights from best epoch are automatically used!\n",
      "  warnings.warn(wrn_msg)\n"
     ]
    },
    {
     "name": "stdout",
     "output_type": "stream",
     "text": [
      "정확도: 0.9844204074546539\n"
     ]
    }
   ],
   "source": [
    "from pytorch_tabnet.tab_model import TabNetClassifier\n",
    "from sklearn.model_selection import train_test_split\n",
    "from sklearn.metrics import accuracy_score\n",
    "\n",
    "X = a1.iloc[:, 2:]  # 세번째 열부터 마지막 열까지 입력값\n",
    "y = a1.iloc[:, 0]  # 첫번째 열이 정답열\n",
    "\n",
    "# 학습 데이터와 테스트 데이터로 분리\n",
    "X_train, X_test, y_train, y_test = train_test_split(X, y, test_size=0.2, random_state=42)\n",
    "\n",
    "# TabNet 모델 학습\n",
    "model = TabNetClassifier()\n",
    "model.fit(X_train.values, y_train.values, eval_set=[(X_test.values, y_test.values)])\n",
    "\n",
    "# 테스트 데이터 예측\n",
    "y_pred = model.predict(X_test.values)\n",
    "\n",
    "# 정확도 평가\n",
    "accuracy = accuracy_score(y_test.values, y_pred)\n",
    "print(\"정확도:\", accuracy)"
   ]
  },
  {
   "cell_type": "code",
   "execution_count": 10,
   "id": "be84929d",
   "metadata": {
    "ExecuteTime": {
     "end_time": "2023-06-13T11:27:07.270017Z",
     "start_time": "2023-06-13T11:27:07.218870Z"
    }
   },
   "outputs": [
    {
     "name": "stdout",
     "output_type": "stream",
     "text": [
      "F1 점수: 0.47693867207298535\n"
     ]
    }
   ],
   "source": [
    "from sklearn.metrics import f1_score\n",
    "# F1 점수 계산\n",
    "f1 = f1_score(y_test.values, y_pred)\n",
    "print(\"F1 점수:\", f1)"
   ]
  },
  {
   "cell_type": "code",
   "execution_count": 11,
   "id": "72602f73",
   "metadata": {
    "ExecuteTime": {
     "end_time": "2023-06-13T11:28:16.682909Z",
     "start_time": "2023-06-13T11:28:16.642706Z"
    }
   },
   "outputs": [
    {
     "name": "stdout",
     "output_type": "stream",
     "text": [
      "CSI 점수: 0.9039385206532181\n"
     ]
    }
   ],
   "source": [
    "# CSI 점수 계산\n",
    "tp = sum((y_test == 1) & (y_pred == 1))\n",
    "fp = sum((y_test == 0) & (y_pred == 1))\n",
    "csi = tp / (tp + fp)\n",
    "print(\"CSI 점수:\", csi)"
   ]
  }
 ],
 "metadata": {
  "kernelspec": {
   "display_name": "Python 3 (ipykernel)",
   "language": "python",
   "name": "python3"
  },
  "language_info": {
   "codemirror_mode": {
    "name": "ipython",
    "version": 3
   },
   "file_extension": ".py",
   "mimetype": "text/x-python",
   "name": "python",
   "nbconvert_exporter": "python",
   "pygments_lexer": "ipython3",
   "version": "3.9.12"
  },
  "toc": {
   "base_numbering": 1,
   "nav_menu": {},
   "number_sections": false,
   "sideBar": true,
   "skip_h1_title": false,
   "title_cell": "Table of Contents",
   "title_sidebar": "Contents",
   "toc_cell": false,
   "toc_position": {},
   "toc_section_display": true,
   "toc_window_display": false
  },
  "varInspector": {
   "cols": {
    "lenName": 16,
    "lenType": 16,
    "lenVar": 40
   },
   "kernels_config": {
    "python": {
     "delete_cmd_postfix": "",
     "delete_cmd_prefix": "del ",
     "library": "var_list.py",
     "varRefreshCmd": "print(var_dic_list())"
    },
    "r": {
     "delete_cmd_postfix": ") ",
     "delete_cmd_prefix": "rm(",
     "library": "var_list.r",
     "varRefreshCmd": "cat(var_dic_list()) "
    }
   },
   "types_to_exclude": [
    "module",
    "function",
    "builtin_function_or_method",
    "instance",
    "_Feature"
   ],
   "window_display": false
  }
 },
 "nbformat": 4,
 "nbformat_minor": 5
}
